{
 "cells": [
  {
   "cell_type": "code",
   "execution_count": 1,
   "id": "d0547819",
   "metadata": {
    "_cell_guid": "b1076dfc-b9ad-4769-8c92-a6c4dae69d19",
    "_uuid": "8f2839f25d086af736a60e9eeb907d3b93b6e0e5",
    "execution": {
     "iopub.execute_input": "2024-05-10T19:36:56.460440Z",
     "iopub.status.busy": "2024-05-10T19:36:56.460161Z",
     "iopub.status.idle": "2024-05-10T19:37:04.544059Z",
     "shell.execute_reply": "2024-05-10T19:37:04.543291Z"
    },
    "papermill": {
     "duration": 8.096977,
     "end_time": "2024-05-10T19:37:04.546325",
     "exception": false,
     "start_time": "2024-05-10T19:36:56.449348",
     "status": "completed"
    },
    "tags": []
   },
   "outputs": [],
   "source": [
    "import torch\n",
    "from torch import nn\n",
    "from torch.utils.data import DataLoader, Dataset\n",
    "from transformers import AutoTokenizer, AutoModel, AdamW, get_linear_schedule_with_warmup\n",
    "from sklearn.model_selection import train_test_split\n",
    "from sklearn.metrics import accuracy_score, classification_report\n",
    "from sklearn.metrics import accuracy_score, recall_score, precision_score, f1_score, roc_auc_score\n",
    "import pandas as pd\n",
    "from collections import deque\n",
    "import matplotlib.pyplot as plt\n",
    "import numpy as np\n",
    "from datasets import load_dataset\n",
    "import torch.optim as optim\n",
    "import torch.nn.functional as F"
   ]
  },
  {
   "cell_type": "code",
   "execution_count": 2,
   "id": "d70d0adf",
   "metadata": {
    "execution": {
     "iopub.execute_input": "2024-05-10T19:37:04.567072Z",
     "iopub.status.busy": "2024-05-10T19:37:04.566583Z",
     "iopub.status.idle": "2024-05-10T19:37:07.287134Z",
     "shell.execute_reply": "2024-05-10T19:37:07.286075Z"
    },
    "papermill": {
     "duration": 2.733344,
     "end_time": "2024-05-10T19:37:07.289625",
     "exception": false,
     "start_time": "2024-05-10T19:37:04.556281",
     "status": "completed"
    },
    "tags": []
   },
   "outputs": [],
   "source": [
    "# Load Train, Validation, Test Dataset\n",
    "train_df = pd.read_csv('/kaggle/input/mp-ctc/MP_train.csv')\n",
    "val_df = pd.read_csv('/kaggle/input/mp-ctc/MP_val.csv')\n",
    "test_df = pd.read_csv('/kaggle/input/mp-ctc/MP_test.csv')"
   ]
  },
  {
   "cell_type": "code",
   "execution_count": 3,
   "id": "e2afd0fe",
   "metadata": {
    "execution": {
     "iopub.execute_input": "2024-05-10T19:37:07.310665Z",
     "iopub.status.busy": "2024-05-10T19:37:07.310315Z",
     "iopub.status.idle": "2024-05-10T19:37:07.326923Z",
     "shell.execute_reply": "2024-05-10T19:37:07.326058Z"
    },
    "papermill": {
     "duration": 0.028917,
     "end_time": "2024-05-10T19:37:07.328926",
     "exception": false,
     "start_time": "2024-05-10T19:37:07.300009",
     "status": "completed"
    },
    "tags": []
   },
   "outputs": [
    {
     "data": {
      "text/html": [
       "<div>\n",
       "<style scoped>\n",
       "    .dataframe tbody tr th:only-of-type {\n",
       "        vertical-align: middle;\n",
       "    }\n",
       "\n",
       "    .dataframe tbody tr th {\n",
       "        vertical-align: top;\n",
       "    }\n",
       "\n",
       "    .dataframe thead th {\n",
       "        text-align: right;\n",
       "    }\n",
       "</style>\n",
       "<table border=\"1\" class=\"dataframe\">\n",
       "  <thead>\n",
       "    <tr style=\"text-align: right;\">\n",
       "      <th></th>\n",
       "      <th>id</th>\n",
       "      <th>text</th>\n",
       "      <th>hospital_expire_flag</th>\n",
       "    </tr>\n",
       "  </thead>\n",
       "  <tbody>\n",
       "    <tr>\n",
       "      <th>0</th>\n",
       "      <td>107384</td>\n",
       "      <td>CHIEF COMPLAINT: AMS, concern for toxic alcoho...</td>\n",
       "      <td>0</td>\n",
       "    </tr>\n",
       "    <tr>\n",
       "      <th>1</th>\n",
       "      <td>101061</td>\n",
       "      <td>CHIEF COMPLAINT: abdominal pain\\n\\nPRESENT ILL...</td>\n",
       "      <td>0</td>\n",
       "    </tr>\n",
       "    <tr>\n",
       "      <th>2</th>\n",
       "      <td>127180</td>\n",
       "      <td>CHIEF COMPLAINT: Bilateral Sub Dural Hematoma\\...</td>\n",
       "      <td>0</td>\n",
       "    </tr>\n",
       "    <tr>\n",
       "      <th>3</th>\n",
       "      <td>168339</td>\n",
       "      <td>CHIEF COMPLAINT: Intracranial bleed\\n\\nPRESENT...</td>\n",
       "      <td>0</td>\n",
       "    </tr>\n",
       "    <tr>\n",
       "      <th>4</th>\n",
       "      <td>154044</td>\n",
       "      <td>CHIEF COMPLAINT: ischemic left foot\\n\\nPRESENT...</td>\n",
       "      <td>0</td>\n",
       "    </tr>\n",
       "  </tbody>\n",
       "</table>\n",
       "</div>"
      ],
      "text/plain": [
       "       id                                               text  \\\n",
       "0  107384  CHIEF COMPLAINT: AMS, concern for toxic alcoho...   \n",
       "1  101061  CHIEF COMPLAINT: abdominal pain\\n\\nPRESENT ILL...   \n",
       "2  127180  CHIEF COMPLAINT: Bilateral Sub Dural Hematoma\\...   \n",
       "3  168339  CHIEF COMPLAINT: Intracranial bleed\\n\\nPRESENT...   \n",
       "4  154044  CHIEF COMPLAINT: ischemic left foot\\n\\nPRESENT...   \n",
       "\n",
       "   hospital_expire_flag  \n",
       "0                     0  \n",
       "1                     0  \n",
       "2                     0  \n",
       "3                     0  \n",
       "4                     0  "
      ]
     },
     "execution_count": 3,
     "metadata": {},
     "output_type": "execute_result"
    }
   ],
   "source": [
    "train_df.head()"
   ]
  },
  {
   "cell_type": "code",
   "execution_count": 4,
   "id": "33a4b06f",
   "metadata": {
    "execution": {
     "iopub.execute_input": "2024-05-10T19:37:07.349334Z",
     "iopub.status.busy": "2024-05-10T19:37:07.349070Z",
     "iopub.status.idle": "2024-05-10T19:37:07.357550Z",
     "shell.execute_reply": "2024-05-10T19:37:07.356788Z"
    },
    "papermill": {
     "duration": 0.0207,
     "end_time": "2024-05-10T19:37:07.359467",
     "exception": false,
     "start_time": "2024-05-10T19:37:07.338767",
     "status": "completed"
    },
    "tags": []
   },
   "outputs": [
    {
     "data": {
      "text/html": [
       "<div>\n",
       "<style scoped>\n",
       "    .dataframe tbody tr th:only-of-type {\n",
       "        vertical-align: middle;\n",
       "    }\n",
       "\n",
       "    .dataframe tbody tr th {\n",
       "        vertical-align: top;\n",
       "    }\n",
       "\n",
       "    .dataframe thead th {\n",
       "        text-align: right;\n",
       "    }\n",
       "</style>\n",
       "<table border=\"1\" class=\"dataframe\">\n",
       "  <thead>\n",
       "    <tr style=\"text-align: right;\">\n",
       "      <th></th>\n",
       "      <th>id</th>\n",
       "      <th>text</th>\n",
       "      <th>hospital_expire_flag</th>\n",
       "    </tr>\n",
       "  </thead>\n",
       "  <tbody>\n",
       "    <tr>\n",
       "      <th>0</th>\n",
       "      <td>176763</td>\n",
       "      <td>CHIEF COMPLAINT: # Lethargy # Confusion # Hypo...</td>\n",
       "      <td>0</td>\n",
       "    </tr>\n",
       "    <tr>\n",
       "      <th>1</th>\n",
       "      <td>173211</td>\n",
       "      <td>CHIEF COMPLAINT: Dyspnea, LE edema\\n\\nPRESENT ...</td>\n",
       "      <td>0</td>\n",
       "    </tr>\n",
       "    <tr>\n",
       "      <th>2</th>\n",
       "      <td>116333</td>\n",
       "      <td>CHIEF COMPLAINT: upper GI bleed\\n\\nPRESENT ILL...</td>\n",
       "      <td>1</td>\n",
       "    </tr>\n",
       "    <tr>\n",
       "      <th>3</th>\n",
       "      <td>161102</td>\n",
       "      <td>CHIEF COMPLAINT: increased lethargy\\n\\nPRESENT...</td>\n",
       "      <td>0</td>\n",
       "    </tr>\n",
       "    <tr>\n",
       "      <th>4</th>\n",
       "      <td>116799</td>\n",
       "      <td>CHIEF COMPLAINT: s/p 18 ft fall\\n\\nPRESENT ILL...</td>\n",
       "      <td>0</td>\n",
       "    </tr>\n",
       "  </tbody>\n",
       "</table>\n",
       "</div>"
      ],
      "text/plain": [
       "       id                                               text  \\\n",
       "0  176763  CHIEF COMPLAINT: # Lethargy # Confusion # Hypo...   \n",
       "1  173211  CHIEF COMPLAINT: Dyspnea, LE edema\\n\\nPRESENT ...   \n",
       "2  116333  CHIEF COMPLAINT: upper GI bleed\\n\\nPRESENT ILL...   \n",
       "3  161102  CHIEF COMPLAINT: increased lethargy\\n\\nPRESENT...   \n",
       "4  116799  CHIEF COMPLAINT: s/p 18 ft fall\\n\\nPRESENT ILL...   \n",
       "\n",
       "   hospital_expire_flag  \n",
       "0                     0  \n",
       "1                     0  \n",
       "2                     1  \n",
       "3                     0  \n",
       "4                     0  "
      ]
     },
     "execution_count": 4,
     "metadata": {},
     "output_type": "execute_result"
    }
   ],
   "source": [
    "val_df.head()"
   ]
  },
  {
   "cell_type": "code",
   "execution_count": 5,
   "id": "86005f68",
   "metadata": {
    "execution": {
     "iopub.execute_input": "2024-05-10T19:37:07.380000Z",
     "iopub.status.busy": "2024-05-10T19:37:07.379745Z",
     "iopub.status.idle": "2024-05-10T19:37:07.390374Z",
     "shell.execute_reply": "2024-05-10T19:37:07.389599Z"
    },
    "papermill": {
     "duration": 0.022986,
     "end_time": "2024-05-10T19:37:07.392220",
     "exception": false,
     "start_time": "2024-05-10T19:37:07.369234",
     "status": "completed"
    },
    "tags": []
   },
   "outputs": [
    {
     "data": {
      "text/plain": [
       "hospital_expire_flag\n",
       "0    4390\n",
       "1     518\n",
       "Name: count, dtype: int64"
      ]
     },
     "execution_count": 5,
     "metadata": {},
     "output_type": "execute_result"
    }
   ],
   "source": [
    "val_df[\"hospital_expire_flag\"].value_counts()"
   ]
  },
  {
   "cell_type": "code",
   "execution_count": 6,
   "id": "bbebb9c3",
   "metadata": {
    "execution": {
     "iopub.execute_input": "2024-05-10T19:37:07.413053Z",
     "iopub.status.busy": "2024-05-10T19:37:07.412796Z",
     "iopub.status.idle": "2024-05-10T19:37:07.420725Z",
     "shell.execute_reply": "2024-05-10T19:37:07.419923Z"
    },
    "papermill": {
     "duration": 0.02046,
     "end_time": "2024-05-10T19:37:07.422684",
     "exception": false,
     "start_time": "2024-05-10T19:37:07.402224",
     "status": "completed"
    },
    "tags": []
   },
   "outputs": [
    {
     "data": {
      "text/html": [
       "<div>\n",
       "<style scoped>\n",
       "    .dataframe tbody tr th:only-of-type {\n",
       "        vertical-align: middle;\n",
       "    }\n",
       "\n",
       "    .dataframe tbody tr th {\n",
       "        vertical-align: top;\n",
       "    }\n",
       "\n",
       "    .dataframe thead th {\n",
       "        text-align: right;\n",
       "    }\n",
       "</style>\n",
       "<table border=\"1\" class=\"dataframe\">\n",
       "  <thead>\n",
       "    <tr style=\"text-align: right;\">\n",
       "      <th></th>\n",
       "      <th>id</th>\n",
       "      <th>text</th>\n",
       "      <th>hospital_expire_flag</th>\n",
       "    </tr>\n",
       "  </thead>\n",
       "  <tbody>\n",
       "    <tr>\n",
       "      <th>0</th>\n",
       "      <td>100058</td>\n",
       "      <td>CHIEF COMPLAINT: \\n\\nPRESENT ILLNESS: The pati...</td>\n",
       "      <td>0</td>\n",
       "    </tr>\n",
       "    <tr>\n",
       "      <th>1</th>\n",
       "      <td>124871</td>\n",
       "      <td>CHIEF COMPLAINT: shortness of breath\\n\\nPRESEN...</td>\n",
       "      <td>0</td>\n",
       "    </tr>\n",
       "    <tr>\n",
       "      <th>2</th>\n",
       "      <td>109159</td>\n",
       "      <td>CHIEF COMPLAINT: s/p mechanical fall\\n\\nPRESEN...</td>\n",
       "      <td>0</td>\n",
       "    </tr>\n",
       "    <tr>\n",
       "      <th>3</th>\n",
       "      <td>159161</td>\n",
       "      <td>CHIEF COMPLAINT: nausea and vomiting\\n\\nPRESEN...</td>\n",
       "      <td>0</td>\n",
       "    </tr>\n",
       "    <tr>\n",
       "      <th>4</th>\n",
       "      <td>109863</td>\n",
       "      <td>CHIEF COMPLAINT: \\n\\nPRESENT ILLNESS: The pati...</td>\n",
       "      <td>1</td>\n",
       "    </tr>\n",
       "  </tbody>\n",
       "</table>\n",
       "</div>"
      ],
      "text/plain": [
       "       id                                               text  \\\n",
       "0  100058  CHIEF COMPLAINT: \\n\\nPRESENT ILLNESS: The pati...   \n",
       "1  124871  CHIEF COMPLAINT: shortness of breath\\n\\nPRESEN...   \n",
       "2  109159  CHIEF COMPLAINT: s/p mechanical fall\\n\\nPRESEN...   \n",
       "3  159161  CHIEF COMPLAINT: nausea and vomiting\\n\\nPRESEN...   \n",
       "4  109863  CHIEF COMPLAINT: \\n\\nPRESENT ILLNESS: The pati...   \n",
       "\n",
       "   hospital_expire_flag  \n",
       "0                     0  \n",
       "1                     0  \n",
       "2                     0  \n",
       "3                     0  \n",
       "4                     1  "
      ]
     },
     "execution_count": 6,
     "metadata": {},
     "output_type": "execute_result"
    }
   ],
   "source": [
    "test_df.head()"
   ]
  },
  {
   "cell_type": "code",
   "execution_count": 7,
   "id": "030b0802",
   "metadata": {
    "execution": {
     "iopub.execute_input": "2024-05-10T19:37:07.444900Z",
     "iopub.status.busy": "2024-05-10T19:37:07.444637Z",
     "iopub.status.idle": "2024-05-10T19:37:07.451425Z",
     "shell.execute_reply": "2024-05-10T19:37:07.450586Z"
    },
    "papermill": {
     "duration": 0.019745,
     "end_time": "2024-05-10T19:37:07.453433",
     "exception": false,
     "start_time": "2024-05-10T19:37:07.433688",
     "status": "completed"
    },
    "tags": []
   },
   "outputs": [
    {
     "data": {
      "text/plain": [
       "2"
      ]
     },
     "execution_count": 7,
     "metadata": {},
     "output_type": "execute_result"
    }
   ],
   "source": [
    "train_df['hospital_expire_flag'].nunique()"
   ]
  },
  {
   "cell_type": "code",
   "execution_count": 8,
   "id": "06faaf22",
   "metadata": {
    "execution": {
     "iopub.execute_input": "2024-05-10T19:37:07.475998Z",
     "iopub.status.busy": "2024-05-10T19:37:07.475736Z",
     "iopub.status.idle": "2024-05-10T19:37:07.481511Z",
     "shell.execute_reply": "2024-05-10T19:37:07.480725Z"
    },
    "papermill": {
     "duration": 0.019731,
     "end_time": "2024-05-10T19:37:07.483391",
     "exception": false,
     "start_time": "2024-05-10T19:37:07.463660",
     "status": "completed"
    },
    "tags": []
   },
   "outputs": [
    {
     "data": {
      "text/plain": [
       "2"
      ]
     },
     "execution_count": 8,
     "metadata": {},
     "output_type": "execute_result"
    }
   ],
   "source": [
    "val_df['hospital_expire_flag'].nunique()"
   ]
  },
  {
   "cell_type": "code",
   "execution_count": 9,
   "id": "c143d5d6",
   "metadata": {
    "execution": {
     "iopub.execute_input": "2024-05-10T19:37:07.505443Z",
     "iopub.status.busy": "2024-05-10T19:37:07.505179Z",
     "iopub.status.idle": "2024-05-10T19:37:07.510597Z",
     "shell.execute_reply": "2024-05-10T19:37:07.509901Z"
    },
    "papermill": {
     "duration": 0.018301,
     "end_time": "2024-05-10T19:37:07.512445",
     "exception": false,
     "start_time": "2024-05-10T19:37:07.494144",
     "status": "completed"
    },
    "tags": []
   },
   "outputs": [
    {
     "data": {
      "text/plain": [
       "2"
      ]
     },
     "execution_count": 9,
     "metadata": {},
     "output_type": "execute_result"
    }
   ],
   "source": [
    "test_df['hospital_expire_flag'].nunique()"
   ]
  },
  {
   "cell_type": "code",
   "execution_count": 10,
   "id": "4334c55f",
   "metadata": {
    "execution": {
     "iopub.execute_input": "2024-05-10T19:37:07.534395Z",
     "iopub.status.busy": "2024-05-10T19:37:07.534138Z",
     "iopub.status.idle": "2024-05-10T19:37:07.545294Z",
     "shell.execute_reply": "2024-05-10T19:37:07.544653Z"
    },
    "papermill": {
     "duration": 0.024251,
     "end_time": "2024-05-10T19:37:07.547087",
     "exception": false,
     "start_time": "2024-05-10T19:37:07.522836",
     "status": "completed"
    },
    "tags": []
   },
   "outputs": [],
   "source": [
    "train_df.drop(columns=['id'], inplace=True)\n",
    "val_df.drop(columns=['id'], inplace=True)\n",
    "test_df.drop(columns=['id'], inplace=True)"
   ]
  },
  {
   "cell_type": "code",
   "execution_count": 11,
   "id": "0ff83cad",
   "metadata": {
    "execution": {
     "iopub.execute_input": "2024-05-10T19:37:07.568703Z",
     "iopub.status.busy": "2024-05-10T19:37:07.568432Z",
     "iopub.status.idle": "2024-05-10T19:37:07.576052Z",
     "shell.execute_reply": "2024-05-10T19:37:07.575228Z"
    },
    "papermill": {
     "duration": 0.020496,
     "end_time": "2024-05-10T19:37:07.577964",
     "exception": false,
     "start_time": "2024-05-10T19:37:07.557468",
     "status": "completed"
    },
    "tags": []
   },
   "outputs": [
    {
     "data": {
      "text/html": [
       "<div>\n",
       "<style scoped>\n",
       "    .dataframe tbody tr th:only-of-type {\n",
       "        vertical-align: middle;\n",
       "    }\n",
       "\n",
       "    .dataframe tbody tr th {\n",
       "        vertical-align: top;\n",
       "    }\n",
       "\n",
       "    .dataframe thead th {\n",
       "        text-align: right;\n",
       "    }\n",
       "</style>\n",
       "<table border=\"1\" class=\"dataframe\">\n",
       "  <thead>\n",
       "    <tr style=\"text-align: right;\">\n",
       "      <th></th>\n",
       "      <th>text</th>\n",
       "      <th>hospital_expire_flag</th>\n",
       "    </tr>\n",
       "  </thead>\n",
       "  <tbody>\n",
       "    <tr>\n",
       "      <th>0</th>\n",
       "      <td>CHIEF COMPLAINT: AMS, concern for toxic alcoho...</td>\n",
       "      <td>0</td>\n",
       "    </tr>\n",
       "    <tr>\n",
       "      <th>1</th>\n",
       "      <td>CHIEF COMPLAINT: abdominal pain\\n\\nPRESENT ILL...</td>\n",
       "      <td>0</td>\n",
       "    </tr>\n",
       "    <tr>\n",
       "      <th>2</th>\n",
       "      <td>CHIEF COMPLAINT: Bilateral Sub Dural Hematoma\\...</td>\n",
       "      <td>0</td>\n",
       "    </tr>\n",
       "    <tr>\n",
       "      <th>3</th>\n",
       "      <td>CHIEF COMPLAINT: Intracranial bleed\\n\\nPRESENT...</td>\n",
       "      <td>0</td>\n",
       "    </tr>\n",
       "    <tr>\n",
       "      <th>4</th>\n",
       "      <td>CHIEF COMPLAINT: ischemic left foot\\n\\nPRESENT...</td>\n",
       "      <td>0</td>\n",
       "    </tr>\n",
       "  </tbody>\n",
       "</table>\n",
       "</div>"
      ],
      "text/plain": [
       "                                                text  hospital_expire_flag\n",
       "0  CHIEF COMPLAINT: AMS, concern for toxic alcoho...                     0\n",
       "1  CHIEF COMPLAINT: abdominal pain\\n\\nPRESENT ILL...                     0\n",
       "2  CHIEF COMPLAINT: Bilateral Sub Dural Hematoma\\...                     0\n",
       "3  CHIEF COMPLAINT: Intracranial bleed\\n\\nPRESENT...                     0\n",
       "4  CHIEF COMPLAINT: ischemic left foot\\n\\nPRESENT...                     0"
      ]
     },
     "execution_count": 11,
     "metadata": {},
     "output_type": "execute_result"
    }
   ],
   "source": [
    "train_df.head()"
   ]
  },
  {
   "cell_type": "code",
   "execution_count": 12,
   "id": "fe70d798",
   "metadata": {
    "execution": {
     "iopub.execute_input": "2024-05-10T19:37:07.600505Z",
     "iopub.status.busy": "2024-05-10T19:37:07.600044Z",
     "iopub.status.idle": "2024-05-10T19:37:07.608304Z",
     "shell.execute_reply": "2024-05-10T19:37:07.607306Z"
    },
    "papermill": {
     "duration": 0.0217,
     "end_time": "2024-05-10T19:37:07.610345",
     "exception": false,
     "start_time": "2024-05-10T19:37:07.588645",
     "status": "completed"
    },
    "tags": []
   },
   "outputs": [
    {
     "data": {
      "text/html": [
       "<div>\n",
       "<style scoped>\n",
       "    .dataframe tbody tr th:only-of-type {\n",
       "        vertical-align: middle;\n",
       "    }\n",
       "\n",
       "    .dataframe tbody tr th {\n",
       "        vertical-align: top;\n",
       "    }\n",
       "\n",
       "    .dataframe thead th {\n",
       "        text-align: right;\n",
       "    }\n",
       "</style>\n",
       "<table border=\"1\" class=\"dataframe\">\n",
       "  <thead>\n",
       "    <tr style=\"text-align: right;\">\n",
       "      <th></th>\n",
       "      <th>text</th>\n",
       "      <th>hospital_expire_flag</th>\n",
       "    </tr>\n",
       "  </thead>\n",
       "  <tbody>\n",
       "    <tr>\n",
       "      <th>0</th>\n",
       "      <td>CHIEF COMPLAINT: \\n\\nPRESENT ILLNESS: The pati...</td>\n",
       "      <td>0</td>\n",
       "    </tr>\n",
       "    <tr>\n",
       "      <th>1</th>\n",
       "      <td>CHIEF COMPLAINT: shortness of breath\\n\\nPRESEN...</td>\n",
       "      <td>0</td>\n",
       "    </tr>\n",
       "    <tr>\n",
       "      <th>2</th>\n",
       "      <td>CHIEF COMPLAINT: s/p mechanical fall\\n\\nPRESEN...</td>\n",
       "      <td>0</td>\n",
       "    </tr>\n",
       "    <tr>\n",
       "      <th>3</th>\n",
       "      <td>CHIEF COMPLAINT: nausea and vomiting\\n\\nPRESEN...</td>\n",
       "      <td>0</td>\n",
       "    </tr>\n",
       "    <tr>\n",
       "      <th>4</th>\n",
       "      <td>CHIEF COMPLAINT: \\n\\nPRESENT ILLNESS: The pati...</td>\n",
       "      <td>1</td>\n",
       "    </tr>\n",
       "  </tbody>\n",
       "</table>\n",
       "</div>"
      ],
      "text/plain": [
       "                                                text  hospital_expire_flag\n",
       "0  CHIEF COMPLAINT: \\n\\nPRESENT ILLNESS: The pati...                     0\n",
       "1  CHIEF COMPLAINT: shortness of breath\\n\\nPRESEN...                     0\n",
       "2  CHIEF COMPLAINT: s/p mechanical fall\\n\\nPRESEN...                     0\n",
       "3  CHIEF COMPLAINT: nausea and vomiting\\n\\nPRESEN...                     0\n",
       "4  CHIEF COMPLAINT: \\n\\nPRESENT ILLNESS: The pati...                     1"
      ]
     },
     "execution_count": 12,
     "metadata": {},
     "output_type": "execute_result"
    }
   ],
   "source": [
    "test_df.head()"
   ]
  },
  {
   "cell_type": "code",
   "execution_count": 13,
   "id": "82e76ee9",
   "metadata": {
    "execution": {
     "iopub.execute_input": "2024-05-10T19:37:07.635045Z",
     "iopub.status.busy": "2024-05-10T19:37:07.634499Z",
     "iopub.status.idle": "2024-05-10T19:37:07.639566Z",
     "shell.execute_reply": "2024-05-10T19:37:07.638783Z"
    },
    "papermill": {
     "duration": 0.018748,
     "end_time": "2024-05-10T19:37:07.641450",
     "exception": false,
     "start_time": "2024-05-10T19:37:07.622702",
     "status": "completed"
    },
    "tags": []
   },
   "outputs": [
    {
     "data": {
      "text/plain": [
       "(33954, 2)"
      ]
     },
     "execution_count": 13,
     "metadata": {},
     "output_type": "execute_result"
    }
   ],
   "source": [
    "train_df.shape"
   ]
  },
  {
   "cell_type": "code",
   "execution_count": 14,
   "id": "54ed1722",
   "metadata": {
    "execution": {
     "iopub.execute_input": "2024-05-10T19:37:07.664362Z",
     "iopub.status.busy": "2024-05-10T19:37:07.664106Z",
     "iopub.status.idle": "2024-05-10T19:37:07.669467Z",
     "shell.execute_reply": "2024-05-10T19:37:07.668642Z"
    },
    "papermill": {
     "duration": 0.019023,
     "end_time": "2024-05-10T19:37:07.671456",
     "exception": false,
     "start_time": "2024-05-10T19:37:07.652433",
     "status": "completed"
    },
    "tags": []
   },
   "outputs": [
    {
     "data": {
      "text/plain": [
       "(4908, 2)"
      ]
     },
     "execution_count": 14,
     "metadata": {},
     "output_type": "execute_result"
    }
   ],
   "source": [
    "val_df.shape"
   ]
  },
  {
   "cell_type": "code",
   "execution_count": 15,
   "id": "237e1afe",
   "metadata": {
    "execution": {
     "iopub.execute_input": "2024-05-10T19:37:07.695292Z",
     "iopub.status.busy": "2024-05-10T19:37:07.694746Z",
     "iopub.status.idle": "2024-05-10T19:37:07.699854Z",
     "shell.execute_reply": "2024-05-10T19:37:07.699077Z"
    },
    "papermill": {
     "duration": 0.019002,
     "end_time": "2024-05-10T19:37:07.701778",
     "exception": false,
     "start_time": "2024-05-10T19:37:07.682776",
     "status": "completed"
    },
    "tags": []
   },
   "outputs": [
    {
     "data": {
      "text/plain": [
       "(9822, 2)"
      ]
     },
     "execution_count": 15,
     "metadata": {},
     "output_type": "execute_result"
    }
   ],
   "source": [
    "test_df.shape"
   ]
  },
  {
   "cell_type": "markdown",
   "id": "ffb2955b",
   "metadata": {
    "papermill": {
     "duration": 0.011626,
     "end_time": "2024-05-10T19:37:07.724858",
     "exception": false,
     "start_time": "2024-05-10T19:37:07.713232",
     "status": "completed"
    },
    "tags": []
   },
   "source": [
    "## RRP(Remove Repeated Punctuation)"
   ]
  },
  {
   "cell_type": "code",
   "execution_count": 16,
   "id": "aff3ca7f",
   "metadata": {
    "execution": {
     "iopub.execute_input": "2024-05-10T19:37:07.748410Z",
     "iopub.status.busy": "2024-05-10T19:37:07.748156Z",
     "iopub.status.idle": "2024-05-10T19:37:07.753458Z",
     "shell.execute_reply": "2024-05-10T19:37:07.752670Z"
    },
    "papermill": {
     "duration": 0.019173,
     "end_time": "2024-05-10T19:37:07.755310",
     "exception": false,
     "start_time": "2024-05-10T19:37:07.736137",
     "status": "completed"
    },
    "tags": []
   },
   "outputs": [],
   "source": [
    "import string\n",
    "# Removing Repeated Punctuations\n",
    "def remove_repeated_punctuation(text):\n",
    "    punctuations = set(string.punctuation)\n",
    "    cleaned_text = []\n",
    "    for char in text:\n",
    "        if char in punctuations:\n",
    "            punctuations.remove(char)\n",
    "            cleaned_text.append(char)\n",
    "        elif char not in punctuations:\n",
    "            punctuations = set(string.punctuation)\n",
    "            cleaned_text.append(char)\n",
    "    return ''.join(cleaned_text)\n"
   ]
  },
  {
   "cell_type": "code",
   "execution_count": 17,
   "id": "f4ecf004",
   "metadata": {
    "execution": {
     "iopub.execute_input": "2024-05-10T19:37:07.778719Z",
     "iopub.status.busy": "2024-05-10T19:37:07.778446Z",
     "iopub.status.idle": "2024-05-10T19:39:34.803886Z",
     "shell.execute_reply": "2024-05-10T19:39:34.802898Z"
    },
    "papermill": {
     "duration": 147.0506,
     "end_time": "2024-05-10T19:39:34.817281",
     "exception": false,
     "start_time": "2024-05-10T19:37:07.766681",
     "status": "completed"
    },
    "tags": []
   },
   "outputs": [
    {
     "data": {
      "text/html": [
       "<div>\n",
       "<style scoped>\n",
       "    .dataframe tbody tr th:only-of-type {\n",
       "        vertical-align: middle;\n",
       "    }\n",
       "\n",
       "    .dataframe tbody tr th {\n",
       "        vertical-align: top;\n",
       "    }\n",
       "\n",
       "    .dataframe thead th {\n",
       "        text-align: right;\n",
       "    }\n",
       "</style>\n",
       "<table border=\"1\" class=\"dataframe\">\n",
       "  <thead>\n",
       "    <tr style=\"text-align: right;\">\n",
       "      <th></th>\n",
       "      <th>text</th>\n",
       "      <th>hospital_expire_flag</th>\n",
       "    </tr>\n",
       "  </thead>\n",
       "  <tbody>\n",
       "    <tr>\n",
       "      <th>0</th>\n",
       "      <td>CHIEF COMPLAINT: AMS, concern for toxic alcoho...</td>\n",
       "      <td>0</td>\n",
       "    </tr>\n",
       "    <tr>\n",
       "      <th>1</th>\n",
       "      <td>CHIEF COMPLAINT: abdominal pain\\n\\nPRESENT ILL...</td>\n",
       "      <td>0</td>\n",
       "    </tr>\n",
       "    <tr>\n",
       "      <th>2</th>\n",
       "      <td>CHIEF COMPLAINT: Bilateral Sub Dural Hematoma\\...</td>\n",
       "      <td>0</td>\n",
       "    </tr>\n",
       "    <tr>\n",
       "      <th>3</th>\n",
       "      <td>CHIEF COMPLAINT: Intracranial bleed\\n\\nPRESENT...</td>\n",
       "      <td>0</td>\n",
       "    </tr>\n",
       "    <tr>\n",
       "      <th>4</th>\n",
       "      <td>CHIEF COMPLAINT: ischemic left foot\\n\\nPRESENT...</td>\n",
       "      <td>0</td>\n",
       "    </tr>\n",
       "  </tbody>\n",
       "</table>\n",
       "</div>"
      ],
      "text/plain": [
       "                                                text  hospital_expire_flag\n",
       "0  CHIEF COMPLAINT: AMS, concern for toxic alcoho...                     0\n",
       "1  CHIEF COMPLAINT: abdominal pain\\n\\nPRESENT ILL...                     0\n",
       "2  CHIEF COMPLAINT: Bilateral Sub Dural Hematoma\\...                     0\n",
       "3  CHIEF COMPLAINT: Intracranial bleed\\n\\nPRESENT...                     0\n",
       "4  CHIEF COMPLAINT: ischemic left foot\\n\\nPRESENT...                     0"
      ]
     },
     "execution_count": 17,
     "metadata": {},
     "output_type": "execute_result"
    }
   ],
   "source": [
    "# Apply the remove_repeated_punctuation function to the 'review' column\n",
    "train_df['text'] = train_df['text'].apply(remove_repeated_punctuation)\n",
    "test_df['text'] = test_df['text'].apply(remove_repeated_punctuation)\n",
    "val_df['text'] = val_df['text'].apply(remove_repeated_punctuation)\n",
    "train_df.head()"
   ]
  },
  {
   "cell_type": "markdown",
   "id": "6c989397",
   "metadata": {
    "papermill": {
     "duration": 0.011084,
     "end_time": "2024-05-10T19:39:34.839869",
     "exception": false,
     "start_time": "2024-05-10T19:39:34.828785",
     "status": "completed"
    },
    "tags": []
   },
   "source": [
    "## ST (Stemming)"
   ]
  },
  {
   "cell_type": "code",
   "execution_count": 18,
   "id": "1c1e762e",
   "metadata": {
    "execution": {
     "iopub.execute_input": "2024-05-10T19:39:34.863585Z",
     "iopub.status.busy": "2024-05-10T19:39:34.863291Z",
     "iopub.status.idle": "2024-05-10T19:39:35.488003Z",
     "shell.execute_reply": "2024-05-10T19:39:35.486869Z"
    },
    "papermill": {
     "duration": 0.638831,
     "end_time": "2024-05-10T19:39:35.490037",
     "exception": false,
     "start_time": "2024-05-10T19:39:34.851206",
     "status": "completed"
    },
    "tags": []
   },
   "outputs": [
    {
     "name": "stdout",
     "output_type": "stream",
     "text": [
      "[nltk_data] Downloading package punkt to /usr/share/nltk_data...\n",
      "[nltk_data]   Package punkt is already up-to-date!\n"
     ]
    }
   ],
   "source": [
    "import nltk\n",
    "from nltk.stem import PorterStemmer\n",
    "from nltk.tokenize import word_tokenize\n",
    "import pandas as pd\n",
    "\n",
    "# Download NLTK resources \n",
    "nltk.download('punkt')\n",
    "\n",
    "# Initialize the PorterStemmer\n",
    "porter = PorterStemmer()\n",
    "# Function to stem text\n",
    "def stem_text(text):\n",
    "    words = word_tokenize(text)\n",
    "    stemmed_words = [porter.stem(word) for word in words]\n",
    "    stemmed_text = ' '.join(stemmed_words)\n",
    "    return stemmed_text"
   ]
  },
  {
   "cell_type": "code",
   "execution_count": 19,
   "id": "083f8708",
   "metadata": {
    "execution": {
     "iopub.execute_input": "2024-05-10T19:39:35.514330Z",
     "iopub.status.busy": "2024-05-10T19:39:35.514060Z",
     "iopub.status.idle": "2024-05-10T19:52:38.050878Z",
     "shell.execute_reply": "2024-05-10T19:52:38.049741Z"
    },
    "papermill": {
     "duration": 782.565761,
     "end_time": "2024-05-10T19:52:38.067559",
     "exception": false,
     "start_time": "2024-05-10T19:39:35.501798",
     "status": "completed"
    },
    "tags": []
   },
   "outputs": [
    {
     "data": {
      "text/html": [
       "<div>\n",
       "<style scoped>\n",
       "    .dataframe tbody tr th:only-of-type {\n",
       "        vertical-align: middle;\n",
       "    }\n",
       "\n",
       "    .dataframe tbody tr th {\n",
       "        vertical-align: top;\n",
       "    }\n",
       "\n",
       "    .dataframe thead th {\n",
       "        text-align: right;\n",
       "    }\n",
       "</style>\n",
       "<table border=\"1\" class=\"dataframe\">\n",
       "  <thead>\n",
       "    <tr style=\"text-align: right;\">\n",
       "      <th></th>\n",
       "      <th>text</th>\n",
       "      <th>hospital_expire_flag</th>\n",
       "    </tr>\n",
       "  </thead>\n",
       "  <tbody>\n",
       "    <tr>\n",
       "      <th>0</th>\n",
       "      <td>chief complaint : am , concern for toxic alcoh...</td>\n",
       "      <td>0</td>\n",
       "    </tr>\n",
       "    <tr>\n",
       "      <th>1</th>\n",
       "      <td>chief complaint : abdomin pain present ill : 7...</td>\n",
       "      <td>0</td>\n",
       "    </tr>\n",
       "    <tr>\n",
       "      <th>2</th>\n",
       "      <td>chief complaint : bilater sub dural hematoma p...</td>\n",
       "      <td>0</td>\n",
       "    </tr>\n",
       "    <tr>\n",
       "      <th>3</th>\n",
       "      <td>chief complaint : intracrani bleed present ill...</td>\n",
       "      <td>0</td>\n",
       "    </tr>\n",
       "    <tr>\n",
       "      <th>4</th>\n",
       "      <td>chief complaint : ischem left foot present ill...</td>\n",
       "      <td>0</td>\n",
       "    </tr>\n",
       "  </tbody>\n",
       "</table>\n",
       "</div>"
      ],
      "text/plain": [
       "                                                text  hospital_expire_flag\n",
       "0  chief complaint : am , concern for toxic alcoh...                     0\n",
       "1  chief complaint : abdomin pain present ill : 7...                     0\n",
       "2  chief complaint : bilater sub dural hematoma p...                     0\n",
       "3  chief complaint : intracrani bleed present ill...                     0\n",
       "4  chief complaint : ischem left foot present ill...                     0"
      ]
     },
     "execution_count": 19,
     "metadata": {},
     "output_type": "execute_result"
    }
   ],
   "source": [
    "# Apply stemming to the 'text' column\n",
    "train_df['text'] = train_df['text'].apply(stem_text)\n",
    "test_df['text'] = test_df['text'].apply(stem_text)\n",
    "val_df['text'] = val_df['text'].apply(stem_text)\n",
    "train_df.head()"
   ]
  },
  {
   "cell_type": "markdown",
   "id": "0aaa7c2b",
   "metadata": {
    "papermill": {
     "duration": 0.011549,
     "end_time": "2024-05-10T19:52:38.095942",
     "exception": false,
     "start_time": "2024-05-10T19:52:38.084393",
     "status": "completed"
    },
    "tags": []
   },
   "source": [
    "## CT (Clean Text)"
   ]
  },
  {
   "cell_type": "code",
   "execution_count": 20,
   "id": "1e33c85c",
   "metadata": {
    "execution": {
     "iopub.execute_input": "2024-05-10T19:52:38.120892Z",
     "iopub.status.busy": "2024-05-10T19:52:38.120497Z",
     "iopub.status.idle": "2024-05-10T19:52:54.564503Z",
     "shell.execute_reply": "2024-05-10T19:52:54.563673Z"
    },
    "papermill": {
     "duration": 16.459098,
     "end_time": "2024-05-10T19:52:54.566825",
     "exception": false,
     "start_time": "2024-05-10T19:52:38.107727",
     "status": "completed"
    },
    "tags": []
   },
   "outputs": [
    {
     "name": "stdout",
     "output_type": "stream",
     "text": [
      "Collecting clean-text\r\n",
      "  Downloading clean_text-0.6.0-py3-none-any.whl.metadata (6.6 kB)\r\n",
      "Collecting emoji<2.0.0,>=1.0.0 (from clean-text)\r\n",
      "  Downloading emoji-1.7.0.tar.gz (175 kB)\r\n",
      "\u001b[2K     \u001b[90m━━━━━━━━━━━━━━━━━━━━━━━━━━━━━━━━━━━━━━━\u001b[0m \u001b[32m175.4/175.4 kB\u001b[0m \u001b[31m4.6 MB/s\u001b[0m eta \u001b[36m0:00:00\u001b[0m\r\n",
      "\u001b[?25h  Preparing metadata (setup.py) ... \u001b[?25l-\b \bdone\r\n",
      "\u001b[?25hCollecting ftfy<7.0,>=6.0 (from clean-text)\r\n",
      "  Downloading ftfy-6.2.0-py3-none-any.whl.metadata (7.3 kB)\r\n",
      "Requirement already satisfied: wcwidth<0.3.0,>=0.2.12 in /opt/conda/lib/python3.10/site-packages (from ftfy<7.0,>=6.0->clean-text) (0.2.13)\r\n",
      "Downloading clean_text-0.6.0-py3-none-any.whl (11 kB)\r\n",
      "Downloading ftfy-6.2.0-py3-none-any.whl (54 kB)\r\n",
      "\u001b[2K   \u001b[90m━━━━━━━━━━━━━━━━━━━━━━━━━━━━━━━━━━━━━━━━\u001b[0m \u001b[32m54.4/54.4 kB\u001b[0m \u001b[31m3.4 MB/s\u001b[0m eta \u001b[36m0:00:00\u001b[0m\r\n",
      "\u001b[?25hBuilding wheels for collected packages: emoji\r\n",
      "  Building wheel for emoji (setup.py) ... \u001b[?25l-\b \bdone\r\n",
      "\u001b[?25h  Created wheel for emoji: filename=emoji-1.7.0-py3-none-any.whl size=171033 sha256=cb8dd74beba5ecf7e1e9827cc1fbcaea9bc18a3ebdbbcd420116cbaa03faba2a\r\n",
      "  Stored in directory: /root/.cache/pip/wheels/31/8a/8c/315c9e5d7773f74b33d5ed33f075b49c6eaeb7cedbb86e2cf8\r\n",
      "Successfully built emoji\r\n",
      "Installing collected packages: emoji, ftfy, clean-text\r\n",
      "  Attempting uninstall: emoji\r\n",
      "    Found existing installation: emoji 2.11.0\r\n",
      "    Uninstalling emoji-2.11.0:\r\n",
      "      Successfully uninstalled emoji-2.11.0\r\n",
      "Successfully installed clean-text-0.6.0 emoji-1.7.0 ftfy-6.2.0\r\n"
     ]
    }
   ],
   "source": [
    "!pip install clean-text\n",
    "from cleantext import clean"
   ]
  },
  {
   "cell_type": "code",
   "execution_count": 21,
   "id": "96f8b761",
   "metadata": {
    "execution": {
     "iopub.execute_input": "2024-05-10T19:52:54.594421Z",
     "iopub.status.busy": "2024-05-10T19:52:54.593633Z",
     "iopub.status.idle": "2024-05-10T19:56:12.242784Z",
     "shell.execute_reply": "2024-05-10T19:56:12.241824Z"
    },
    "papermill": {
     "duration": 197.680522,
     "end_time": "2024-05-10T19:56:12.260406",
     "exception": false,
     "start_time": "2024-05-10T19:52:54.579884",
     "status": "completed"
    },
    "tags": []
   },
   "outputs": [
    {
     "data": {
      "text/html": [
       "<div>\n",
       "<style scoped>\n",
       "    .dataframe tbody tr th:only-of-type {\n",
       "        vertical-align: middle;\n",
       "    }\n",
       "\n",
       "    .dataframe tbody tr th {\n",
       "        vertical-align: top;\n",
       "    }\n",
       "\n",
       "    .dataframe thead th {\n",
       "        text-align: right;\n",
       "    }\n",
       "</style>\n",
       "<table border=\"1\" class=\"dataframe\">\n",
       "  <thead>\n",
       "    <tr style=\"text-align: right;\">\n",
       "      <th></th>\n",
       "      <th>text</th>\n",
       "      <th>hospital_expire_flag</th>\n",
       "    </tr>\n",
       "  </thead>\n",
       "  <tbody>\n",
       "    <tr>\n",
       "      <th>0</th>\n",
       "      <td>chief complaint am concern for toxic alcohol i...</td>\n",
       "      <td>0</td>\n",
       "    </tr>\n",
       "    <tr>\n",
       "      <th>1</th>\n",
       "      <td>chief complaint abdomin pain present ill &lt;numb...</td>\n",
       "      <td>0</td>\n",
       "    </tr>\n",
       "    <tr>\n",
       "      <th>2</th>\n",
       "      <td>chief complaint bilater sub dural hematoma pre...</td>\n",
       "      <td>0</td>\n",
       "    </tr>\n",
       "    <tr>\n",
       "      <th>3</th>\n",
       "      <td>chief complaint intracrani bleed present ill &lt;...</td>\n",
       "      <td>0</td>\n",
       "    </tr>\n",
       "    <tr>\n",
       "      <th>4</th>\n",
       "      <td>chief complaint ischem left foot present ill 7...</td>\n",
       "      <td>0</td>\n",
       "    </tr>\n",
       "  </tbody>\n",
       "</table>\n",
       "</div>"
      ],
      "text/plain": [
       "                                                text  hospital_expire_flag\n",
       "0  chief complaint am concern for toxic alcohol i...                     0\n",
       "1  chief complaint abdomin pain present ill <numb...                     0\n",
       "2  chief complaint bilater sub dural hematoma pre...                     0\n",
       "3  chief complaint intracrani bleed present ill <...                     0\n",
       "4  chief complaint ischem left foot present ill 7...                     0"
      ]
     },
     "execution_count": 21,
     "metadata": {},
     "output_type": "execute_result"
    }
   ],
   "source": [
    "# Apply text cleaning function\n",
    "train_df['text'] = train_df['text'].apply(lambda x: clean(x,\n",
    "                                                        fix_unicode=True,\n",
    "                                                        to_ascii=True,\n",
    "                                                        lower=True,\n",
    "                                                        no_line_breaks=False,\n",
    "                                                        no_urls=True,\n",
    "                                                        no_emails=True,\n",
    "                                                        no_phone_numbers=True,\n",
    "                                                        no_numbers=True,\n",
    "                                                        no_currency_symbols=True,\n",
    "                                                        no_punct=True,\n",
    "                                                        replace_with_punct=\"\",\n",
    "                                                        replace_with_url=\"<URL>\",\n",
    "                                                        replace_with_email=\"<EMAIL>\",\n",
    "                                                        replace_with_phone_number=\"<PHONE>\",\n",
    "                                                        replace_with_number=\"<NUMBER>\",\n",
    "                                                        replace_with_currency_symbol=\"<CUR>\",\n",
    "                                                        lang=\"en\"\n",
    "                                                        ))\n",
    "\n",
    "train_df.head()"
   ]
  },
  {
   "cell_type": "code",
   "execution_count": 22,
   "id": "9e7657c0",
   "metadata": {
    "execution": {
     "iopub.execute_input": "2024-05-10T19:56:12.289510Z",
     "iopub.status.busy": "2024-05-10T19:56:12.289190Z",
     "iopub.status.idle": "2024-05-10T19:57:10.104520Z",
     "shell.execute_reply": "2024-05-10T19:57:10.103742Z"
    },
    "papermill": {
     "duration": 57.832485,
     "end_time": "2024-05-10T19:57:10.106803",
     "exception": false,
     "start_time": "2024-05-10T19:56:12.274318",
     "status": "completed"
    },
    "tags": []
   },
   "outputs": [],
   "source": [
    "# Apply text cleaning function\n",
    "test_df['text'] = test_df['text'].apply(lambda x: clean(x,\n",
    "                                                        fix_unicode=True,\n",
    "                                                        to_ascii=True,\n",
    "                                                        lower=True,\n",
    "                                                        no_line_breaks=False,\n",
    "                                                        no_urls=True,\n",
    "                                                        no_emails=True,\n",
    "                                                        no_phone_numbers=True,\n",
    "                                                        no_numbers=True,\n",
    "                                                        no_currency_symbols=True,\n",
    "                                                        no_punct=True,\n",
    "                                                        replace_with_punct=\"\",\n",
    "                                                        replace_with_url=\"<URL>\",\n",
    "                                                        replace_with_email=\"<EMAIL>\",\n",
    "                                                        replace_with_phone_number=\"<PHONE>\",\n",
    "                                                        replace_with_number=\"<NUMBER>\",\n",
    "                                                        replace_with_currency_symbol=\"<CUR>\",\n",
    "                                                        lang=\"en\"\n",
    "                                                        ))"
   ]
  },
  {
   "cell_type": "code",
   "execution_count": 23,
   "id": "1338919c",
   "metadata": {
    "execution": {
     "iopub.execute_input": "2024-05-10T19:57:10.134529Z",
     "iopub.status.busy": "2024-05-10T19:57:10.134228Z",
     "iopub.status.idle": "2024-05-10T19:57:38.540191Z",
     "shell.execute_reply": "2024-05-10T19:57:38.539177Z"
    },
    "papermill": {
     "duration": 28.422275,
     "end_time": "2024-05-10T19:57:38.542487",
     "exception": false,
     "start_time": "2024-05-10T19:57:10.120212",
     "status": "completed"
    },
    "tags": []
   },
   "outputs": [],
   "source": [
    "# Apply text cleaning function\n",
    "val_df['text'] = val_df['text'].apply(lambda x: clean(x,\n",
    "                                                        fix_unicode=True,\n",
    "                                                        to_ascii=True,\n",
    "                                                        lower=True,\n",
    "                                                        no_line_breaks=False,\n",
    "                                                        no_urls=True,\n",
    "                                                        no_emails=True,\n",
    "                                                        no_phone_numbers=True,\n",
    "                                                        no_numbers=True,\n",
    "                                                        no_currency_symbols=True,\n",
    "                                                        no_punct=True,\n",
    "                                                        replace_with_punct=\"\",\n",
    "                                                        replace_with_url=\"<URL>\",\n",
    "                                                        replace_with_email=\"<EMAIL>\",\n",
    "                                                        replace_with_phone_number=\"<PHONE>\",\n",
    "                                                        replace_with_number=\"<NUMBER>\",\n",
    "                                                        replace_with_currency_symbol=\"<CUR>\",\n",
    "                                                        lang=\"en\"\n",
    "                                                        ))"
   ]
  },
  {
   "cell_type": "code",
   "execution_count": 24,
   "id": "f28a4cfb",
   "metadata": {
    "execution": {
     "iopub.execute_input": "2024-05-10T19:57:38.611788Z",
     "iopub.status.busy": "2024-05-10T19:57:38.611436Z",
     "iopub.status.idle": "2024-05-10T19:57:38.622493Z",
     "shell.execute_reply": "2024-05-10T19:57:38.621654Z"
    },
    "papermill": {
     "duration": 0.068238,
     "end_time": "2024-05-10T19:57:38.624353",
     "exception": false,
     "start_time": "2024-05-10T19:57:38.556115",
     "status": "completed"
    },
    "tags": []
   },
   "outputs": [],
   "source": [
    "train_texts = train_df['text'].tolist()\n",
    "train_labels = train_df['hospital_expire_flag'].tolist()\n",
    "val_texts = val_df['text'].tolist()\n",
    "val_labels = val_df['hospital_expire_flag'].tolist()\n",
    "test_texts = test_df['text'].tolist()\n",
    "test_labels = test_df['hospital_expire_flag'].tolist()"
   ]
  },
  {
   "cell_type": "code",
   "execution_count": 25,
   "id": "23614359",
   "metadata": {
    "execution": {
     "iopub.execute_input": "2024-05-10T19:57:38.651456Z",
     "iopub.status.busy": "2024-05-10T19:57:38.651190Z",
     "iopub.status.idle": "2024-05-10T19:57:38.658048Z",
     "shell.execute_reply": "2024-05-10T19:57:38.657248Z"
    },
    "papermill": {
     "duration": 0.022425,
     "end_time": "2024-05-10T19:57:38.659842",
     "exception": false,
     "start_time": "2024-05-10T19:57:38.637417",
     "status": "completed"
    },
    "tags": []
   },
   "outputs": [],
   "source": [
    "class TextClassificationDataset(Dataset):\n",
    "    def __init__(self, texts, labels, tokenizer, max_length):\n",
    "        self.texts = [str(text) for text in texts]\n",
    "        self.labels = labels\n",
    "        self.tokenizer = tokenizer\n",
    "        self.max_length = max_length\n",
    "    def __len__(self):\n",
    "        return len(self.texts)\n",
    "    def __getitem__(self, idx):\n",
    "        text = self.texts[idx]\n",
    "        label = self.labels[idx]\n",
    "        encoding = self.tokenizer(text, return_tensors='pt', max_length=self.max_length, padding='max_length', truncation=True)\n",
    "        return {'input_ids': encoding['input_ids'].flatten(), 'attention_mask': encoding['attention_mask'].flatten(), 'label': torch.tensor(label)}"
   ]
  },
  {
   "cell_type": "code",
   "execution_count": 26,
   "id": "6148199c",
   "metadata": {
    "execution": {
     "iopub.execute_input": "2024-05-10T19:57:38.686669Z",
     "iopub.status.busy": "2024-05-10T19:57:38.686190Z",
     "iopub.status.idle": "2024-05-10T19:57:38.692337Z",
     "shell.execute_reply": "2024-05-10T19:57:38.691489Z"
    },
    "papermill": {
     "duration": 0.021483,
     "end_time": "2024-05-10T19:57:38.694176",
     "exception": false,
     "start_time": "2024-05-10T19:57:38.672693",
     "status": "completed"
    },
    "tags": []
   },
   "outputs": [],
   "source": [
    "class BERTClassifier(nn.Module):\n",
    "    def __init__(self, bert_model_name, num_classes):\n",
    "        super(BERTClassifier, self).__init__()\n",
    "        self.bert = AutoModel.from_pretrained(bert_model_name)\n",
    "        self.dropout = nn.Dropout(0.2)\n",
    "        self.fc = nn.Linear(self.bert.config.hidden_size, num_classes)\n",
    "\n",
    "    def forward(self, input_ids, attention_mask):\n",
    "        outputs = self.bert(input_ids=input_ids, attention_mask=attention_mask)\n",
    "        pooled_output = outputs.pooler_output\n",
    "        x = self.dropout(pooled_output)\n",
    "        logits = self.fc(x)\n",
    "        return logits"
   ]
  },
  {
   "cell_type": "code",
   "execution_count": 27,
   "id": "1b60ecd6",
   "metadata": {
    "execution": {
     "iopub.execute_input": "2024-05-10T19:57:38.720930Z",
     "iopub.status.busy": "2024-05-10T19:57:38.720497Z",
     "iopub.status.idle": "2024-05-10T19:57:38.724309Z",
     "shell.execute_reply": "2024-05-10T19:57:38.723525Z"
    },
    "papermill": {
     "duration": 0.019135,
     "end_time": "2024-05-10T19:57:38.726092",
     "exception": false,
     "start_time": "2024-05-10T19:57:38.706957",
     "status": "completed"
    },
    "tags": []
   },
   "outputs": [],
   "source": [
    "# Set up parameters\n",
    "bert_model_name = \"google-bert/bert-base-uncased\"\n",
    "num_classes = 2\n",
    "max_length = 512\n",
    "batch_size = 8"
   ]
  },
  {
   "cell_type": "code",
   "execution_count": 28,
   "id": "a6e0cf2b",
   "metadata": {
    "execution": {
     "iopub.execute_input": "2024-05-10T19:57:38.753187Z",
     "iopub.status.busy": "2024-05-10T19:57:38.752687Z",
     "iopub.status.idle": "2024-05-10T19:57:40.431449Z",
     "shell.execute_reply": "2024-05-10T19:57:40.430722Z"
    },
    "papermill": {
     "duration": 1.694748,
     "end_time": "2024-05-10T19:57:40.433638",
     "exception": false,
     "start_time": "2024-05-10T19:57:38.738890",
     "status": "completed"
    },
    "tags": []
   },
   "outputs": [
    {
     "data": {
      "application/vnd.jupyter.widget-view+json": {
       "model_id": "9683473c83d94a06871360b6426ef813",
       "version_major": 2,
       "version_minor": 0
      },
      "text/plain": [
       "tokenizer_config.json:   0%|          | 0.00/48.0 [00:00<?, ?B/s]"
      ]
     },
     "metadata": {},
     "output_type": "display_data"
    },
    {
     "data": {
      "application/vnd.jupyter.widget-view+json": {
       "model_id": "5da79194e09645af9557dfa379a2a448",
       "version_major": 2,
       "version_minor": 0
      },
      "text/plain": [
       "config.json:   0%|          | 0.00/570 [00:00<?, ?B/s]"
      ]
     },
     "metadata": {},
     "output_type": "display_data"
    },
    {
     "data": {
      "application/vnd.jupyter.widget-view+json": {
       "model_id": "36edd4921f5c4c329f65249d3ed5a6bc",
       "version_major": 2,
       "version_minor": 0
      },
      "text/plain": [
       "vocab.txt:   0%|          | 0.00/232k [00:00<?, ?B/s]"
      ]
     },
     "metadata": {},
     "output_type": "display_data"
    },
    {
     "data": {
      "application/vnd.jupyter.widget-view+json": {
       "model_id": "bda6d867568a48889b009d3f0c529185",
       "version_major": 2,
       "version_minor": 0
      },
      "text/plain": [
       "tokenizer.json:   0%|          | 0.00/466k [00:00<?, ?B/s]"
      ]
     },
     "metadata": {},
     "output_type": "display_data"
    }
   ],
   "source": [
    "tokenizer = AutoTokenizer.from_pretrained(bert_model_name)\n",
    "\n",
    "train_dataset = TextClassificationDataset(train_texts, train_labels, tokenizer, max_length)\n",
    "val_dataset = TextClassificationDataset(val_texts, val_labels, tokenizer, max_length)\n",
    "test_dataset = TextClassificationDataset(test_texts, test_labels, tokenizer, max_length)\n",
    "\n",
    "train_dataloader = DataLoader(train_dataset, batch_size=batch_size, shuffle=True)\n",
    "val_dataloader = DataLoader(val_dataset, batch_size=batch_size)\n",
    "test_dataloader = DataLoader(test_dataset, batch_size=batch_size)"
   ]
  },
  {
   "cell_type": "code",
   "execution_count": 29,
   "id": "ccc966a3",
   "metadata": {
    "execution": {
     "iopub.execute_input": "2024-05-10T19:57:40.462567Z",
     "iopub.status.busy": "2024-05-10T19:57:40.462293Z",
     "iopub.status.idle": "2024-05-10T19:57:44.438425Z",
     "shell.execute_reply": "2024-05-10T19:57:44.437629Z"
    },
    "papermill": {
     "duration": 3.99291,
     "end_time": "2024-05-10T19:57:44.440558",
     "exception": false,
     "start_time": "2024-05-10T19:57:40.447648",
     "status": "completed"
    },
    "tags": []
   },
   "outputs": [
    {
     "data": {
      "application/vnd.jupyter.widget-view+json": {
       "model_id": "fd3aa10b9bde4405b470a05a2fca3880",
       "version_major": 2,
       "version_minor": 0
      },
      "text/plain": [
       "model.safetensors:   0%|          | 0.00/440M [00:00<?, ?B/s]"
      ]
     },
     "metadata": {},
     "output_type": "display_data"
    }
   ],
   "source": [
    "device = torch.device(\"cuda\" if torch.cuda.is_available() else \"cpu\")\n",
    "model = BERTClassifier(bert_model_name, num_classes).to(device)"
   ]
  },
  {
   "cell_type": "code",
   "execution_count": 30,
   "id": "1ebf6b37",
   "metadata": {
    "execution": {
     "iopub.execute_input": "2024-05-10T19:57:44.470761Z",
     "iopub.status.busy": "2024-05-10T19:57:44.470247Z",
     "iopub.status.idle": "2024-05-10T19:57:44.477472Z",
     "shell.execute_reply": "2024-05-10T19:57:44.476766Z"
    },
    "papermill": {
     "duration": 0.024496,
     "end_time": "2024-05-10T19:57:44.479333",
     "exception": false,
     "start_time": "2024-05-10T19:57:44.454837",
     "status": "completed"
    },
    "tags": []
   },
   "outputs": [],
   "source": [
    "epochs = 20\n",
    "best_roc_auc = 0.0\n",
    "min_delta = 0.0001\n",
    "early_stopping_count = 0\n",
    "early_stopping_patience = 3\n",
    "gradient_accumulation_steps = 10\n",
    "\n",
    "# Set the optimizer\n",
    "optimizer = optim.AdamW(model.parameters(), lr=1e-5, weight_decay=0.01)\n",
    "\n",
    "# Set the scheduler\n",
    "scheduler = get_linear_schedule_with_warmup(\n",
    "    optimizer, \n",
    "    num_warmup_steps=50, \n",
    "    num_training_steps=len(train_dataloader) * epochs // gradient_accumulation_steps\n",
    ")\n"
   ]
  },
  {
   "cell_type": "code",
   "execution_count": 31,
   "id": "4ec4fdfd",
   "metadata": {
    "execution": {
     "iopub.execute_input": "2024-05-10T19:57:44.507999Z",
     "iopub.status.busy": "2024-05-10T19:57:44.507718Z",
     "iopub.status.idle": "2024-05-10T23:39:33.083012Z",
     "shell.execute_reply": "2024-05-10T23:39:33.082058Z"
    },
    "papermill": {
     "duration": 13308.60679,
     "end_time": "2024-05-10T23:39:33.099774",
     "exception": false,
     "start_time": "2024-05-10T19:57:44.492984",
     "status": "completed"
    },
    "tags": []
   },
   "outputs": [
    {
     "name": "stdout",
     "output_type": "stream",
     "text": [
      "Epoch: 1/20, Training Loss: 0.3369, Validation Loss: 0.3202\n",
      "Accuracy: 0.8945, Recall: 0.8945, Precision: 0.8001, F1: 0.8446269609908136, Micro F1: 0.8945, Macro Roc Auc: 0.6705\n"
     ]
    },
    {
     "name": "stderr",
     "output_type": "stream",
     "text": [
      "/opt/conda/lib/python3.10/site-packages/sklearn/metrics/_classification.py:1344: UndefinedMetricWarning: Precision is ill-defined and being set to 0.0 in labels with no predicted samples. Use `zero_division` parameter to control this behavior.\n",
      "  _warn_prf(average, modifier, msg_start, len(result))\n"
     ]
    },
    {
     "name": "stdout",
     "output_type": "stream",
     "text": [
      "Epoch: 2/20, Training Loss: 0.3071, Validation Loss: 0.3068\n",
      "Accuracy: 0.8963, Recall: 0.8963, Precision: 0.8828, F1: 0.8505322046485037, Micro F1: 0.8963, Macro Roc Auc: 0.7730\n",
      "Epoch: 3/20, Training Loss: 0.2801, Validation Loss: 0.2759\n",
      "Accuracy: 0.8993, Recall: 0.8993, Precision: 0.8767, F1: 0.8648784315107544, Micro F1: 0.8993, Macro Roc Auc: 0.8071\n",
      "Epoch: 4/20, Training Loss: 0.2544, Validation Loss: 0.2800\n",
      "Accuracy: 0.8955, Recall: 0.8955, Precision: 0.8695, F1: 0.8740573216667581, Micro F1: 0.8955, Macro Roc Auc: 0.8133\n",
      "Epoch: 5/20, Training Loss: 0.2283, Validation Loss: 0.2803\n",
      "Accuracy: 0.8969, Recall: 0.8969, Precision: 0.8719, F1: 0.8754792790074981, Micro F1: 0.8969, Macro Roc Auc: 0.8123\n",
      "EarlyStopping counter: 1 out of 3\n",
      "Epoch: 6/20, Training Loss: 0.2018, Validation Loss: 0.3137\n",
      "Accuracy: 0.8877, Recall: 0.8877, Precision: 0.8675, F1: 0.8746952318119573, Micro F1: 0.8877, Macro Roc Auc: 0.8096\n",
      "EarlyStopping counter: 2 out of 3\n",
      "Epoch: 7/20, Training Loss: 0.1698, Validation Loss: 0.3627\n",
      "Accuracy: 0.8949, Recall: 0.8949, Precision: 0.8673, F1: 0.8717813300306286, Micro F1: 0.8949, Macro Roc Auc: 0.7970\n",
      "EarlyStopping counter: 3 out of 3\n",
      "Early stopping\n"
     ]
    }
   ],
   "source": [
    "# Training loop\n",
    "for epoch in range(epochs):\n",
    "    model.train()\n",
    "    train_loss = 0\n",
    "    for step, batch in enumerate(train_dataloader):\n",
    "        optimizer.zero_grad() if step % gradient_accumulation_steps == 0 else None\n",
    "        input_ids = batch['input_ids'].to(device)\n",
    "        attention_mask = batch['attention_mask'].to(device)\n",
    "        labels = batch['label'].to(device)\n",
    "        outputs = model(input_ids, attention_mask)\n",
    "        loss = nn.CrossEntropyLoss()(outputs, labels)\n",
    "        (loss / gradient_accumulation_steps).backward()\n",
    "        train_loss += loss.item()\n",
    "        if (step + 1) % gradient_accumulation_steps == 0 or (step + 1) == len(train_dataloader):\n",
    "            optimizer.step()\n",
    "            scheduler.step()\n",
    "            \n",
    "    model.eval()\n",
    "    val_loss = 0\n",
    "    val_preds = []\n",
    "    val_labels = []\n",
    "    with torch.no_grad():\n",
    "        for batch in val_dataloader:\n",
    "            input_ids = batch['input_ids'].to(device)\n",
    "            attention_mask = batch['attention_mask'].to(device)\n",
    "            labels = batch['label'].to(device)\n",
    "            outputs = model(input_ids, attention_mask)\n",
    "            loss = nn.CrossEntropyLoss()(outputs, labels)\n",
    "            val_loss += loss.item()\n",
    "            val_preds.append(F.softmax(outputs, dim=1).cpu().numpy())\n",
    "            val_labels.append(labels.cpu().numpy())\n",
    "            \n",
    "    val_preds = np.concatenate(val_preds)\n",
    "    val_labels = np.concatenate(val_labels)\n",
    "    val_loss /= len(val_dataloader)\n",
    "    train_loss /= len(train_dataloader)\n",
    "    print(f'Epoch: {epoch+1}/{epochs}, Training Loss: {train_loss:.4f}, Validation Loss: {val_loss:.4f}')\n",
    "    \n",
    "    # Calculate metrics\n",
    "    val_preds_class = np.argmax(val_preds, axis=1)\n",
    "    accuracy = accuracy_score(val_labels, val_preds_class)\n",
    "    recall = recall_score(val_labels, val_preds_class, average='weighted')\n",
    "    precision = precision_score(val_labels, val_preds_class, average='weighted')\n",
    "    f1 = f1_score(val_labels, val_preds_class, average='weighted')\n",
    "    micro_f1 = f1_score(val_labels, val_preds_class, average='micro')\n",
    "    macro_roc_auc = roc_auc_score(val_labels, val_preds[:, 1], multi_class='ovo', average='macro')  # Changed val_preds to val_preds[:, 1]\n",
    "    \n",
    "    print(f'Accuracy: {accuracy:.4f}, Recall: {recall:.4f}, Precision: {precision:.4f}, F1: {f1}, Micro F1: {micro_f1:.4f}, Macro Roc Auc: {macro_roc_auc:.4f}')\n",
    "            \n",
    "    # Implement early stopping\n",
    "    if epoch > 0 and macro_roc_auc - best_roc_auc < min_delta:\n",
    "        early_stopping_count += 1\n",
    "        print(f'EarlyStopping counter: {early_stopping_count} out of {early_stopping_patience}')\n",
    "        if early_stopping_count >= early_stopping_patience:\n",
    "            print('Early stopping')\n",
    "            break\n",
    "    else:\n",
    "        best_roc_auc = macro_roc_auc\n",
    "        early_stopping_count = 0  # Reset early stopping counter"
   ]
  },
  {
   "cell_type": "code",
   "execution_count": 32,
   "id": "14c07ec7",
   "metadata": {
    "execution": {
     "iopub.execute_input": "2024-05-10T23:39:33.130024Z",
     "iopub.status.busy": "2024-05-10T23:39:33.129727Z",
     "iopub.status.idle": "2024-05-10T23:42:41.117071Z",
     "shell.execute_reply": "2024-05-10T23:42:41.116064Z"
    },
    "papermill": {
     "duration": 188.005149,
     "end_time": "2024-05-10T23:42:41.119552",
     "exception": false,
     "start_time": "2024-05-10T23:39:33.114403",
     "status": "completed"
    },
    "tags": []
   },
   "outputs": [],
   "source": [
    "model.eval()\n",
    "\n",
    "test_preds = []\n",
    "test_labels = []\n",
    "\n",
    "# Iterate over test data\n",
    "with torch.no_grad():\n",
    "    for batch in test_dataloader:\n",
    "        input_ids = batch['input_ids'].to(device)\n",
    "        attention_mask = batch['attention_mask'].to(device)\n",
    "        labels = batch['label'].to(device)\n",
    "        outputs = model(input_ids, attention_mask)\n",
    "        test_preds.append(F.softmax(outputs, dim=1).cpu().numpy())\n",
    "        test_labels.append(labels.cpu().numpy())\n"
   ]
  },
  {
   "cell_type": "code",
   "execution_count": 33,
   "id": "c0fc1955",
   "metadata": {
    "execution": {
     "iopub.execute_input": "2024-05-10T23:42:41.150569Z",
     "iopub.status.busy": "2024-05-10T23:42:41.150249Z",
     "iopub.status.idle": "2024-05-10T23:42:41.186623Z",
     "shell.execute_reply": "2024-05-10T23:42:41.185578Z"
    },
    "papermill": {
     "duration": 0.053967,
     "end_time": "2024-05-10T23:42:41.188631",
     "exception": false,
     "start_time": "2024-05-10T23:42:41.134664",
     "status": "completed"
    },
    "tags": []
   },
   "outputs": [
    {
     "name": "stdout",
     "output_type": "stream",
     "text": [
      "              precision    recall  f1-score   support\n",
      "\n",
      "           0     0.9125    0.9823    0.9461      8797\n",
      "           1     0.5568    0.1912    0.2847      1025\n",
      "\n",
      "    accuracy                         0.8997      9822\n",
      "   macro avg     0.7346    0.5867    0.6154      9822\n",
      "weighted avg     0.8753    0.8997    0.8771      9822\n",
      "\n"
     ]
    }
   ],
   "source": [
    "test_preds = np.concatenate(test_preds)\n",
    "test_labels = np.concatenate(test_labels)\n",
    "\n",
    "test_preds_class = np.argmax(test_preds, axis=1)\n",
    "\n",
    "report = classification_report(test_labels, test_preds_class, digits=4)\n",
    "\n",
    "print(report)"
   ]
  },
  {
   "cell_type": "code",
   "execution_count": null,
   "id": "8ed81a4f",
   "metadata": {
    "papermill": {
     "duration": 0.015008,
     "end_time": "2024-05-10T23:42:41.218800",
     "exception": false,
     "start_time": "2024-05-10T23:42:41.203792",
     "status": "completed"
    },
    "tags": []
   },
   "outputs": [],
   "source": []
  }
 ],
 "metadata": {
  "kaggle": {
   "accelerator": "none",
   "dataSources": [
    {
     "datasetId": 4981324,
     "sourceId": 8377326,
     "sourceType": "datasetVersion"
    }
   ],
   "dockerImageVersionId": 30698,
   "isGpuEnabled": false,
   "isInternetEnabled": true,
   "language": "python",
   "sourceType": "notebook"
  },
  "kernelspec": {
   "display_name": "Python 3",
   "language": "python",
   "name": "python3"
  },
  "language_info": {
   "codemirror_mode": {
    "name": "ipython",
    "version": 3
   },
   "file_extension": ".py",
   "mimetype": "text/x-python",
   "name": "python",
   "nbconvert_exporter": "python",
   "pygments_lexer": "ipython3",
   "version": "3.10.13"
  },
  "papermill": {
   "default_parameters": {},
   "duration": 14749.954009,
   "end_time": "2024-05-10T23:42:43.775994",
   "environment_variables": {},
   "exception": null,
   "input_path": "__notebook__.ipynb",
   "output_path": "__notebook__.ipynb",
   "parameters": {},
   "start_time": "2024-05-10T19:36:53.821985",
   "version": "2.5.0"
  },
  "widgets": {
   "application/vnd.jupyter.widget-state+json": {
    "state": {
     "006849ab6b0b4d5e941c70711b4912fb": {
      "model_module": "@jupyter-widgets/controls",
      "model_module_version": "1.5.0",
      "model_name": "DescriptionStyleModel",
      "state": {
       "_model_module": "@jupyter-widgets/controls",
       "_model_module_version": "1.5.0",
       "_model_name": "DescriptionStyleModel",
       "_view_count": null,
       "_view_module": "@jupyter-widgets/base",
       "_view_module_version": "1.2.0",
       "_view_name": "StyleView",
       "description_width": ""
      }
     },
     "02c4a9b5a969440eaf2f23dc48f0ccfd": {
      "model_module": "@jupyter-widgets/controls",
      "model_module_version": "1.5.0",
      "model_name": "HTMLModel",
      "state": {
       "_dom_classes": [],
       "_model_module": "@jupyter-widgets/controls",
       "_model_module_version": "1.5.0",
       "_model_name": "HTMLModel",
       "_view_count": null,
       "_view_module": "@jupyter-widgets/controls",
       "_view_module_version": "1.5.0",
       "_view_name": "HTMLView",
       "description": "",
       "description_tooltip": null,
       "layout": "IPY_MODEL_a7647e348565469399558be19bf10e13",
       "placeholder": "​",
       "style": "IPY_MODEL_831fee80508a4bcf81ed71fa2fe81d1b",
       "value": " 48.0/48.0 [00:00&lt;00:00, 4.03kB/s]"
      }
     },
     "035c97c2de43457e8c0208c7dcdad830": {
      "model_module": "@jupyter-widgets/controls",
      "model_module_version": "1.5.0",
      "model_name": "HTMLModel",
      "state": {
       "_dom_classes": [],
       "_model_module": "@jupyter-widgets/controls",
       "_model_module_version": "1.5.0",
       "_model_name": "HTMLModel",
       "_view_count": null,
       "_view_module": "@jupyter-widgets/controls",
       "_view_module_version": "1.5.0",
       "_view_name": "HTMLView",
       "description": "",
       "description_tooltip": null,
       "layout": "IPY_MODEL_6425d60771434c65913ed5269d873a14",
       "placeholder": "​",
       "style": "IPY_MODEL_a78b536042114f1bb168f346969e86f8",
       "value": "tokenizer_config.json: 100%"
      }
     },
     "05257f8148604111ad53ab5dc0846805": {
      "model_module": "@jupyter-widgets/controls",
      "model_module_version": "1.5.0",
      "model_name": "HTMLModel",
      "state": {
       "_dom_classes": [],
       "_model_module": "@jupyter-widgets/controls",
       "_model_module_version": "1.5.0",
       "_model_name": "HTMLModel",
       "_view_count": null,
       "_view_module": "@jupyter-widgets/controls",
       "_view_module_version": "1.5.0",
       "_view_name": "HTMLView",
       "description": "",
       "description_tooltip": null,
       "layout": "IPY_MODEL_909a7cd7441c44a0b192de6249f32b41",
       "placeholder": "​",
       "style": "IPY_MODEL_9c95fd2d200e4a3a82229cc2269ce787",
       "value": "config.json: 100%"
      }
     },
     "065cc3415e1440e38f873b0cd1c1278a": {
      "model_module": "@jupyter-widgets/controls",
      "model_module_version": "1.5.0",
      "model_name": "FloatProgressModel",
      "state": {
       "_dom_classes": [],
       "_model_module": "@jupyter-widgets/controls",
       "_model_module_version": "1.5.0",
       "_model_name": "FloatProgressModel",
       "_view_count": null,
       "_view_module": "@jupyter-widgets/controls",
       "_view_module_version": "1.5.0",
       "_view_name": "ProgressView",
       "bar_style": "success",
       "description": "",
       "description_tooltip": null,
       "layout": "IPY_MODEL_e97abd8a6df145f8ad0e77a035f6c0eb",
       "max": 440449768.0,
       "min": 0.0,
       "orientation": "horizontal",
       "style": "IPY_MODEL_c619f206c0024d3eaec9207edc77731a",
       "value": 440449768.0
      }
     },
     "0a42cc09c96f41558412fac05eef93cc": {
      "model_module": "@jupyter-widgets/base",
      "model_module_version": "1.2.0",
      "model_name": "LayoutModel",
      "state": {
       "_model_module": "@jupyter-widgets/base",
       "_model_module_version": "1.2.0",
       "_model_name": "LayoutModel",
       "_view_count": null,
       "_view_module": "@jupyter-widgets/base",
       "_view_module_version": "1.2.0",
       "_view_name": "LayoutView",
       "align_content": null,
       "align_items": null,
       "align_self": null,
       "border": null,
       "bottom": null,
       "display": null,
       "flex": null,
       "flex_flow": null,
       "grid_area": null,
       "grid_auto_columns": null,
       "grid_auto_flow": null,
       "grid_auto_rows": null,
       "grid_column": null,
       "grid_gap": null,
       "grid_row": null,
       "grid_template_areas": null,
       "grid_template_columns": null,
       "grid_template_rows": null,
       "height": null,
       "justify_content": null,
       "justify_items": null,
       "left": null,
       "margin": null,
       "max_height": null,
       "max_width": null,
       "min_height": null,
       "min_width": null,
       "object_fit": null,
       "object_position": null,
       "order": null,
       "overflow": null,
       "overflow_x": null,
       "overflow_y": null,
       "padding": null,
       "right": null,
       "top": null,
       "visibility": null,
       "width": null
      }
     },
     "0c0df22cccb74ce6a360afb33e06442e": {
      "model_module": "@jupyter-widgets/controls",
      "model_module_version": "1.5.0",
      "model_name": "DescriptionStyleModel",
      "state": {
       "_model_module": "@jupyter-widgets/controls",
       "_model_module_version": "1.5.0",
       "_model_name": "DescriptionStyleModel",
       "_view_count": null,
       "_view_module": "@jupyter-widgets/base",
       "_view_module_version": "1.2.0",
       "_view_name": "StyleView",
       "description_width": ""
      }
     },
     "28d3c381dd49457eb806f3b587d1e5a8": {
      "model_module": "@jupyter-widgets/controls",
      "model_module_version": "1.5.0",
      "model_name": "FloatProgressModel",
      "state": {
       "_dom_classes": [],
       "_model_module": "@jupyter-widgets/controls",
       "_model_module_version": "1.5.0",
       "_model_name": "FloatProgressModel",
       "_view_count": null,
       "_view_module": "@jupyter-widgets/controls",
       "_view_module_version": "1.5.0",
       "_view_name": "ProgressView",
       "bar_style": "success",
       "description": "",
       "description_tooltip": null,
       "layout": "IPY_MODEL_6db9188e04f44326a98838c3e681135b",
       "max": 48.0,
       "min": 0.0,
       "orientation": "horizontal",
       "style": "IPY_MODEL_3d8097879bf34b218dedc8547849d9f8",
       "value": 48.0
      }
     },
     "2e148e5abfd74ebea4451aa2461a67bc": {
      "model_module": "@jupyter-widgets/controls",
      "model_module_version": "1.5.0",
      "model_name": "FloatProgressModel",
      "state": {
       "_dom_classes": [],
       "_model_module": "@jupyter-widgets/controls",
       "_model_module_version": "1.5.0",
       "_model_name": "FloatProgressModel",
       "_view_count": null,
       "_view_module": "@jupyter-widgets/controls",
       "_view_module_version": "1.5.0",
       "_view_name": "ProgressView",
       "bar_style": "success",
       "description": "",
       "description_tooltip": null,
       "layout": "IPY_MODEL_4248cc6155444559a5d91c2de917c449",
       "max": 231508.0,
       "min": 0.0,
       "orientation": "horizontal",
       "style": "IPY_MODEL_6377300017054ae2af48cc97e0767e2b",
       "value": 231508.0
      }
     },
     "2f565e8636294343a2425114089f56be": {
      "model_module": "@jupyter-widgets/controls",
      "model_module_version": "1.5.0",
      "model_name": "DescriptionStyleModel",
      "state": {
       "_model_module": "@jupyter-widgets/controls",
       "_model_module_version": "1.5.0",
       "_model_name": "DescriptionStyleModel",
       "_view_count": null,
       "_view_module": "@jupyter-widgets/base",
       "_view_module_version": "1.2.0",
       "_view_name": "StyleView",
       "description_width": ""
      }
     },
     "36edd4921f5c4c329f65249d3ed5a6bc": {
      "model_module": "@jupyter-widgets/controls",
      "model_module_version": "1.5.0",
      "model_name": "HBoxModel",
      "state": {
       "_dom_classes": [],
       "_model_module": "@jupyter-widgets/controls",
       "_model_module_version": "1.5.0",
       "_model_name": "HBoxModel",
       "_view_count": null,
       "_view_module": "@jupyter-widgets/controls",
       "_view_module_version": "1.5.0",
       "_view_name": "HBoxView",
       "box_style": "",
       "children": [
        "IPY_MODEL_ac75ecc5f8c5450c980b08f6cd6bb5bd",
        "IPY_MODEL_2e148e5abfd74ebea4451aa2461a67bc",
        "IPY_MODEL_e77906cc29ab4e86a7a3598412192c35"
       ],
       "layout": "IPY_MODEL_9a555618ae8046f99c80f3256c8ce1d6"
      }
     },
     "39eb476acbd74acd8423ff4b7a98b23c": {
      "model_module": "@jupyter-widgets/controls",
      "model_module_version": "1.5.0",
      "model_name": "DescriptionStyleModel",
      "state": {
       "_model_module": "@jupyter-widgets/controls",
       "_model_module_version": "1.5.0",
       "_model_name": "DescriptionStyleModel",
       "_view_count": null,
       "_view_module": "@jupyter-widgets/base",
       "_view_module_version": "1.2.0",
       "_view_name": "StyleView",
       "description_width": ""
      }
     },
     "3ab323afca874f45b6144194d2b728f7": {
      "model_module": "@jupyter-widgets/base",
      "model_module_version": "1.2.0",
      "model_name": "LayoutModel",
      "state": {
       "_model_module": "@jupyter-widgets/base",
       "_model_module_version": "1.2.0",
       "_model_name": "LayoutModel",
       "_view_count": null,
       "_view_module": "@jupyter-widgets/base",
       "_view_module_version": "1.2.0",
       "_view_name": "LayoutView",
       "align_content": null,
       "align_items": null,
       "align_self": null,
       "border": null,
       "bottom": null,
       "display": null,
       "flex": null,
       "flex_flow": null,
       "grid_area": null,
       "grid_auto_columns": null,
       "grid_auto_flow": null,
       "grid_auto_rows": null,
       "grid_column": null,
       "grid_gap": null,
       "grid_row": null,
       "grid_template_areas": null,
       "grid_template_columns": null,
       "grid_template_rows": null,
       "height": null,
       "justify_content": null,
       "justify_items": null,
       "left": null,
       "margin": null,
       "max_height": null,
       "max_width": null,
       "min_height": null,
       "min_width": null,
       "object_fit": null,
       "object_position": null,
       "order": null,
       "overflow": null,
       "overflow_x": null,
       "overflow_y": null,
       "padding": null,
       "right": null,
       "top": null,
       "visibility": null,
       "width": null
      }
     },
     "3d8097879bf34b218dedc8547849d9f8": {
      "model_module": "@jupyter-widgets/controls",
      "model_module_version": "1.5.0",
      "model_name": "ProgressStyleModel",
      "state": {
       "_model_module": "@jupyter-widgets/controls",
       "_model_module_version": "1.5.0",
       "_model_name": "ProgressStyleModel",
       "_view_count": null,
       "_view_module": "@jupyter-widgets/base",
       "_view_module_version": "1.2.0",
       "_view_name": "StyleView",
       "bar_color": null,
       "description_width": ""
      }
     },
     "4248cc6155444559a5d91c2de917c449": {
      "model_module": "@jupyter-widgets/base",
      "model_module_version": "1.2.0",
      "model_name": "LayoutModel",
      "state": {
       "_model_module": "@jupyter-widgets/base",
       "_model_module_version": "1.2.0",
       "_model_name": "LayoutModel",
       "_view_count": null,
       "_view_module": "@jupyter-widgets/base",
       "_view_module_version": "1.2.0",
       "_view_name": "LayoutView",
       "align_content": null,
       "align_items": null,
       "align_self": null,
       "border": null,
       "bottom": null,
       "display": null,
       "flex": null,
       "flex_flow": null,
       "grid_area": null,
       "grid_auto_columns": null,
       "grid_auto_flow": null,
       "grid_auto_rows": null,
       "grid_column": null,
       "grid_gap": null,
       "grid_row": null,
       "grid_template_areas": null,
       "grid_template_columns": null,
       "grid_template_rows": null,
       "height": null,
       "justify_content": null,
       "justify_items": null,
       "left": null,
       "margin": null,
       "max_height": null,
       "max_width": null,
       "min_height": null,
       "min_width": null,
       "object_fit": null,
       "object_position": null,
       "order": null,
       "overflow": null,
       "overflow_x": null,
       "overflow_y": null,
       "padding": null,
       "right": null,
       "top": null,
       "visibility": null,
       "width": null
      }
     },
     "4cff68369d054fbc9489e3df626e7ddb": {
      "model_module": "@jupyter-widgets/controls",
      "model_module_version": "1.5.0",
      "model_name": "DescriptionStyleModel",
      "state": {
       "_model_module": "@jupyter-widgets/controls",
       "_model_module_version": "1.5.0",
       "_model_name": "DescriptionStyleModel",
       "_view_count": null,
       "_view_module": "@jupyter-widgets/base",
       "_view_module_version": "1.2.0",
       "_view_name": "StyleView",
       "description_width": ""
      }
     },
     "532122f1b70347c9bc5eea8967e2bffb": {
      "model_module": "@jupyter-widgets/base",
      "model_module_version": "1.2.0",
      "model_name": "LayoutModel",
      "state": {
       "_model_module": "@jupyter-widgets/base",
       "_model_module_version": "1.2.0",
       "_model_name": "LayoutModel",
       "_view_count": null,
       "_view_module": "@jupyter-widgets/base",
       "_view_module_version": "1.2.0",
       "_view_name": "LayoutView",
       "align_content": null,
       "align_items": null,
       "align_self": null,
       "border": null,
       "bottom": null,
       "display": null,
       "flex": null,
       "flex_flow": null,
       "grid_area": null,
       "grid_auto_columns": null,
       "grid_auto_flow": null,
       "grid_auto_rows": null,
       "grid_column": null,
       "grid_gap": null,
       "grid_row": null,
       "grid_template_areas": null,
       "grid_template_columns": null,
       "grid_template_rows": null,
       "height": null,
       "justify_content": null,
       "justify_items": null,
       "left": null,
       "margin": null,
       "max_height": null,
       "max_width": null,
       "min_height": null,
       "min_width": null,
       "object_fit": null,
       "object_position": null,
       "order": null,
       "overflow": null,
       "overflow_x": null,
       "overflow_y": null,
       "padding": null,
       "right": null,
       "top": null,
       "visibility": null,
       "width": null
      }
     },
     "5da79194e09645af9557dfa379a2a448": {
      "model_module": "@jupyter-widgets/controls",
      "model_module_version": "1.5.0",
      "model_name": "HBoxModel",
      "state": {
       "_dom_classes": [],
       "_model_module": "@jupyter-widgets/controls",
       "_model_module_version": "1.5.0",
       "_model_name": "HBoxModel",
       "_view_count": null,
       "_view_module": "@jupyter-widgets/controls",
       "_view_module_version": "1.5.0",
       "_view_name": "HBoxView",
       "box_style": "",
       "children": [
        "IPY_MODEL_05257f8148604111ad53ab5dc0846805",
        "IPY_MODEL_87b883b52c55429fb81100d6663050e1",
        "IPY_MODEL_7e2d70bb20934008ae6bb77b42eab54d"
       ],
       "layout": "IPY_MODEL_ee0c57e0b9d84d259710c135e3f413c9"
      }
     },
     "6377300017054ae2af48cc97e0767e2b": {
      "model_module": "@jupyter-widgets/controls",
      "model_module_version": "1.5.0",
      "model_name": "ProgressStyleModel",
      "state": {
       "_model_module": "@jupyter-widgets/controls",
       "_model_module_version": "1.5.0",
       "_model_name": "ProgressStyleModel",
       "_view_count": null,
       "_view_module": "@jupyter-widgets/base",
       "_view_module_version": "1.2.0",
       "_view_name": "StyleView",
       "bar_color": null,
       "description_width": ""
      }
     },
     "6425d60771434c65913ed5269d873a14": {
      "model_module": "@jupyter-widgets/base",
      "model_module_version": "1.2.0",
      "model_name": "LayoutModel",
      "state": {
       "_model_module": "@jupyter-widgets/base",
       "_model_module_version": "1.2.0",
       "_model_name": "LayoutModel",
       "_view_count": null,
       "_view_module": "@jupyter-widgets/base",
       "_view_module_version": "1.2.0",
       "_view_name": "LayoutView",
       "align_content": null,
       "align_items": null,
       "align_self": null,
       "border": null,
       "bottom": null,
       "display": null,
       "flex": null,
       "flex_flow": null,
       "grid_area": null,
       "grid_auto_columns": null,
       "grid_auto_flow": null,
       "grid_auto_rows": null,
       "grid_column": null,
       "grid_gap": null,
       "grid_row": null,
       "grid_template_areas": null,
       "grid_template_columns": null,
       "grid_template_rows": null,
       "height": null,
       "justify_content": null,
       "justify_items": null,
       "left": null,
       "margin": null,
       "max_height": null,
       "max_width": null,
       "min_height": null,
       "min_width": null,
       "object_fit": null,
       "object_position": null,
       "order": null,
       "overflow": null,
       "overflow_x": null,
       "overflow_y": null,
       "padding": null,
       "right": null,
       "top": null,
       "visibility": null,
       "width": null
      }
     },
     "6db9188e04f44326a98838c3e681135b": {
      "model_module": "@jupyter-widgets/base",
      "model_module_version": "1.2.0",
      "model_name": "LayoutModel",
      "state": {
       "_model_module": "@jupyter-widgets/base",
       "_model_module_version": "1.2.0",
       "_model_name": "LayoutModel",
       "_view_count": null,
       "_view_module": "@jupyter-widgets/base",
       "_view_module_version": "1.2.0",
       "_view_name": "LayoutView",
       "align_content": null,
       "align_items": null,
       "align_self": null,
       "border": null,
       "bottom": null,
       "display": null,
       "flex": null,
       "flex_flow": null,
       "grid_area": null,
       "grid_auto_columns": null,
       "grid_auto_flow": null,
       "grid_auto_rows": null,
       "grid_column": null,
       "grid_gap": null,
       "grid_row": null,
       "grid_template_areas": null,
       "grid_template_columns": null,
       "grid_template_rows": null,
       "height": null,
       "justify_content": null,
       "justify_items": null,
       "left": null,
       "margin": null,
       "max_height": null,
       "max_width": null,
       "min_height": null,
       "min_width": null,
       "object_fit": null,
       "object_position": null,
       "order": null,
       "overflow": null,
       "overflow_x": null,
       "overflow_y": null,
       "padding": null,
       "right": null,
       "top": null,
       "visibility": null,
       "width": null
      }
     },
     "76acadd5c1f142d8a45cd1e90c2bd8cd": {
      "model_module": "@jupyter-widgets/base",
      "model_module_version": "1.2.0",
      "model_name": "LayoutModel",
      "state": {
       "_model_module": "@jupyter-widgets/base",
       "_model_module_version": "1.2.0",
       "_model_name": "LayoutModel",
       "_view_count": null,
       "_view_module": "@jupyter-widgets/base",
       "_view_module_version": "1.2.0",
       "_view_name": "LayoutView",
       "align_content": null,
       "align_items": null,
       "align_self": null,
       "border": null,
       "bottom": null,
       "display": null,
       "flex": null,
       "flex_flow": null,
       "grid_area": null,
       "grid_auto_columns": null,
       "grid_auto_flow": null,
       "grid_auto_rows": null,
       "grid_column": null,
       "grid_gap": null,
       "grid_row": null,
       "grid_template_areas": null,
       "grid_template_columns": null,
       "grid_template_rows": null,
       "height": null,
       "justify_content": null,
       "justify_items": null,
       "left": null,
       "margin": null,
       "max_height": null,
       "max_width": null,
       "min_height": null,
       "min_width": null,
       "object_fit": null,
       "object_position": null,
       "order": null,
       "overflow": null,
       "overflow_x": null,
       "overflow_y": null,
       "padding": null,
       "right": null,
       "top": null,
       "visibility": null,
       "width": null
      }
     },
     "7773947c91c2487a8232ad49ee8801df": {
      "model_module": "@jupyter-widgets/base",
      "model_module_version": "1.2.0",
      "model_name": "LayoutModel",
      "state": {
       "_model_module": "@jupyter-widgets/base",
       "_model_module_version": "1.2.0",
       "_model_name": "LayoutModel",
       "_view_count": null,
       "_view_module": "@jupyter-widgets/base",
       "_view_module_version": "1.2.0",
       "_view_name": "LayoutView",
       "align_content": null,
       "align_items": null,
       "align_self": null,
       "border": null,
       "bottom": null,
       "display": null,
       "flex": null,
       "flex_flow": null,
       "grid_area": null,
       "grid_auto_columns": null,
       "grid_auto_flow": null,
       "grid_auto_rows": null,
       "grid_column": null,
       "grid_gap": null,
       "grid_row": null,
       "grid_template_areas": null,
       "grid_template_columns": null,
       "grid_template_rows": null,
       "height": null,
       "justify_content": null,
       "justify_items": null,
       "left": null,
       "margin": null,
       "max_height": null,
       "max_width": null,
       "min_height": null,
       "min_width": null,
       "object_fit": null,
       "object_position": null,
       "order": null,
       "overflow": null,
       "overflow_x": null,
       "overflow_y": null,
       "padding": null,
       "right": null,
       "top": null,
       "visibility": null,
       "width": null
      }
     },
     "7e2d70bb20934008ae6bb77b42eab54d": {
      "model_module": "@jupyter-widgets/controls",
      "model_module_version": "1.5.0",
      "model_name": "HTMLModel",
      "state": {
       "_dom_classes": [],
       "_model_module": "@jupyter-widgets/controls",
       "_model_module_version": "1.5.0",
       "_model_name": "HTMLModel",
       "_view_count": null,
       "_view_module": "@jupyter-widgets/controls",
       "_view_module_version": "1.5.0",
       "_view_name": "HTMLView",
       "description": "",
       "description_tooltip": null,
       "layout": "IPY_MODEL_3ab323afca874f45b6144194d2b728f7",
       "placeholder": "​",
       "style": "IPY_MODEL_9f5059891c894fb1920674909b7092fe",
       "value": " 570/570 [00:00&lt;00:00, 50.9kB/s]"
      }
     },
     "7e368a4238e34358a45076bb53253fa1": {
      "model_module": "@jupyter-widgets/controls",
      "model_module_version": "1.5.0",
      "model_name": "HTMLModel",
      "state": {
       "_dom_classes": [],
       "_model_module": "@jupyter-widgets/controls",
       "_model_module_version": "1.5.0",
       "_model_name": "HTMLModel",
       "_view_count": null,
       "_view_module": "@jupyter-widgets/controls",
       "_view_module_version": "1.5.0",
       "_view_name": "HTMLView",
       "description": "",
       "description_tooltip": null,
       "layout": "IPY_MODEL_a2376d13d1344277b7b5cd39329893f7",
       "placeholder": "​",
       "style": "IPY_MODEL_bf61a1a0ab064e4fa18edafb0370ddf4",
       "value": "model.safetensors: 100%"
      }
     },
     "831fee80508a4bcf81ed71fa2fe81d1b": {
      "model_module": "@jupyter-widgets/controls",
      "model_module_version": "1.5.0",
      "model_name": "DescriptionStyleModel",
      "state": {
       "_model_module": "@jupyter-widgets/controls",
       "_model_module_version": "1.5.0",
       "_model_name": "DescriptionStyleModel",
       "_view_count": null,
       "_view_module": "@jupyter-widgets/base",
       "_view_module_version": "1.2.0",
       "_view_name": "StyleView",
       "description_width": ""
      }
     },
     "87b883b52c55429fb81100d6663050e1": {
      "model_module": "@jupyter-widgets/controls",
      "model_module_version": "1.5.0",
      "model_name": "FloatProgressModel",
      "state": {
       "_dom_classes": [],
       "_model_module": "@jupyter-widgets/controls",
       "_model_module_version": "1.5.0",
       "_model_name": "FloatProgressModel",
       "_view_count": null,
       "_view_module": "@jupyter-widgets/controls",
       "_view_module_version": "1.5.0",
       "_view_name": "ProgressView",
       "bar_style": "success",
       "description": "",
       "description_tooltip": null,
       "layout": "IPY_MODEL_9125afdf876e4eeab538db39abf9f39d",
       "max": 570.0,
       "min": 0.0,
       "orientation": "horizontal",
       "style": "IPY_MODEL_8fa570abadb54a2c885e9e46152d88ee",
       "value": 570.0
      }
     },
     "8fa570abadb54a2c885e9e46152d88ee": {
      "model_module": "@jupyter-widgets/controls",
      "model_module_version": "1.5.0",
      "model_name": "ProgressStyleModel",
      "state": {
       "_model_module": "@jupyter-widgets/controls",
       "_model_module_version": "1.5.0",
       "_model_name": "ProgressStyleModel",
       "_view_count": null,
       "_view_module": "@jupyter-widgets/base",
       "_view_module_version": "1.2.0",
       "_view_name": "StyleView",
       "bar_color": null,
       "description_width": ""
      }
     },
     "909a7cd7441c44a0b192de6249f32b41": {
      "model_module": "@jupyter-widgets/base",
      "model_module_version": "1.2.0",
      "model_name": "LayoutModel",
      "state": {
       "_model_module": "@jupyter-widgets/base",
       "_model_module_version": "1.2.0",
       "_model_name": "LayoutModel",
       "_view_count": null,
       "_view_module": "@jupyter-widgets/base",
       "_view_module_version": "1.2.0",
       "_view_name": "LayoutView",
       "align_content": null,
       "align_items": null,
       "align_self": null,
       "border": null,
       "bottom": null,
       "display": null,
       "flex": null,
       "flex_flow": null,
       "grid_area": null,
       "grid_auto_columns": null,
       "grid_auto_flow": null,
       "grid_auto_rows": null,
       "grid_column": null,
       "grid_gap": null,
       "grid_row": null,
       "grid_template_areas": null,
       "grid_template_columns": null,
       "grid_template_rows": null,
       "height": null,
       "justify_content": null,
       "justify_items": null,
       "left": null,
       "margin": null,
       "max_height": null,
       "max_width": null,
       "min_height": null,
       "min_width": null,
       "object_fit": null,
       "object_position": null,
       "order": null,
       "overflow": null,
       "overflow_x": null,
       "overflow_y": null,
       "padding": null,
       "right": null,
       "top": null,
       "visibility": null,
       "width": null
      }
     },
     "9125afdf876e4eeab538db39abf9f39d": {
      "model_module": "@jupyter-widgets/base",
      "model_module_version": "1.2.0",
      "model_name": "LayoutModel",
      "state": {
       "_model_module": "@jupyter-widgets/base",
       "_model_module_version": "1.2.0",
       "_model_name": "LayoutModel",
       "_view_count": null,
       "_view_module": "@jupyter-widgets/base",
       "_view_module_version": "1.2.0",
       "_view_name": "LayoutView",
       "align_content": null,
       "align_items": null,
       "align_self": null,
       "border": null,
       "bottom": null,
       "display": null,
       "flex": null,
       "flex_flow": null,
       "grid_area": null,
       "grid_auto_columns": null,
       "grid_auto_flow": null,
       "grid_auto_rows": null,
       "grid_column": null,
       "grid_gap": null,
       "grid_row": null,
       "grid_template_areas": null,
       "grid_template_columns": null,
       "grid_template_rows": null,
       "height": null,
       "justify_content": null,
       "justify_items": null,
       "left": null,
       "margin": null,
       "max_height": null,
       "max_width": null,
       "min_height": null,
       "min_width": null,
       "object_fit": null,
       "object_position": null,
       "order": null,
       "overflow": null,
       "overflow_x": null,
       "overflow_y": null,
       "padding": null,
       "right": null,
       "top": null,
       "visibility": null,
       "width": null
      }
     },
     "9683473c83d94a06871360b6426ef813": {
      "model_module": "@jupyter-widgets/controls",
      "model_module_version": "1.5.0",
      "model_name": "HBoxModel",
      "state": {
       "_dom_classes": [],
       "_model_module": "@jupyter-widgets/controls",
       "_model_module_version": "1.5.0",
       "_model_name": "HBoxModel",
       "_view_count": null,
       "_view_module": "@jupyter-widgets/controls",
       "_view_module_version": "1.5.0",
       "_view_name": "HBoxView",
       "box_style": "",
       "children": [
        "IPY_MODEL_035c97c2de43457e8c0208c7dcdad830",
        "IPY_MODEL_28d3c381dd49457eb806f3b587d1e5a8",
        "IPY_MODEL_02c4a9b5a969440eaf2f23dc48f0ccfd"
       ],
       "layout": "IPY_MODEL_76acadd5c1f142d8a45cd1e90c2bd8cd"
      }
     },
     "9a555618ae8046f99c80f3256c8ce1d6": {
      "model_module": "@jupyter-widgets/base",
      "model_module_version": "1.2.0",
      "model_name": "LayoutModel",
      "state": {
       "_model_module": "@jupyter-widgets/base",
       "_model_module_version": "1.2.0",
       "_model_name": "LayoutModel",
       "_view_count": null,
       "_view_module": "@jupyter-widgets/base",
       "_view_module_version": "1.2.0",
       "_view_name": "LayoutView",
       "align_content": null,
       "align_items": null,
       "align_self": null,
       "border": null,
       "bottom": null,
       "display": null,
       "flex": null,
       "flex_flow": null,
       "grid_area": null,
       "grid_auto_columns": null,
       "grid_auto_flow": null,
       "grid_auto_rows": null,
       "grid_column": null,
       "grid_gap": null,
       "grid_row": null,
       "grid_template_areas": null,
       "grid_template_columns": null,
       "grid_template_rows": null,
       "height": null,
       "justify_content": null,
       "justify_items": null,
       "left": null,
       "margin": null,
       "max_height": null,
       "max_width": null,
       "min_height": null,
       "min_width": null,
       "object_fit": null,
       "object_position": null,
       "order": null,
       "overflow": null,
       "overflow_x": null,
       "overflow_y": null,
       "padding": null,
       "right": null,
       "top": null,
       "visibility": null,
       "width": null
      }
     },
     "9c95fd2d200e4a3a82229cc2269ce787": {
      "model_module": "@jupyter-widgets/controls",
      "model_module_version": "1.5.0",
      "model_name": "DescriptionStyleModel",
      "state": {
       "_model_module": "@jupyter-widgets/controls",
       "_model_module_version": "1.5.0",
       "_model_name": "DescriptionStyleModel",
       "_view_count": null,
       "_view_module": "@jupyter-widgets/base",
       "_view_module_version": "1.2.0",
       "_view_name": "StyleView",
       "description_width": ""
      }
     },
     "9edc03b614aa46f989dbc9890e64057b": {
      "model_module": "@jupyter-widgets/base",
      "model_module_version": "1.2.0",
      "model_name": "LayoutModel",
      "state": {
       "_model_module": "@jupyter-widgets/base",
       "_model_module_version": "1.2.0",
       "_model_name": "LayoutModel",
       "_view_count": null,
       "_view_module": "@jupyter-widgets/base",
       "_view_module_version": "1.2.0",
       "_view_name": "LayoutView",
       "align_content": null,
       "align_items": null,
       "align_self": null,
       "border": null,
       "bottom": null,
       "display": null,
       "flex": null,
       "flex_flow": null,
       "grid_area": null,
       "grid_auto_columns": null,
       "grid_auto_flow": null,
       "grid_auto_rows": null,
       "grid_column": null,
       "grid_gap": null,
       "grid_row": null,
       "grid_template_areas": null,
       "grid_template_columns": null,
       "grid_template_rows": null,
       "height": null,
       "justify_content": null,
       "justify_items": null,
       "left": null,
       "margin": null,
       "max_height": null,
       "max_width": null,
       "min_height": null,
       "min_width": null,
       "object_fit": null,
       "object_position": null,
       "order": null,
       "overflow": null,
       "overflow_x": null,
       "overflow_y": null,
       "padding": null,
       "right": null,
       "top": null,
       "visibility": null,
       "width": null
      }
     },
     "9f5059891c894fb1920674909b7092fe": {
      "model_module": "@jupyter-widgets/controls",
      "model_module_version": "1.5.0",
      "model_name": "DescriptionStyleModel",
      "state": {
       "_model_module": "@jupyter-widgets/controls",
       "_model_module_version": "1.5.0",
       "_model_name": "DescriptionStyleModel",
       "_view_count": null,
       "_view_module": "@jupyter-widgets/base",
       "_view_module_version": "1.2.0",
       "_view_name": "StyleView",
       "description_width": ""
      }
     },
     "a1bb7c26ed09490db9b0bf1993c62639": {
      "model_module": "@jupyter-widgets/base",
      "model_module_version": "1.2.0",
      "model_name": "LayoutModel",
      "state": {
       "_model_module": "@jupyter-widgets/base",
       "_model_module_version": "1.2.0",
       "_model_name": "LayoutModel",
       "_view_count": null,
       "_view_module": "@jupyter-widgets/base",
       "_view_module_version": "1.2.0",
       "_view_name": "LayoutView",
       "align_content": null,
       "align_items": null,
       "align_self": null,
       "border": null,
       "bottom": null,
       "display": null,
       "flex": null,
       "flex_flow": null,
       "grid_area": null,
       "grid_auto_columns": null,
       "grid_auto_flow": null,
       "grid_auto_rows": null,
       "grid_column": null,
       "grid_gap": null,
       "grid_row": null,
       "grid_template_areas": null,
       "grid_template_columns": null,
       "grid_template_rows": null,
       "height": null,
       "justify_content": null,
       "justify_items": null,
       "left": null,
       "margin": null,
       "max_height": null,
       "max_width": null,
       "min_height": null,
       "min_width": null,
       "object_fit": null,
       "object_position": null,
       "order": null,
       "overflow": null,
       "overflow_x": null,
       "overflow_y": null,
       "padding": null,
       "right": null,
       "top": null,
       "visibility": null,
       "width": null
      }
     },
     "a2376d13d1344277b7b5cd39329893f7": {
      "model_module": "@jupyter-widgets/base",
      "model_module_version": "1.2.0",
      "model_name": "LayoutModel",
      "state": {
       "_model_module": "@jupyter-widgets/base",
       "_model_module_version": "1.2.0",
       "_model_name": "LayoutModel",
       "_view_count": null,
       "_view_module": "@jupyter-widgets/base",
       "_view_module_version": "1.2.0",
       "_view_name": "LayoutView",
       "align_content": null,
       "align_items": null,
       "align_self": null,
       "border": null,
       "bottom": null,
       "display": null,
       "flex": null,
       "flex_flow": null,
       "grid_area": null,
       "grid_auto_columns": null,
       "grid_auto_flow": null,
       "grid_auto_rows": null,
       "grid_column": null,
       "grid_gap": null,
       "grid_row": null,
       "grid_template_areas": null,
       "grid_template_columns": null,
       "grid_template_rows": null,
       "height": null,
       "justify_content": null,
       "justify_items": null,
       "left": null,
       "margin": null,
       "max_height": null,
       "max_width": null,
       "min_height": null,
       "min_width": null,
       "object_fit": null,
       "object_position": null,
       "order": null,
       "overflow": null,
       "overflow_x": null,
       "overflow_y": null,
       "padding": null,
       "right": null,
       "top": null,
       "visibility": null,
       "width": null
      }
     },
     "a7647e348565469399558be19bf10e13": {
      "model_module": "@jupyter-widgets/base",
      "model_module_version": "1.2.0",
      "model_name": "LayoutModel",
      "state": {
       "_model_module": "@jupyter-widgets/base",
       "_model_module_version": "1.2.0",
       "_model_name": "LayoutModel",
       "_view_count": null,
       "_view_module": "@jupyter-widgets/base",
       "_view_module_version": "1.2.0",
       "_view_name": "LayoutView",
       "align_content": null,
       "align_items": null,
       "align_self": null,
       "border": null,
       "bottom": null,
       "display": null,
       "flex": null,
       "flex_flow": null,
       "grid_area": null,
       "grid_auto_columns": null,
       "grid_auto_flow": null,
       "grid_auto_rows": null,
       "grid_column": null,
       "grid_gap": null,
       "grid_row": null,
       "grid_template_areas": null,
       "grid_template_columns": null,
       "grid_template_rows": null,
       "height": null,
       "justify_content": null,
       "justify_items": null,
       "left": null,
       "margin": null,
       "max_height": null,
       "max_width": null,
       "min_height": null,
       "min_width": null,
       "object_fit": null,
       "object_position": null,
       "order": null,
       "overflow": null,
       "overflow_x": null,
       "overflow_y": null,
       "padding": null,
       "right": null,
       "top": null,
       "visibility": null,
       "width": null
      }
     },
     "a78b536042114f1bb168f346969e86f8": {
      "model_module": "@jupyter-widgets/controls",
      "model_module_version": "1.5.0",
      "model_name": "DescriptionStyleModel",
      "state": {
       "_model_module": "@jupyter-widgets/controls",
       "_model_module_version": "1.5.0",
       "_model_name": "DescriptionStyleModel",
       "_view_count": null,
       "_view_module": "@jupyter-widgets/base",
       "_view_module_version": "1.2.0",
       "_view_name": "StyleView",
       "description_width": ""
      }
     },
     "a841352852ad410ba73df36b15403978": {
      "model_module": "@jupyter-widgets/controls",
      "model_module_version": "1.5.0",
      "model_name": "HTMLModel",
      "state": {
       "_dom_classes": [],
       "_model_module": "@jupyter-widgets/controls",
       "_model_module_version": "1.5.0",
       "_model_name": "HTMLModel",
       "_view_count": null,
       "_view_module": "@jupyter-widgets/controls",
       "_view_module_version": "1.5.0",
       "_view_name": "HTMLView",
       "description": "",
       "description_tooltip": null,
       "layout": "IPY_MODEL_ede46dd330644571bd692d51a8111e86",
       "placeholder": "​",
       "style": "IPY_MODEL_4cff68369d054fbc9489e3df626e7ddb",
       "value": "tokenizer.json: 100%"
      }
     },
     "ac75ecc5f8c5450c980b08f6cd6bb5bd": {
      "model_module": "@jupyter-widgets/controls",
      "model_module_version": "1.5.0",
      "model_name": "HTMLModel",
      "state": {
       "_dom_classes": [],
       "_model_module": "@jupyter-widgets/controls",
       "_model_module_version": "1.5.0",
       "_model_name": "HTMLModel",
       "_view_count": null,
       "_view_module": "@jupyter-widgets/controls",
       "_view_module_version": "1.5.0",
       "_view_name": "HTMLView",
       "description": "",
       "description_tooltip": null,
       "layout": "IPY_MODEL_9edc03b614aa46f989dbc9890e64057b",
       "placeholder": "​",
       "style": "IPY_MODEL_0c0df22cccb74ce6a360afb33e06442e",
       "value": "vocab.txt: 100%"
      }
     },
     "af78fb0a327c4a6e955c168a464d3013": {
      "model_module": "@jupyter-widgets/controls",
      "model_module_version": "1.5.0",
      "model_name": "HTMLModel",
      "state": {
       "_dom_classes": [],
       "_model_module": "@jupyter-widgets/controls",
       "_model_module_version": "1.5.0",
       "_model_name": "HTMLModel",
       "_view_count": null,
       "_view_module": "@jupyter-widgets/controls",
       "_view_module_version": "1.5.0",
       "_view_name": "HTMLView",
       "description": "",
       "description_tooltip": null,
       "layout": "IPY_MODEL_532122f1b70347c9bc5eea8967e2bffb",
       "placeholder": "​",
       "style": "IPY_MODEL_39eb476acbd74acd8423ff4b7a98b23c",
       "value": " 466k/466k [00:00&lt;00:00, 2.46MB/s]"
      }
     },
     "babc0603085d4a408bf85aa76adbaf37": {
      "model_module": "@jupyter-widgets/controls",
      "model_module_version": "1.5.0",
      "model_name": "ProgressStyleModel",
      "state": {
       "_model_module": "@jupyter-widgets/controls",
       "_model_module_version": "1.5.0",
       "_model_name": "ProgressStyleModel",
       "_view_count": null,
       "_view_module": "@jupyter-widgets/base",
       "_view_module_version": "1.2.0",
       "_view_name": "StyleView",
       "bar_color": null,
       "description_width": ""
      }
     },
     "bda6d867568a48889b009d3f0c529185": {
      "model_module": "@jupyter-widgets/controls",
      "model_module_version": "1.5.0",
      "model_name": "HBoxModel",
      "state": {
       "_dom_classes": [],
       "_model_module": "@jupyter-widgets/controls",
       "_model_module_version": "1.5.0",
       "_model_name": "HBoxModel",
       "_view_count": null,
       "_view_module": "@jupyter-widgets/controls",
       "_view_module_version": "1.5.0",
       "_view_name": "HBoxView",
       "box_style": "",
       "children": [
        "IPY_MODEL_a841352852ad410ba73df36b15403978",
        "IPY_MODEL_c9a6c2da15eb46acb9f34ab96fb963ca",
        "IPY_MODEL_af78fb0a327c4a6e955c168a464d3013"
       ],
       "layout": "IPY_MODEL_7773947c91c2487a8232ad49ee8801df"
      }
     },
     "bf61a1a0ab064e4fa18edafb0370ddf4": {
      "model_module": "@jupyter-widgets/controls",
      "model_module_version": "1.5.0",
      "model_name": "DescriptionStyleModel",
      "state": {
       "_model_module": "@jupyter-widgets/controls",
       "_model_module_version": "1.5.0",
       "_model_name": "DescriptionStyleModel",
       "_view_count": null,
       "_view_module": "@jupyter-widgets/base",
       "_view_module_version": "1.2.0",
       "_view_name": "StyleView",
       "description_width": ""
      }
     },
     "c50bba7abcfe4a74846258d5fcbf58c5": {
      "model_module": "@jupyter-widgets/controls",
      "model_module_version": "1.5.0",
      "model_name": "HTMLModel",
      "state": {
       "_dom_classes": [],
       "_model_module": "@jupyter-widgets/controls",
       "_model_module_version": "1.5.0",
       "_model_name": "HTMLModel",
       "_view_count": null,
       "_view_module": "@jupyter-widgets/controls",
       "_view_module_version": "1.5.0",
       "_view_name": "HTMLView",
       "description": "",
       "description_tooltip": null,
       "layout": "IPY_MODEL_a1bb7c26ed09490db9b0bf1993c62639",
       "placeholder": "​",
       "style": "IPY_MODEL_2f565e8636294343a2425114089f56be",
       "value": " 440M/440M [00:01&lt;00:00, 315MB/s]"
      }
     },
     "c619f206c0024d3eaec9207edc77731a": {
      "model_module": "@jupyter-widgets/controls",
      "model_module_version": "1.5.0",
      "model_name": "ProgressStyleModel",
      "state": {
       "_model_module": "@jupyter-widgets/controls",
       "_model_module_version": "1.5.0",
       "_model_name": "ProgressStyleModel",
       "_view_count": null,
       "_view_module": "@jupyter-widgets/base",
       "_view_module_version": "1.2.0",
       "_view_name": "StyleView",
       "bar_color": null,
       "description_width": ""
      }
     },
     "c9a6c2da15eb46acb9f34ab96fb963ca": {
      "model_module": "@jupyter-widgets/controls",
      "model_module_version": "1.5.0",
      "model_name": "FloatProgressModel",
      "state": {
       "_dom_classes": [],
       "_model_module": "@jupyter-widgets/controls",
       "_model_module_version": "1.5.0",
       "_model_name": "FloatProgressModel",
       "_view_count": null,
       "_view_module": "@jupyter-widgets/controls",
       "_view_module_version": "1.5.0",
       "_view_name": "ProgressView",
       "bar_style": "success",
       "description": "",
       "description_tooltip": null,
       "layout": "IPY_MODEL_f3c10dc9a731426184d06ea79fcfad34",
       "max": 466062.0,
       "min": 0.0,
       "orientation": "horizontal",
       "style": "IPY_MODEL_babc0603085d4a408bf85aa76adbaf37",
       "value": 466062.0
      }
     },
     "e3ae022d95c04fbb92772d1d6afedb06": {
      "model_module": "@jupyter-widgets/base",
      "model_module_version": "1.2.0",
      "model_name": "LayoutModel",
      "state": {
       "_model_module": "@jupyter-widgets/base",
       "_model_module_version": "1.2.0",
       "_model_name": "LayoutModel",
       "_view_count": null,
       "_view_module": "@jupyter-widgets/base",
       "_view_module_version": "1.2.0",
       "_view_name": "LayoutView",
       "align_content": null,
       "align_items": null,
       "align_self": null,
       "border": null,
       "bottom": null,
       "display": null,
       "flex": null,
       "flex_flow": null,
       "grid_area": null,
       "grid_auto_columns": null,
       "grid_auto_flow": null,
       "grid_auto_rows": null,
       "grid_column": null,
       "grid_gap": null,
       "grid_row": null,
       "grid_template_areas": null,
       "grid_template_columns": null,
       "grid_template_rows": null,
       "height": null,
       "justify_content": null,
       "justify_items": null,
       "left": null,
       "margin": null,
       "max_height": null,
       "max_width": null,
       "min_height": null,
       "min_width": null,
       "object_fit": null,
       "object_position": null,
       "order": null,
       "overflow": null,
       "overflow_x": null,
       "overflow_y": null,
       "padding": null,
       "right": null,
       "top": null,
       "visibility": null,
       "width": null
      }
     },
     "e77906cc29ab4e86a7a3598412192c35": {
      "model_module": "@jupyter-widgets/controls",
      "model_module_version": "1.5.0",
      "model_name": "HTMLModel",
      "state": {
       "_dom_classes": [],
       "_model_module": "@jupyter-widgets/controls",
       "_model_module_version": "1.5.0",
       "_model_name": "HTMLModel",
       "_view_count": null,
       "_view_module": "@jupyter-widgets/controls",
       "_view_module_version": "1.5.0",
       "_view_name": "HTMLView",
       "description": "",
       "description_tooltip": null,
       "layout": "IPY_MODEL_0a42cc09c96f41558412fac05eef93cc",
       "placeholder": "​",
       "style": "IPY_MODEL_006849ab6b0b4d5e941c70711b4912fb",
       "value": " 232k/232k [00:00&lt;00:00, 1.89MB/s]"
      }
     },
     "e97abd8a6df145f8ad0e77a035f6c0eb": {
      "model_module": "@jupyter-widgets/base",
      "model_module_version": "1.2.0",
      "model_name": "LayoutModel",
      "state": {
       "_model_module": "@jupyter-widgets/base",
       "_model_module_version": "1.2.0",
       "_model_name": "LayoutModel",
       "_view_count": null,
       "_view_module": "@jupyter-widgets/base",
       "_view_module_version": "1.2.0",
       "_view_name": "LayoutView",
       "align_content": null,
       "align_items": null,
       "align_self": null,
       "border": null,
       "bottom": null,
       "display": null,
       "flex": null,
       "flex_flow": null,
       "grid_area": null,
       "grid_auto_columns": null,
       "grid_auto_flow": null,
       "grid_auto_rows": null,
       "grid_column": null,
       "grid_gap": null,
       "grid_row": null,
       "grid_template_areas": null,
       "grid_template_columns": null,
       "grid_template_rows": null,
       "height": null,
       "justify_content": null,
       "justify_items": null,
       "left": null,
       "margin": null,
       "max_height": null,
       "max_width": null,
       "min_height": null,
       "min_width": null,
       "object_fit": null,
       "object_position": null,
       "order": null,
       "overflow": null,
       "overflow_x": null,
       "overflow_y": null,
       "padding": null,
       "right": null,
       "top": null,
       "visibility": null,
       "width": null
      }
     },
     "ede46dd330644571bd692d51a8111e86": {
      "model_module": "@jupyter-widgets/base",
      "model_module_version": "1.2.0",
      "model_name": "LayoutModel",
      "state": {
       "_model_module": "@jupyter-widgets/base",
       "_model_module_version": "1.2.0",
       "_model_name": "LayoutModel",
       "_view_count": null,
       "_view_module": "@jupyter-widgets/base",
       "_view_module_version": "1.2.0",
       "_view_name": "LayoutView",
       "align_content": null,
       "align_items": null,
       "align_self": null,
       "border": null,
       "bottom": null,
       "display": null,
       "flex": null,
       "flex_flow": null,
       "grid_area": null,
       "grid_auto_columns": null,
       "grid_auto_flow": null,
       "grid_auto_rows": null,
       "grid_column": null,
       "grid_gap": null,
       "grid_row": null,
       "grid_template_areas": null,
       "grid_template_columns": null,
       "grid_template_rows": null,
       "height": null,
       "justify_content": null,
       "justify_items": null,
       "left": null,
       "margin": null,
       "max_height": null,
       "max_width": null,
       "min_height": null,
       "min_width": null,
       "object_fit": null,
       "object_position": null,
       "order": null,
       "overflow": null,
       "overflow_x": null,
       "overflow_y": null,
       "padding": null,
       "right": null,
       "top": null,
       "visibility": null,
       "width": null
      }
     },
     "ee0c57e0b9d84d259710c135e3f413c9": {
      "model_module": "@jupyter-widgets/base",
      "model_module_version": "1.2.0",
      "model_name": "LayoutModel",
      "state": {
       "_model_module": "@jupyter-widgets/base",
       "_model_module_version": "1.2.0",
       "_model_name": "LayoutModel",
       "_view_count": null,
       "_view_module": "@jupyter-widgets/base",
       "_view_module_version": "1.2.0",
       "_view_name": "LayoutView",
       "align_content": null,
       "align_items": null,
       "align_self": null,
       "border": null,
       "bottom": null,
       "display": null,
       "flex": null,
       "flex_flow": null,
       "grid_area": null,
       "grid_auto_columns": null,
       "grid_auto_flow": null,
       "grid_auto_rows": null,
       "grid_column": null,
       "grid_gap": null,
       "grid_row": null,
       "grid_template_areas": null,
       "grid_template_columns": null,
       "grid_template_rows": null,
       "height": null,
       "justify_content": null,
       "justify_items": null,
       "left": null,
       "margin": null,
       "max_height": null,
       "max_width": null,
       "min_height": null,
       "min_width": null,
       "object_fit": null,
       "object_position": null,
       "order": null,
       "overflow": null,
       "overflow_x": null,
       "overflow_y": null,
       "padding": null,
       "right": null,
       "top": null,
       "visibility": null,
       "width": null
      }
     },
     "f3c10dc9a731426184d06ea79fcfad34": {
      "model_module": "@jupyter-widgets/base",
      "model_module_version": "1.2.0",
      "model_name": "LayoutModel",
      "state": {
       "_model_module": "@jupyter-widgets/base",
       "_model_module_version": "1.2.0",
       "_model_name": "LayoutModel",
       "_view_count": null,
       "_view_module": "@jupyter-widgets/base",
       "_view_module_version": "1.2.0",
       "_view_name": "LayoutView",
       "align_content": null,
       "align_items": null,
       "align_self": null,
       "border": null,
       "bottom": null,
       "display": null,
       "flex": null,
       "flex_flow": null,
       "grid_area": null,
       "grid_auto_columns": null,
       "grid_auto_flow": null,
       "grid_auto_rows": null,
       "grid_column": null,
       "grid_gap": null,
       "grid_row": null,
       "grid_template_areas": null,
       "grid_template_columns": null,
       "grid_template_rows": null,
       "height": null,
       "justify_content": null,
       "justify_items": null,
       "left": null,
       "margin": null,
       "max_height": null,
       "max_width": null,
       "min_height": null,
       "min_width": null,
       "object_fit": null,
       "object_position": null,
       "order": null,
       "overflow": null,
       "overflow_x": null,
       "overflow_y": null,
       "padding": null,
       "right": null,
       "top": null,
       "visibility": null,
       "width": null
      }
     },
     "fd3aa10b9bde4405b470a05a2fca3880": {
      "model_module": "@jupyter-widgets/controls",
      "model_module_version": "1.5.0",
      "model_name": "HBoxModel",
      "state": {
       "_dom_classes": [],
       "_model_module": "@jupyter-widgets/controls",
       "_model_module_version": "1.5.0",
       "_model_name": "HBoxModel",
       "_view_count": null,
       "_view_module": "@jupyter-widgets/controls",
       "_view_module_version": "1.5.0",
       "_view_name": "HBoxView",
       "box_style": "",
       "children": [
        "IPY_MODEL_7e368a4238e34358a45076bb53253fa1",
        "IPY_MODEL_065cc3415e1440e38f873b0cd1c1278a",
        "IPY_MODEL_c50bba7abcfe4a74846258d5fcbf58c5"
       ],
       "layout": "IPY_MODEL_e3ae022d95c04fbb92772d1d6afedb06"
      }
     }
    },
    "version_major": 2,
    "version_minor": 0
   }
  }
 },
 "nbformat": 4,
 "nbformat_minor": 5
}

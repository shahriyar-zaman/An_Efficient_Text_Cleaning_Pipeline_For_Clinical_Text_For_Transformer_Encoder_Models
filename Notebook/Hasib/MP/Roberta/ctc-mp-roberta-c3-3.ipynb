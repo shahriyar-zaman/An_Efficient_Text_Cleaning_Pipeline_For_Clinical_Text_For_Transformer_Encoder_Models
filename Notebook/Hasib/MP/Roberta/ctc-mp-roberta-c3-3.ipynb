{
 "cells": [
  {
   "cell_type": "code",
   "execution_count": 1,
   "id": "c228ccd3",
   "metadata": {
    "_cell_guid": "b1076dfc-b9ad-4769-8c92-a6c4dae69d19",
    "_uuid": "8f2839f25d086af736a60e9eeb907d3b93b6e0e5",
    "execution": {
     "iopub.execute_input": "2024-05-20T06:31:27.208639Z",
     "iopub.status.busy": "2024-05-20T06:31:27.208039Z",
     "iopub.status.idle": "2024-05-20T06:31:36.301398Z",
     "shell.execute_reply": "2024-05-20T06:31:36.300627Z"
    },
    "papermill": {
     "duration": 9.106904,
     "end_time": "2024-05-20T06:31:36.303720",
     "exception": false,
     "start_time": "2024-05-20T06:31:27.196816",
     "status": "completed"
    },
    "tags": []
   },
   "outputs": [],
   "source": [
    "import torch\n",
    "from torch import nn\n",
    "from torch.utils.data import DataLoader, Dataset\n",
    "from transformers import RobertaTokenizer, RobertaModel, AdamW, get_linear_schedule_with_warmup\n",
    "from sklearn.model_selection import train_test_split\n",
    "from sklearn.metrics import accuracy_score, classification_report\n",
    "from sklearn.metrics import accuracy_score, recall_score, precision_score, f1_score, roc_auc_score\n",
    "import pandas as pd\n",
    "from collections import deque\n",
    "import matplotlib.pyplot as plt\n",
    "import numpy as np\n",
    "from datasets import load_dataset\n",
    "import torch.optim as optim\n",
    "import torch.nn.functional as F"
   ]
  },
  {
   "cell_type": "code",
   "execution_count": 2,
   "id": "52818fad",
   "metadata": {
    "execution": {
     "iopub.execute_input": "2024-05-20T06:31:36.324283Z",
     "iopub.status.busy": "2024-05-20T06:31:36.323749Z",
     "iopub.status.idle": "2024-05-20T06:31:38.392500Z",
     "shell.execute_reply": "2024-05-20T06:31:38.391691Z"
    },
    "papermill": {
     "duration": 2.081641,
     "end_time": "2024-05-20T06:31:38.395110",
     "exception": false,
     "start_time": "2024-05-20T06:31:36.313469",
     "status": "completed"
    },
    "tags": []
   },
   "outputs": [],
   "source": [
    "# Load Train, Validation, Test Dataset\n",
    "train_df = pd.read_csv('/kaggle/input/mp-ctc/MP_train.csv')\n",
    "val_df = pd.read_csv('/kaggle/input/mp-ctc/MP_val.csv')\n",
    "test_df = pd.read_csv('/kaggle/input/mp-ctc/MP_test.csv')"
   ]
  },
  {
   "cell_type": "code",
   "execution_count": 3,
   "id": "63d35c4f",
   "metadata": {
    "execution": {
     "iopub.execute_input": "2024-05-20T06:31:38.415160Z",
     "iopub.status.busy": "2024-05-20T06:31:38.414501Z",
     "iopub.status.idle": "2024-05-20T06:31:38.431639Z",
     "shell.execute_reply": "2024-05-20T06:31:38.430812Z"
    },
    "papermill": {
     "duration": 0.028997,
     "end_time": "2024-05-20T06:31:38.433588",
     "exception": false,
     "start_time": "2024-05-20T06:31:38.404591",
     "status": "completed"
    },
    "tags": []
   },
   "outputs": [
    {
     "data": {
      "text/html": [
       "<div>\n",
       "<style scoped>\n",
       "    .dataframe tbody tr th:only-of-type {\n",
       "        vertical-align: middle;\n",
       "    }\n",
       "\n",
       "    .dataframe tbody tr th {\n",
       "        vertical-align: top;\n",
       "    }\n",
       "\n",
       "    .dataframe thead th {\n",
       "        text-align: right;\n",
       "    }\n",
       "</style>\n",
       "<table border=\"1\" class=\"dataframe\">\n",
       "  <thead>\n",
       "    <tr style=\"text-align: right;\">\n",
       "      <th></th>\n",
       "      <th>id</th>\n",
       "      <th>text</th>\n",
       "      <th>hospital_expire_flag</th>\n",
       "    </tr>\n",
       "  </thead>\n",
       "  <tbody>\n",
       "    <tr>\n",
       "      <th>0</th>\n",
       "      <td>107384</td>\n",
       "      <td>CHIEF COMPLAINT: AMS, concern for toxic alcoho...</td>\n",
       "      <td>0</td>\n",
       "    </tr>\n",
       "    <tr>\n",
       "      <th>1</th>\n",
       "      <td>101061</td>\n",
       "      <td>CHIEF COMPLAINT: abdominal pain\\n\\nPRESENT ILL...</td>\n",
       "      <td>0</td>\n",
       "    </tr>\n",
       "    <tr>\n",
       "      <th>2</th>\n",
       "      <td>127180</td>\n",
       "      <td>CHIEF COMPLAINT: Bilateral Sub Dural Hematoma\\...</td>\n",
       "      <td>0</td>\n",
       "    </tr>\n",
       "    <tr>\n",
       "      <th>3</th>\n",
       "      <td>168339</td>\n",
       "      <td>CHIEF COMPLAINT: Intracranial bleed\\n\\nPRESENT...</td>\n",
       "      <td>0</td>\n",
       "    </tr>\n",
       "    <tr>\n",
       "      <th>4</th>\n",
       "      <td>154044</td>\n",
       "      <td>CHIEF COMPLAINT: ischemic left foot\\n\\nPRESENT...</td>\n",
       "      <td>0</td>\n",
       "    </tr>\n",
       "  </tbody>\n",
       "</table>\n",
       "</div>"
      ],
      "text/plain": [
       "       id                                               text  \\\n",
       "0  107384  CHIEF COMPLAINT: AMS, concern for toxic alcoho...   \n",
       "1  101061  CHIEF COMPLAINT: abdominal pain\\n\\nPRESENT ILL...   \n",
       "2  127180  CHIEF COMPLAINT: Bilateral Sub Dural Hematoma\\...   \n",
       "3  168339  CHIEF COMPLAINT: Intracranial bleed\\n\\nPRESENT...   \n",
       "4  154044  CHIEF COMPLAINT: ischemic left foot\\n\\nPRESENT...   \n",
       "\n",
       "   hospital_expire_flag  \n",
       "0                     0  \n",
       "1                     0  \n",
       "2                     0  \n",
       "3                     0  \n",
       "4                     0  "
      ]
     },
     "execution_count": 3,
     "metadata": {},
     "output_type": "execute_result"
    }
   ],
   "source": [
    "train_df.head()"
   ]
  },
  {
   "cell_type": "code",
   "execution_count": 4,
   "id": "fb6c68cb",
   "metadata": {
    "execution": {
     "iopub.execute_input": "2024-05-20T06:31:38.453837Z",
     "iopub.status.busy": "2024-05-20T06:31:38.453259Z",
     "iopub.status.idle": "2024-05-20T06:31:38.462007Z",
     "shell.execute_reply": "2024-05-20T06:31:38.461170Z"
    },
    "papermill": {
     "duration": 0.020744,
     "end_time": "2024-05-20T06:31:38.463872",
     "exception": false,
     "start_time": "2024-05-20T06:31:38.443128",
     "status": "completed"
    },
    "tags": []
   },
   "outputs": [
    {
     "data": {
      "text/html": [
       "<div>\n",
       "<style scoped>\n",
       "    .dataframe tbody tr th:only-of-type {\n",
       "        vertical-align: middle;\n",
       "    }\n",
       "\n",
       "    .dataframe tbody tr th {\n",
       "        vertical-align: top;\n",
       "    }\n",
       "\n",
       "    .dataframe thead th {\n",
       "        text-align: right;\n",
       "    }\n",
       "</style>\n",
       "<table border=\"1\" class=\"dataframe\">\n",
       "  <thead>\n",
       "    <tr style=\"text-align: right;\">\n",
       "      <th></th>\n",
       "      <th>id</th>\n",
       "      <th>text</th>\n",
       "      <th>hospital_expire_flag</th>\n",
       "    </tr>\n",
       "  </thead>\n",
       "  <tbody>\n",
       "    <tr>\n",
       "      <th>0</th>\n",
       "      <td>176763</td>\n",
       "      <td>CHIEF COMPLAINT: # Lethargy # Confusion # Hypo...</td>\n",
       "      <td>0</td>\n",
       "    </tr>\n",
       "    <tr>\n",
       "      <th>1</th>\n",
       "      <td>173211</td>\n",
       "      <td>CHIEF COMPLAINT: Dyspnea, LE edema\\n\\nPRESENT ...</td>\n",
       "      <td>0</td>\n",
       "    </tr>\n",
       "    <tr>\n",
       "      <th>2</th>\n",
       "      <td>116333</td>\n",
       "      <td>CHIEF COMPLAINT: upper GI bleed\\n\\nPRESENT ILL...</td>\n",
       "      <td>1</td>\n",
       "    </tr>\n",
       "    <tr>\n",
       "      <th>3</th>\n",
       "      <td>161102</td>\n",
       "      <td>CHIEF COMPLAINT: increased lethargy\\n\\nPRESENT...</td>\n",
       "      <td>0</td>\n",
       "    </tr>\n",
       "    <tr>\n",
       "      <th>4</th>\n",
       "      <td>116799</td>\n",
       "      <td>CHIEF COMPLAINT: s/p 18 ft fall\\n\\nPRESENT ILL...</td>\n",
       "      <td>0</td>\n",
       "    </tr>\n",
       "  </tbody>\n",
       "</table>\n",
       "</div>"
      ],
      "text/plain": [
       "       id                                               text  \\\n",
       "0  176763  CHIEF COMPLAINT: # Lethargy # Confusion # Hypo...   \n",
       "1  173211  CHIEF COMPLAINT: Dyspnea, LE edema\\n\\nPRESENT ...   \n",
       "2  116333  CHIEF COMPLAINT: upper GI bleed\\n\\nPRESENT ILL...   \n",
       "3  161102  CHIEF COMPLAINT: increased lethargy\\n\\nPRESENT...   \n",
       "4  116799  CHIEF COMPLAINT: s/p 18 ft fall\\n\\nPRESENT ILL...   \n",
       "\n",
       "   hospital_expire_flag  \n",
       "0                     0  \n",
       "1                     0  \n",
       "2                     1  \n",
       "3                     0  \n",
       "4                     0  "
      ]
     },
     "execution_count": 4,
     "metadata": {},
     "output_type": "execute_result"
    }
   ],
   "source": [
    "val_df.head()"
   ]
  },
  {
   "cell_type": "code",
   "execution_count": 5,
   "id": "d3d42e1e",
   "metadata": {
    "execution": {
     "iopub.execute_input": "2024-05-20T06:31:38.484219Z",
     "iopub.status.busy": "2024-05-20T06:31:38.483767Z",
     "iopub.status.idle": "2024-05-20T06:31:38.495901Z",
     "shell.execute_reply": "2024-05-20T06:31:38.495006Z"
    },
    "papermill": {
     "duration": 0.024118,
     "end_time": "2024-05-20T06:31:38.497917",
     "exception": false,
     "start_time": "2024-05-20T06:31:38.473799",
     "status": "completed"
    },
    "tags": []
   },
   "outputs": [
    {
     "data": {
      "text/plain": [
       "hospital_expire_flag\n",
       "0    4390\n",
       "1     518\n",
       "Name: count, dtype: int64"
      ]
     },
     "execution_count": 5,
     "metadata": {},
     "output_type": "execute_result"
    }
   ],
   "source": [
    "val_df[\"hospital_expire_flag\"].value_counts()"
   ]
  },
  {
   "cell_type": "code",
   "execution_count": 6,
   "id": "38bea2cf",
   "metadata": {
    "execution": {
     "iopub.execute_input": "2024-05-20T06:31:38.520330Z",
     "iopub.status.busy": "2024-05-20T06:31:38.519629Z",
     "iopub.status.idle": "2024-05-20T06:31:38.528529Z",
     "shell.execute_reply": "2024-05-20T06:31:38.527731Z"
    },
    "papermill": {
     "duration": 0.021456,
     "end_time": "2024-05-20T06:31:38.530475",
     "exception": false,
     "start_time": "2024-05-20T06:31:38.509019",
     "status": "completed"
    },
    "tags": []
   },
   "outputs": [
    {
     "data": {
      "text/html": [
       "<div>\n",
       "<style scoped>\n",
       "    .dataframe tbody tr th:only-of-type {\n",
       "        vertical-align: middle;\n",
       "    }\n",
       "\n",
       "    .dataframe tbody tr th {\n",
       "        vertical-align: top;\n",
       "    }\n",
       "\n",
       "    .dataframe thead th {\n",
       "        text-align: right;\n",
       "    }\n",
       "</style>\n",
       "<table border=\"1\" class=\"dataframe\">\n",
       "  <thead>\n",
       "    <tr style=\"text-align: right;\">\n",
       "      <th></th>\n",
       "      <th>id</th>\n",
       "      <th>text</th>\n",
       "      <th>hospital_expire_flag</th>\n",
       "    </tr>\n",
       "  </thead>\n",
       "  <tbody>\n",
       "    <tr>\n",
       "      <th>0</th>\n",
       "      <td>100058</td>\n",
       "      <td>CHIEF COMPLAINT: \\n\\nPRESENT ILLNESS: The pati...</td>\n",
       "      <td>0</td>\n",
       "    </tr>\n",
       "    <tr>\n",
       "      <th>1</th>\n",
       "      <td>124871</td>\n",
       "      <td>CHIEF COMPLAINT: shortness of breath\\n\\nPRESEN...</td>\n",
       "      <td>0</td>\n",
       "    </tr>\n",
       "    <tr>\n",
       "      <th>2</th>\n",
       "      <td>109159</td>\n",
       "      <td>CHIEF COMPLAINT: s/p mechanical fall\\n\\nPRESEN...</td>\n",
       "      <td>0</td>\n",
       "    </tr>\n",
       "    <tr>\n",
       "      <th>3</th>\n",
       "      <td>159161</td>\n",
       "      <td>CHIEF COMPLAINT: nausea and vomiting\\n\\nPRESEN...</td>\n",
       "      <td>0</td>\n",
       "    </tr>\n",
       "    <tr>\n",
       "      <th>4</th>\n",
       "      <td>109863</td>\n",
       "      <td>CHIEF COMPLAINT: \\n\\nPRESENT ILLNESS: The pati...</td>\n",
       "      <td>1</td>\n",
       "    </tr>\n",
       "  </tbody>\n",
       "</table>\n",
       "</div>"
      ],
      "text/plain": [
       "       id                                               text  \\\n",
       "0  100058  CHIEF COMPLAINT: \\n\\nPRESENT ILLNESS: The pati...   \n",
       "1  124871  CHIEF COMPLAINT: shortness of breath\\n\\nPRESEN...   \n",
       "2  109159  CHIEF COMPLAINT: s/p mechanical fall\\n\\nPRESEN...   \n",
       "3  159161  CHIEF COMPLAINT: nausea and vomiting\\n\\nPRESEN...   \n",
       "4  109863  CHIEF COMPLAINT: \\n\\nPRESENT ILLNESS: The pati...   \n",
       "\n",
       "   hospital_expire_flag  \n",
       "0                     0  \n",
       "1                     0  \n",
       "2                     0  \n",
       "3                     0  \n",
       "4                     1  "
      ]
     },
     "execution_count": 6,
     "metadata": {},
     "output_type": "execute_result"
    }
   ],
   "source": [
    "test_df.head()"
   ]
  },
  {
   "cell_type": "code",
   "execution_count": 7,
   "id": "d349d364",
   "metadata": {
    "execution": {
     "iopub.execute_input": "2024-05-20T06:31:38.552122Z",
     "iopub.status.busy": "2024-05-20T06:31:38.551851Z",
     "iopub.status.idle": "2024-05-20T06:31:38.559004Z",
     "shell.execute_reply": "2024-05-20T06:31:38.558211Z"
    },
    "papermill": {
     "duration": 0.019584,
     "end_time": "2024-05-20T06:31:38.560891",
     "exception": false,
     "start_time": "2024-05-20T06:31:38.541307",
     "status": "completed"
    },
    "tags": []
   },
   "outputs": [
    {
     "data": {
      "text/plain": [
       "2"
      ]
     },
     "execution_count": 7,
     "metadata": {},
     "output_type": "execute_result"
    }
   ],
   "source": [
    "train_df['hospital_expire_flag'].nunique()"
   ]
  },
  {
   "cell_type": "code",
   "execution_count": 8,
   "id": "c084db8d",
   "metadata": {
    "execution": {
     "iopub.execute_input": "2024-05-20T06:31:38.581795Z",
     "iopub.status.busy": "2024-05-20T06:31:38.581090Z",
     "iopub.status.idle": "2024-05-20T06:31:38.587062Z",
     "shell.execute_reply": "2024-05-20T06:31:38.586234Z"
    },
    "papermill": {
     "duration": 0.018264,
     "end_time": "2024-05-20T06:31:38.588911",
     "exception": false,
     "start_time": "2024-05-20T06:31:38.570647",
     "status": "completed"
    },
    "tags": []
   },
   "outputs": [
    {
     "data": {
      "text/plain": [
       "2"
      ]
     },
     "execution_count": 8,
     "metadata": {},
     "output_type": "execute_result"
    }
   ],
   "source": [
    "val_df['hospital_expire_flag'].nunique()"
   ]
  },
  {
   "cell_type": "code",
   "execution_count": 9,
   "id": "b394b28d",
   "metadata": {
    "execution": {
     "iopub.execute_input": "2024-05-20T06:31:38.611043Z",
     "iopub.status.busy": "2024-05-20T06:31:38.610772Z",
     "iopub.status.idle": "2024-05-20T06:31:38.616153Z",
     "shell.execute_reply": "2024-05-20T06:31:38.615339Z"
    },
    "papermill": {
     "duration": 0.018641,
     "end_time": "2024-05-20T06:31:38.618250",
     "exception": false,
     "start_time": "2024-05-20T06:31:38.599609",
     "status": "completed"
    },
    "tags": []
   },
   "outputs": [
    {
     "data": {
      "text/plain": [
       "2"
      ]
     },
     "execution_count": 9,
     "metadata": {},
     "output_type": "execute_result"
    }
   ],
   "source": [
    "test_df['hospital_expire_flag'].nunique()"
   ]
  },
  {
   "cell_type": "code",
   "execution_count": 10,
   "id": "e2a1a1d2",
   "metadata": {
    "execution": {
     "iopub.execute_input": "2024-05-20T06:31:38.640204Z",
     "iopub.status.busy": "2024-05-20T06:31:38.639659Z",
     "iopub.status.idle": "2024-05-20T06:31:38.651409Z",
     "shell.execute_reply": "2024-05-20T06:31:38.650571Z"
    },
    "papermill": {
     "duration": 0.024237,
     "end_time": "2024-05-20T06:31:38.653257",
     "exception": false,
     "start_time": "2024-05-20T06:31:38.629020",
     "status": "completed"
    },
    "tags": []
   },
   "outputs": [],
   "source": [
    "train_df.drop(columns=['id'], inplace=True)\n",
    "val_df.drop(columns=['id'], inplace=True)\n",
    "test_df.drop(columns=['id'], inplace=True)"
   ]
  },
  {
   "cell_type": "code",
   "execution_count": 11,
   "id": "dc8cdaa7",
   "metadata": {
    "execution": {
     "iopub.execute_input": "2024-05-20T06:31:38.675149Z",
     "iopub.status.busy": "2024-05-20T06:31:38.674655Z",
     "iopub.status.idle": "2024-05-20T06:31:38.682201Z",
     "shell.execute_reply": "2024-05-20T06:31:38.681421Z"
    },
    "papermill": {
     "duration": 0.020926,
     "end_time": "2024-05-20T06:31:38.684624",
     "exception": false,
     "start_time": "2024-05-20T06:31:38.663698",
     "status": "completed"
    },
    "tags": []
   },
   "outputs": [
    {
     "data": {
      "text/html": [
       "<div>\n",
       "<style scoped>\n",
       "    .dataframe tbody tr th:only-of-type {\n",
       "        vertical-align: middle;\n",
       "    }\n",
       "\n",
       "    .dataframe tbody tr th {\n",
       "        vertical-align: top;\n",
       "    }\n",
       "\n",
       "    .dataframe thead th {\n",
       "        text-align: right;\n",
       "    }\n",
       "</style>\n",
       "<table border=\"1\" class=\"dataframe\">\n",
       "  <thead>\n",
       "    <tr style=\"text-align: right;\">\n",
       "      <th></th>\n",
       "      <th>text</th>\n",
       "      <th>hospital_expire_flag</th>\n",
       "    </tr>\n",
       "  </thead>\n",
       "  <tbody>\n",
       "    <tr>\n",
       "      <th>0</th>\n",
       "      <td>CHIEF COMPLAINT: AMS, concern for toxic alcoho...</td>\n",
       "      <td>0</td>\n",
       "    </tr>\n",
       "    <tr>\n",
       "      <th>1</th>\n",
       "      <td>CHIEF COMPLAINT: abdominal pain\\n\\nPRESENT ILL...</td>\n",
       "      <td>0</td>\n",
       "    </tr>\n",
       "    <tr>\n",
       "      <th>2</th>\n",
       "      <td>CHIEF COMPLAINT: Bilateral Sub Dural Hematoma\\...</td>\n",
       "      <td>0</td>\n",
       "    </tr>\n",
       "    <tr>\n",
       "      <th>3</th>\n",
       "      <td>CHIEF COMPLAINT: Intracranial bleed\\n\\nPRESENT...</td>\n",
       "      <td>0</td>\n",
       "    </tr>\n",
       "    <tr>\n",
       "      <th>4</th>\n",
       "      <td>CHIEF COMPLAINT: ischemic left foot\\n\\nPRESENT...</td>\n",
       "      <td>0</td>\n",
       "    </tr>\n",
       "  </tbody>\n",
       "</table>\n",
       "</div>"
      ],
      "text/plain": [
       "                                                text  hospital_expire_flag\n",
       "0  CHIEF COMPLAINT: AMS, concern for toxic alcoho...                     0\n",
       "1  CHIEF COMPLAINT: abdominal pain\\n\\nPRESENT ILL...                     0\n",
       "2  CHIEF COMPLAINT: Bilateral Sub Dural Hematoma\\...                     0\n",
       "3  CHIEF COMPLAINT: Intracranial bleed\\n\\nPRESENT...                     0\n",
       "4  CHIEF COMPLAINT: ischemic left foot\\n\\nPRESENT...                     0"
      ]
     },
     "execution_count": 11,
     "metadata": {},
     "output_type": "execute_result"
    }
   ],
   "source": [
    "train_df.head()"
   ]
  },
  {
   "cell_type": "code",
   "execution_count": 12,
   "id": "bc068aa2",
   "metadata": {
    "execution": {
     "iopub.execute_input": "2024-05-20T06:31:38.706985Z",
     "iopub.status.busy": "2024-05-20T06:31:38.706460Z",
     "iopub.status.idle": "2024-05-20T06:31:38.714694Z",
     "shell.execute_reply": "2024-05-20T06:31:38.713722Z"
    },
    "papermill": {
     "duration": 0.021234,
     "end_time": "2024-05-20T06:31:38.716608",
     "exception": false,
     "start_time": "2024-05-20T06:31:38.695374",
     "status": "completed"
    },
    "tags": []
   },
   "outputs": [
    {
     "data": {
      "text/html": [
       "<div>\n",
       "<style scoped>\n",
       "    .dataframe tbody tr th:only-of-type {\n",
       "        vertical-align: middle;\n",
       "    }\n",
       "\n",
       "    .dataframe tbody tr th {\n",
       "        vertical-align: top;\n",
       "    }\n",
       "\n",
       "    .dataframe thead th {\n",
       "        text-align: right;\n",
       "    }\n",
       "</style>\n",
       "<table border=\"1\" class=\"dataframe\">\n",
       "  <thead>\n",
       "    <tr style=\"text-align: right;\">\n",
       "      <th></th>\n",
       "      <th>text</th>\n",
       "      <th>hospital_expire_flag</th>\n",
       "    </tr>\n",
       "  </thead>\n",
       "  <tbody>\n",
       "    <tr>\n",
       "      <th>0</th>\n",
       "      <td>CHIEF COMPLAINT: \\n\\nPRESENT ILLNESS: The pati...</td>\n",
       "      <td>0</td>\n",
       "    </tr>\n",
       "    <tr>\n",
       "      <th>1</th>\n",
       "      <td>CHIEF COMPLAINT: shortness of breath\\n\\nPRESEN...</td>\n",
       "      <td>0</td>\n",
       "    </tr>\n",
       "    <tr>\n",
       "      <th>2</th>\n",
       "      <td>CHIEF COMPLAINT: s/p mechanical fall\\n\\nPRESEN...</td>\n",
       "      <td>0</td>\n",
       "    </tr>\n",
       "    <tr>\n",
       "      <th>3</th>\n",
       "      <td>CHIEF COMPLAINT: nausea and vomiting\\n\\nPRESEN...</td>\n",
       "      <td>0</td>\n",
       "    </tr>\n",
       "    <tr>\n",
       "      <th>4</th>\n",
       "      <td>CHIEF COMPLAINT: \\n\\nPRESENT ILLNESS: The pati...</td>\n",
       "      <td>1</td>\n",
       "    </tr>\n",
       "  </tbody>\n",
       "</table>\n",
       "</div>"
      ],
      "text/plain": [
       "                                                text  hospital_expire_flag\n",
       "0  CHIEF COMPLAINT: \\n\\nPRESENT ILLNESS: The pati...                     0\n",
       "1  CHIEF COMPLAINT: shortness of breath\\n\\nPRESEN...                     0\n",
       "2  CHIEF COMPLAINT: s/p mechanical fall\\n\\nPRESEN...                     0\n",
       "3  CHIEF COMPLAINT: nausea and vomiting\\n\\nPRESEN...                     0\n",
       "4  CHIEF COMPLAINT: \\n\\nPRESENT ILLNESS: The pati...                     1"
      ]
     },
     "execution_count": 12,
     "metadata": {},
     "output_type": "execute_result"
    }
   ],
   "source": [
    "test_df.head()"
   ]
  },
  {
   "cell_type": "code",
   "execution_count": 13,
   "id": "ab60379e",
   "metadata": {
    "execution": {
     "iopub.execute_input": "2024-05-20T06:31:38.739147Z",
     "iopub.status.busy": "2024-05-20T06:31:38.738560Z",
     "iopub.status.idle": "2024-05-20T06:31:38.743672Z",
     "shell.execute_reply": "2024-05-20T06:31:38.742847Z"
    },
    "papermill": {
     "duration": 0.018559,
     "end_time": "2024-05-20T06:31:38.745637",
     "exception": false,
     "start_time": "2024-05-20T06:31:38.727078",
     "status": "completed"
    },
    "tags": []
   },
   "outputs": [
    {
     "data": {
      "text/plain": [
       "(33954, 2)"
      ]
     },
     "execution_count": 13,
     "metadata": {},
     "output_type": "execute_result"
    }
   ],
   "source": [
    "train_df.shape"
   ]
  },
  {
   "cell_type": "code",
   "execution_count": 14,
   "id": "46aa84be",
   "metadata": {
    "execution": {
     "iopub.execute_input": "2024-05-20T06:31:38.769409Z",
     "iopub.status.busy": "2024-05-20T06:31:38.768738Z",
     "iopub.status.idle": "2024-05-20T06:31:38.773779Z",
     "shell.execute_reply": "2024-05-20T06:31:38.772984Z"
    },
    "papermill": {
     "duration": 0.018354,
     "end_time": "2024-05-20T06:31:38.775722",
     "exception": false,
     "start_time": "2024-05-20T06:31:38.757368",
     "status": "completed"
    },
    "tags": []
   },
   "outputs": [
    {
     "data": {
      "text/plain": [
       "(4908, 2)"
      ]
     },
     "execution_count": 14,
     "metadata": {},
     "output_type": "execute_result"
    }
   ],
   "source": [
    "val_df.shape"
   ]
  },
  {
   "cell_type": "code",
   "execution_count": 15,
   "id": "6a171159",
   "metadata": {
    "execution": {
     "iopub.execute_input": "2024-05-20T06:31:38.798440Z",
     "iopub.status.busy": "2024-05-20T06:31:38.797898Z",
     "iopub.status.idle": "2024-05-20T06:31:38.802821Z",
     "shell.execute_reply": "2024-05-20T06:31:38.802020Z"
    },
    "papermill": {
     "duration": 0.018419,
     "end_time": "2024-05-20T06:31:38.804764",
     "exception": false,
     "start_time": "2024-05-20T06:31:38.786345",
     "status": "completed"
    },
    "tags": []
   },
   "outputs": [
    {
     "data": {
      "text/plain": [
       "(9822, 2)"
      ]
     },
     "execution_count": 15,
     "metadata": {},
     "output_type": "execute_result"
    }
   ],
   "source": [
    "test_df.shape"
   ]
  },
  {
   "cell_type": "markdown",
   "id": "96bff85d",
   "metadata": {
    "papermill": {
     "duration": 0.010445,
     "end_time": "2024-05-20T06:31:38.825994",
     "exception": false,
     "start_time": "2024-05-20T06:31:38.815549",
     "status": "completed"
    },
    "tags": []
   },
   "source": [
    "## ST (Stemming)"
   ]
  },
  {
   "cell_type": "code",
   "execution_count": 16,
   "id": "47023de6",
   "metadata": {
    "execution": {
     "iopub.execute_input": "2024-05-20T06:31:38.848985Z",
     "iopub.status.busy": "2024-05-20T06:31:38.848316Z",
     "iopub.status.idle": "2024-05-20T06:31:39.456900Z",
     "shell.execute_reply": "2024-05-20T06:31:39.455615Z"
    },
    "papermill": {
     "duration": 0.622539,
     "end_time": "2024-05-20T06:31:39.459228",
     "exception": false,
     "start_time": "2024-05-20T06:31:38.836689",
     "status": "completed"
    },
    "tags": []
   },
   "outputs": [
    {
     "name": "stdout",
     "output_type": "stream",
     "text": [
      "[nltk_data] Downloading package punkt to /usr/share/nltk_data...\n",
      "[nltk_data]   Package punkt is already up-to-date!\n"
     ]
    }
   ],
   "source": [
    "import nltk\n",
    "from nltk.stem import PorterStemmer\n",
    "from nltk.tokenize import word_tokenize\n",
    "import pandas as pd\n",
    "\n",
    "# Download NLTK resources \n",
    "nltk.download('punkt')\n",
    "\n",
    "# Initialize the PorterStemmer\n",
    "porter = PorterStemmer()\n",
    "# Function to stem text\n",
    "def stem_text(text):\n",
    "    words = word_tokenize(text)\n",
    "    stemmed_words = [porter.stem(word) for word in words]\n",
    "    stemmed_text = ' '.join(stemmed_words)\n",
    "    return stemmed_text"
   ]
  },
  {
   "cell_type": "code",
   "execution_count": 17,
   "id": "84740d7f",
   "metadata": {
    "execution": {
     "iopub.execute_input": "2024-05-20T06:31:39.483250Z",
     "iopub.status.busy": "2024-05-20T06:31:39.482609Z",
     "iopub.status.idle": "2024-05-20T06:44:53.141777Z",
     "shell.execute_reply": "2024-05-20T06:44:53.140932Z"
    },
    "papermill": {
     "duration": 793.68462,
     "end_time": "2024-05-20T06:44:53.155274",
     "exception": false,
     "start_time": "2024-05-20T06:31:39.470654",
     "status": "completed"
    },
    "tags": []
   },
   "outputs": [
    {
     "data": {
      "text/html": [
       "<div>\n",
       "<style scoped>\n",
       "    .dataframe tbody tr th:only-of-type {\n",
       "        vertical-align: middle;\n",
       "    }\n",
       "\n",
       "    .dataframe tbody tr th {\n",
       "        vertical-align: top;\n",
       "    }\n",
       "\n",
       "    .dataframe thead th {\n",
       "        text-align: right;\n",
       "    }\n",
       "</style>\n",
       "<table border=\"1\" class=\"dataframe\">\n",
       "  <thead>\n",
       "    <tr style=\"text-align: right;\">\n",
       "      <th></th>\n",
       "      <th>text</th>\n",
       "      <th>hospital_expire_flag</th>\n",
       "    </tr>\n",
       "  </thead>\n",
       "  <tbody>\n",
       "    <tr>\n",
       "      <th>0</th>\n",
       "      <td>chief complaint : am , concern for toxic alcoh...</td>\n",
       "      <td>0</td>\n",
       "    </tr>\n",
       "    <tr>\n",
       "      <th>1</th>\n",
       "      <td>chief complaint : abdomin pain present ill : 7...</td>\n",
       "      <td>0</td>\n",
       "    </tr>\n",
       "    <tr>\n",
       "      <th>2</th>\n",
       "      <td>chief complaint : bilater sub dural hematoma p...</td>\n",
       "      <td>0</td>\n",
       "    </tr>\n",
       "    <tr>\n",
       "      <th>3</th>\n",
       "      <td>chief complaint : intracrani bleed present ill...</td>\n",
       "      <td>0</td>\n",
       "    </tr>\n",
       "    <tr>\n",
       "      <th>4</th>\n",
       "      <td>chief complaint : ischem left foot present ill...</td>\n",
       "      <td>0</td>\n",
       "    </tr>\n",
       "  </tbody>\n",
       "</table>\n",
       "</div>"
      ],
      "text/plain": [
       "                                                text  hospital_expire_flag\n",
       "0  chief complaint : am , concern for toxic alcoh...                     0\n",
       "1  chief complaint : abdomin pain present ill : 7...                     0\n",
       "2  chief complaint : bilater sub dural hematoma p...                     0\n",
       "3  chief complaint : intracrani bleed present ill...                     0\n",
       "4  chief complaint : ischem left foot present ill...                     0"
      ]
     },
     "execution_count": 17,
     "metadata": {},
     "output_type": "execute_result"
    }
   ],
   "source": [
    "# Apply stemming to the 'text' column\n",
    "train_df['text'] = train_df['text'].apply(stem_text)\n",
    "test_df['text'] = test_df['text'].apply(stem_text)\n",
    "val_df['text'] = val_df['text'].apply(stem_text)\n",
    "train_df.head()"
   ]
  },
  {
   "cell_type": "markdown",
   "id": "0b77d03a",
   "metadata": {
    "papermill": {
     "duration": 0.010666,
     "end_time": "2024-05-20T06:44:53.177097",
     "exception": false,
     "start_time": "2024-05-20T06:44:53.166431",
     "status": "completed"
    },
    "tags": []
   },
   "source": [
    "## RSW (Remove Stop Words)"
   ]
  },
  {
   "cell_type": "code",
   "execution_count": 18,
   "id": "d0000ce5",
   "metadata": {
    "execution": {
     "iopub.execute_input": "2024-05-20T06:44:53.200436Z",
     "iopub.status.busy": "2024-05-20T06:44:53.199739Z",
     "iopub.status.idle": "2024-05-20T06:44:53.209642Z",
     "shell.execute_reply": "2024-05-20T06:44:53.208959Z"
    },
    "papermill": {
     "duration": 0.023524,
     "end_time": "2024-05-20T06:44:53.211421",
     "exception": false,
     "start_time": "2024-05-20T06:44:53.187897",
     "status": "completed"
    },
    "tags": []
   },
   "outputs": [],
   "source": [
    "# NLTK library to remove Stopwords.\n",
    "from nltk.corpus import stopwords\n",
    "stopword = stopwords.words('english')\n",
    "# Function\n",
    "def remove_stopwords(text):\n",
    "    new_text = []\n",
    "    \n",
    "    for word in text.split():\n",
    "        if word in stopword:\n",
    "            new_text.append('')\n",
    "        else:\n",
    "            new_text.append(word)\n",
    "    x = new_text[:]\n",
    "    new_text.clear()\n",
    "    return \" \".join(x)"
   ]
  },
  {
   "cell_type": "code",
   "execution_count": 19,
   "id": "9e09bc32",
   "metadata": {
    "execution": {
     "iopub.execute_input": "2024-05-20T06:44:53.235202Z",
     "iopub.status.busy": "2024-05-20T06:44:53.234953Z",
     "iopub.status.idle": "2024-05-20T06:45:47.754479Z",
     "shell.execute_reply": "2024-05-20T06:45:47.753295Z"
    },
    "papermill": {
     "duration": 54.546372,
     "end_time": "2024-05-20T06:45:47.768738",
     "exception": false,
     "start_time": "2024-05-20T06:44:53.222366",
     "status": "completed"
    },
    "tags": []
   },
   "outputs": [
    {
     "data": {
      "text/html": [
       "<div>\n",
       "<style scoped>\n",
       "    .dataframe tbody tr th:only-of-type {\n",
       "        vertical-align: middle;\n",
       "    }\n",
       "\n",
       "    .dataframe tbody tr th {\n",
       "        vertical-align: top;\n",
       "    }\n",
       "\n",
       "    .dataframe thead th {\n",
       "        text-align: right;\n",
       "    }\n",
       "</style>\n",
       "<table border=\"1\" class=\"dataframe\">\n",
       "  <thead>\n",
       "    <tr style=\"text-align: right;\">\n",
       "      <th></th>\n",
       "      <th>text</th>\n",
       "      <th>hospital_expire_flag</th>\n",
       "    </tr>\n",
       "  </thead>\n",
       "  <tbody>\n",
       "    <tr>\n",
       "      <th>0</th>\n",
       "      <td>chief complaint :  , concern  toxic alcohol in...</td>\n",
       "      <td>0</td>\n",
       "    </tr>\n",
       "    <tr>\n",
       "      <th>1</th>\n",
       "      <td>chief complaint : abdomin pain present ill : 7...</td>\n",
       "      <td>0</td>\n",
       "    </tr>\n",
       "    <tr>\n",
       "      <th>2</th>\n",
       "      <td>chief complaint : bilater sub dural hematoma p...</td>\n",
       "      <td>0</td>\n",
       "    </tr>\n",
       "    <tr>\n",
       "      <th>3</th>\n",
       "      <td>chief complaint : intracrani bleed present ill...</td>\n",
       "      <td>0</td>\n",
       "    </tr>\n",
       "    <tr>\n",
       "      <th>4</th>\n",
       "      <td>chief complaint : ischem left foot present ill...</td>\n",
       "      <td>0</td>\n",
       "    </tr>\n",
       "  </tbody>\n",
       "</table>\n",
       "</div>"
      ],
      "text/plain": [
       "                                                text  hospital_expire_flag\n",
       "0  chief complaint :  , concern  toxic alcohol in...                     0\n",
       "1  chief complaint : abdomin pain present ill : 7...                     0\n",
       "2  chief complaint : bilater sub dural hematoma p...                     0\n",
       "3  chief complaint : intracrani bleed present ill...                     0\n",
       "4  chief complaint : ischem left foot present ill...                     0"
      ]
     },
     "execution_count": 19,
     "metadata": {},
     "output_type": "execute_result"
    }
   ],
   "source": [
    "# Apply swr to the 'text' column\n",
    "train_df['text'] = train_df['text'].apply(remove_stopwords)\n",
    "test_df['text'] = test_df['text'].apply(remove_stopwords)\n",
    "val_df['text'] = val_df['text'].apply(remove_stopwords)\n",
    "train_df.head()"
   ]
  },
  {
   "cell_type": "markdown",
   "id": "6da55c73",
   "metadata": {
    "papermill": {
     "duration": 0.011075,
     "end_time": "2024-05-20T06:45:47.791165",
     "exception": false,
     "start_time": "2024-05-20T06:45:47.780090",
     "status": "completed"
    },
    "tags": []
   },
   "source": [
    "## CT (Clean Text)"
   ]
  },
  {
   "cell_type": "code",
   "execution_count": 20,
   "id": "17b95a01",
   "metadata": {
    "execution": {
     "iopub.execute_input": "2024-05-20T06:45:47.815101Z",
     "iopub.status.busy": "2024-05-20T06:45:47.814792Z",
     "iopub.status.idle": "2024-05-20T06:46:04.854747Z",
     "shell.execute_reply": "2024-05-20T06:46:04.853852Z"
    },
    "papermill": {
     "duration": 17.054661,
     "end_time": "2024-05-20T06:46:04.857257",
     "exception": false,
     "start_time": "2024-05-20T06:45:47.802596",
     "status": "completed"
    },
    "tags": []
   },
   "outputs": [
    {
     "name": "stdout",
     "output_type": "stream",
     "text": [
      "Collecting clean-text\r\n",
      "  Downloading clean_text-0.6.0-py3-none-any.whl.metadata (6.6 kB)\r\n",
      "Collecting emoji<2.0.0,>=1.0.0 (from clean-text)\r\n",
      "  Downloading emoji-1.7.0.tar.gz (175 kB)\r\n",
      "\u001b[2K     \u001b[90m━━━━━━━━━━━━━━━━━━━━━━━━━━━━━━━━━━━━━━━\u001b[0m \u001b[32m175.4/175.4 kB\u001b[0m \u001b[31m4.3 MB/s\u001b[0m eta \u001b[36m0:00:00\u001b[0m\r\n",
      "\u001b[?25h  Preparing metadata (setup.py) ... \u001b[?25l-\b \bdone\r\n",
      "\u001b[?25hCollecting ftfy<7.0,>=6.0 (from clean-text)\r\n",
      "  Downloading ftfy-6.2.0-py3-none-any.whl.metadata (7.3 kB)\r\n",
      "Requirement already satisfied: wcwidth<0.3.0,>=0.2.12 in /opt/conda/lib/python3.10/site-packages (from ftfy<7.0,>=6.0->clean-text) (0.2.13)\r\n",
      "Downloading clean_text-0.6.0-py3-none-any.whl (11 kB)\r\n",
      "Downloading ftfy-6.2.0-py3-none-any.whl (54 kB)\r\n",
      "\u001b[2K   \u001b[90m━━━━━━━━━━━━━━━━━━━━━━━━━━━━━━━━━━━━━━━━\u001b[0m \u001b[32m54.4/54.4 kB\u001b[0m \u001b[31m3.5 MB/s\u001b[0m eta \u001b[36m0:00:00\u001b[0m\r\n",
      "\u001b[?25hBuilding wheels for collected packages: emoji\r\n",
      "  Building wheel for emoji (setup.py) ... \u001b[?25l-\b \bdone\r\n",
      "\u001b[?25h  Created wheel for emoji: filename=emoji-1.7.0-py3-none-any.whl size=171033 sha256=c5e7436e46a767ceaa8e1c80d78e3186de09629140753346507a5cf66757d4ee\r\n",
      "  Stored in directory: /root/.cache/pip/wheels/31/8a/8c/315c9e5d7773f74b33d5ed33f075b49c6eaeb7cedbb86e2cf8\r\n",
      "Successfully built emoji\r\n",
      "Installing collected packages: emoji, ftfy, clean-text\r\n",
      "  Attempting uninstall: emoji\r\n",
      "    Found existing installation: emoji 2.11.0\r\n",
      "    Uninstalling emoji-2.11.0:\r\n",
      "      Successfully uninstalled emoji-2.11.0\r\n",
      "Successfully installed clean-text-0.6.0 emoji-1.7.0 ftfy-6.2.0\r\n"
     ]
    }
   ],
   "source": [
    "!pip install clean-text\n",
    "from cleantext import clean"
   ]
  },
  {
   "cell_type": "code",
   "execution_count": 21,
   "id": "c32d9947",
   "metadata": {
    "execution": {
     "iopub.execute_input": "2024-05-20T06:46:04.883959Z",
     "iopub.status.busy": "2024-05-20T06:46:04.883618Z",
     "iopub.status.idle": "2024-05-20T06:49:07.741564Z",
     "shell.execute_reply": "2024-05-20T06:49:07.740649Z"
    },
    "papermill": {
     "duration": 182.885956,
     "end_time": "2024-05-20T06:49:07.756121",
     "exception": false,
     "start_time": "2024-05-20T06:46:04.870165",
     "status": "completed"
    },
    "tags": []
   },
   "outputs": [
    {
     "data": {
      "text/html": [
       "<div>\n",
       "<style scoped>\n",
       "    .dataframe tbody tr th:only-of-type {\n",
       "        vertical-align: middle;\n",
       "    }\n",
       "\n",
       "    .dataframe tbody tr th {\n",
       "        vertical-align: top;\n",
       "    }\n",
       "\n",
       "    .dataframe thead th {\n",
       "        text-align: right;\n",
       "    }\n",
       "</style>\n",
       "<table border=\"1\" class=\"dataframe\">\n",
       "  <thead>\n",
       "    <tr style=\"text-align: right;\">\n",
       "      <th></th>\n",
       "      <th>text</th>\n",
       "      <th>hospital_expire_flag</th>\n",
       "    </tr>\n",
       "  </thead>\n",
       "  <tbody>\n",
       "    <tr>\n",
       "      <th>0</th>\n",
       "      <td>chief complaint concern toxic alcohol ingest p...</td>\n",
       "      <td>0</td>\n",
       "    </tr>\n",
       "    <tr>\n",
       "      <th>1</th>\n",
       "      <td>chief complaint abdomin pain present ill &lt;numb...</td>\n",
       "      <td>0</td>\n",
       "    </tr>\n",
       "    <tr>\n",
       "      <th>2</th>\n",
       "      <td>chief complaint bilater sub dural hematoma pre...</td>\n",
       "      <td>0</td>\n",
       "    </tr>\n",
       "    <tr>\n",
       "      <th>3</th>\n",
       "      <td>chief complaint intracrani bleed present ill &lt;...</td>\n",
       "      <td>0</td>\n",
       "    </tr>\n",
       "    <tr>\n",
       "      <th>4</th>\n",
       "      <td>chief complaint ischem left foot present ill 7...</td>\n",
       "      <td>0</td>\n",
       "    </tr>\n",
       "  </tbody>\n",
       "</table>\n",
       "</div>"
      ],
      "text/plain": [
       "                                                text  hospital_expire_flag\n",
       "0  chief complaint concern toxic alcohol ingest p...                     0\n",
       "1  chief complaint abdomin pain present ill <numb...                     0\n",
       "2  chief complaint bilater sub dural hematoma pre...                     0\n",
       "3  chief complaint intracrani bleed present ill <...                     0\n",
       "4  chief complaint ischem left foot present ill 7...                     0"
      ]
     },
     "execution_count": 21,
     "metadata": {},
     "output_type": "execute_result"
    }
   ],
   "source": [
    "# Apply text cleaning function\n",
    "train_df['text'] = train_df['text'].apply(lambda x: clean(x,\n",
    "                                                        fix_unicode=True,\n",
    "                                                        to_ascii=True,\n",
    "                                                        lower=True,\n",
    "                                                        no_line_breaks=False,\n",
    "                                                        no_urls=True,\n",
    "                                                        no_emails=True,\n",
    "                                                        no_phone_numbers=True,\n",
    "                                                        no_numbers=True,\n",
    "                                                        no_currency_symbols=True,\n",
    "                                                        no_punct=True,\n",
    "                                                        replace_with_punct=\"\",\n",
    "                                                        replace_with_url=\"<URL>\",\n",
    "                                                        replace_with_email=\"<EMAIL>\",\n",
    "                                                        replace_with_phone_number=\"<PHONE>\",\n",
    "                                                        replace_with_number=\"<NUMBER>\",\n",
    "                                                        replace_with_currency_symbol=\"<CUR>\",\n",
    "                                                        lang=\"en\"\n",
    "                                                        ))\n",
    "\n",
    "train_df.head()"
   ]
  },
  {
   "cell_type": "code",
   "execution_count": 22,
   "id": "749bdf78",
   "metadata": {
    "execution": {
     "iopub.execute_input": "2024-05-20T06:49:07.782635Z",
     "iopub.status.busy": "2024-05-20T06:49:07.782004Z",
     "iopub.status.idle": "2024-05-20T06:50:01.339846Z",
     "shell.execute_reply": "2024-05-20T06:50:01.338842Z"
    },
    "papermill": {
     "duration": 53.573656,
     "end_time": "2024-05-20T06:50:01.342256",
     "exception": false,
     "start_time": "2024-05-20T06:49:07.768600",
     "status": "completed"
    },
    "tags": []
   },
   "outputs": [],
   "source": [
    "# Apply text cleaning function\n",
    "test_df['text'] = test_df['text'].apply(lambda x: clean(x,\n",
    "                                                        fix_unicode=True,\n",
    "                                                        to_ascii=True,\n",
    "                                                        lower=True,\n",
    "                                                        no_line_breaks=False,\n",
    "                                                        no_urls=True,\n",
    "                                                        no_emails=True,\n",
    "                                                        no_phone_numbers=True,\n",
    "                                                        no_numbers=True,\n",
    "                                                        no_currency_symbols=True,\n",
    "                                                        no_punct=True,\n",
    "                                                        replace_with_punct=\"\",\n",
    "                                                        replace_with_url=\"<URL>\",\n",
    "                                                        replace_with_email=\"<EMAIL>\",\n",
    "                                                        replace_with_phone_number=\"<PHONE>\",\n",
    "                                                        replace_with_number=\"<NUMBER>\",\n",
    "                                                        replace_with_currency_symbol=\"<CUR>\",\n",
    "                                                        lang=\"en\"\n",
    "                                                        ))"
   ]
  },
  {
   "cell_type": "code",
   "execution_count": 23,
   "id": "6864a83e",
   "metadata": {
    "execution": {
     "iopub.execute_input": "2024-05-20T06:50:01.369044Z",
     "iopub.status.busy": "2024-05-20T06:50:01.368731Z",
     "iopub.status.idle": "2024-05-20T06:50:27.563092Z",
     "shell.execute_reply": "2024-05-20T06:50:27.562328Z"
    },
    "papermill": {
     "duration": 26.209982,
     "end_time": "2024-05-20T06:50:27.565363",
     "exception": false,
     "start_time": "2024-05-20T06:50:01.355381",
     "status": "completed"
    },
    "tags": []
   },
   "outputs": [],
   "source": [
    "# Apply text cleaning function\n",
    "val_df['text'] = val_df['text'].apply(lambda x: clean(x,\n",
    "                                                        fix_unicode=True,\n",
    "                                                        to_ascii=True,\n",
    "                                                        lower=True,\n",
    "                                                        no_line_breaks=False,\n",
    "                                                        no_urls=True,\n",
    "                                                        no_emails=True,\n",
    "                                                        no_phone_numbers=True,\n",
    "                                                        no_numbers=True,\n",
    "                                                        no_currency_symbols=True,\n",
    "                                                        no_punct=True,\n",
    "                                                        replace_with_punct=\"\",\n",
    "                                                        replace_with_url=\"<URL>\",\n",
    "                                                        replace_with_email=\"<EMAIL>\",\n",
    "                                                        replace_with_phone_number=\"<PHONE>\",\n",
    "                                                        replace_with_number=\"<NUMBER>\",\n",
    "                                                        replace_with_currency_symbol=\"<CUR>\",\n",
    "                                                        lang=\"en\"\n",
    "                                                        ))"
   ]
  },
  {
   "cell_type": "code",
   "execution_count": 24,
   "id": "ca6a995a",
   "metadata": {
    "execution": {
     "iopub.execute_input": "2024-05-20T06:50:27.592176Z",
     "iopub.status.busy": "2024-05-20T06:50:27.591870Z",
     "iopub.status.idle": "2024-05-20T06:50:27.601432Z",
     "shell.execute_reply": "2024-05-20T06:50:27.600614Z"
    },
    "papermill": {
     "duration": 0.024889,
     "end_time": "2024-05-20T06:50:27.603249",
     "exception": false,
     "start_time": "2024-05-20T06:50:27.578360",
     "status": "completed"
    },
    "tags": []
   },
   "outputs": [],
   "source": [
    "train_texts = train_df['text'].tolist()\n",
    "train_labels = train_df['hospital_expire_flag'].tolist()\n",
    "val_texts = val_df['text'].tolist()\n",
    "val_labels = val_df['hospital_expire_flag'].tolist()\n",
    "test_texts = test_df['text'].tolist()\n",
    "test_labels = test_df['hospital_expire_flag'].tolist()"
   ]
  },
  {
   "cell_type": "code",
   "execution_count": 25,
   "id": "3a5c407a",
   "metadata": {
    "execution": {
     "iopub.execute_input": "2024-05-20T06:50:27.630066Z",
     "iopub.status.busy": "2024-05-20T06:50:27.629789Z",
     "iopub.status.idle": "2024-05-20T06:50:27.637079Z",
     "shell.execute_reply": "2024-05-20T06:50:27.636113Z"
    },
    "papermill": {
     "duration": 0.023083,
     "end_time": "2024-05-20T06:50:27.638970",
     "exception": false,
     "start_time": "2024-05-20T06:50:27.615887",
     "status": "completed"
    },
    "tags": []
   },
   "outputs": [],
   "source": [
    "class TextClassificationDataset(Dataset):\n",
    "    def __init__(self, texts, labels, tokenizer, max_length):\n",
    "        self.texts = [str(text) for text in texts]\n",
    "        self.labels = labels\n",
    "        self.tokenizer = tokenizer\n",
    "        self.max_length = max_length\n",
    "    def __len__(self):\n",
    "        return len(self.texts)\n",
    "    def __getitem__(self, idx):\n",
    "        text = self.texts[idx]\n",
    "        label = self.labels[idx]\n",
    "        encoding = self.tokenizer(text, return_tensors='pt', max_length=self.max_length, padding='max_length', truncation=True)\n",
    "        return {'input_ids': encoding['input_ids'].flatten(), 'attention_mask': encoding['attention_mask'].flatten(), 'label': torch.tensor(label)}"
   ]
  },
  {
   "cell_type": "code",
   "execution_count": 26,
   "id": "4ff6ed43",
   "metadata": {
    "execution": {
     "iopub.execute_input": "2024-05-20T06:50:27.666429Z",
     "iopub.status.busy": "2024-05-20T06:50:27.666148Z",
     "iopub.status.idle": "2024-05-20T06:50:27.672261Z",
     "shell.execute_reply": "2024-05-20T06:50:27.671456Z"
    },
    "papermill": {
     "duration": 0.021747,
     "end_time": "2024-05-20T06:50:27.674201",
     "exception": false,
     "start_time": "2024-05-20T06:50:27.652454",
     "status": "completed"
    },
    "tags": []
   },
   "outputs": [],
   "source": [
    "class RobertaClassifier(nn.Module):\n",
    "    def __init__(self, bert_model_name, num_classes):\n",
    "        super(RobertaClassifier, self).__init__()\n",
    "        self.bert =  RobertaModel.from_pretrained(bert_model_name)\n",
    "        self.dropout = nn.Dropout(0.2)\n",
    "        self.fc = nn.Linear(self.bert.config.hidden_size, num_classes)\n",
    "\n",
    "    def forward(self, input_ids, attention_mask):\n",
    "        outputs = self.bert(input_ids=input_ids, attention_mask=attention_mask)\n",
    "        pooled_output = outputs.pooler_output\n",
    "        x = self.dropout(pooled_output)\n",
    "        logits = self.fc(x)\n",
    "        return logits"
   ]
  },
  {
   "cell_type": "code",
   "execution_count": 27,
   "id": "e12825c2",
   "metadata": {
    "execution": {
     "iopub.execute_input": "2024-05-20T06:50:27.701737Z",
     "iopub.status.busy": "2024-05-20T06:50:27.701206Z",
     "iopub.status.idle": "2024-05-20T06:50:27.705177Z",
     "shell.execute_reply": "2024-05-20T06:50:27.704320Z"
    },
    "papermill": {
     "duration": 0.01974,
     "end_time": "2024-05-20T06:50:27.707018",
     "exception": false,
     "start_time": "2024-05-20T06:50:27.687278",
     "status": "completed"
    },
    "tags": []
   },
   "outputs": [],
   "source": [
    "# Set up parameters\n",
    "bert_model_name = 'FacebookAI/roberta-base'\n",
    "num_classes = 2\n",
    "max_length = 512\n",
    "batch_size = 8"
   ]
  },
  {
   "cell_type": "code",
   "execution_count": 28,
   "id": "e1540eaf",
   "metadata": {
    "execution": {
     "iopub.execute_input": "2024-05-20T06:50:27.780230Z",
     "iopub.status.busy": "2024-05-20T06:50:27.779886Z",
     "iopub.status.idle": "2024-05-20T06:50:29.502746Z",
     "shell.execute_reply": "2024-05-20T06:50:29.501919Z"
    },
    "papermill": {
     "duration": 1.739472,
     "end_time": "2024-05-20T06:50:29.505065",
     "exception": false,
     "start_time": "2024-05-20T06:50:27.765593",
     "status": "completed"
    },
    "tags": []
   },
   "outputs": [
    {
     "data": {
      "application/vnd.jupyter.widget-view+json": {
       "model_id": "eb0b04dd11e343188651616b6cff666c",
       "version_major": 2,
       "version_minor": 0
      },
      "text/plain": [
       "tokenizer_config.json:   0%|          | 0.00/25.0 [00:00<?, ?B/s]"
      ]
     },
     "metadata": {},
     "output_type": "display_data"
    },
    {
     "data": {
      "application/vnd.jupyter.widget-view+json": {
       "model_id": "969f26b1c8de4ab99a366a8a7d31450f",
       "version_major": 2,
       "version_minor": 0
      },
      "text/plain": [
       "vocab.json:   0%|          | 0.00/899k [00:00<?, ?B/s]"
      ]
     },
     "metadata": {},
     "output_type": "display_data"
    },
    {
     "data": {
      "application/vnd.jupyter.widget-view+json": {
       "model_id": "9930022cf19a466b812d1a000d93b98c",
       "version_major": 2,
       "version_minor": 0
      },
      "text/plain": [
       "merges.txt:   0%|          | 0.00/456k [00:00<?, ?B/s]"
      ]
     },
     "metadata": {},
     "output_type": "display_data"
    },
    {
     "data": {
      "application/vnd.jupyter.widget-view+json": {
       "model_id": "01b2a1b015c34a178bcbabe7964af356",
       "version_major": 2,
       "version_minor": 0
      },
      "text/plain": [
       "tokenizer.json:   0%|          | 0.00/1.36M [00:00<?, ?B/s]"
      ]
     },
     "metadata": {},
     "output_type": "display_data"
    },
    {
     "data": {
      "application/vnd.jupyter.widget-view+json": {
       "model_id": "4eb23041f15a42218c864fc940fbe7fb",
       "version_major": 2,
       "version_minor": 0
      },
      "text/plain": [
       "config.json:   0%|          | 0.00/481 [00:00<?, ?B/s]"
      ]
     },
     "metadata": {},
     "output_type": "display_data"
    }
   ],
   "source": [
    "tokenizer = RobertaTokenizer.from_pretrained(bert_model_name)\n",
    "\n",
    "train_dataset = TextClassificationDataset(train_texts, train_labels, tokenizer, max_length)\n",
    "val_dataset = TextClassificationDataset(val_texts, val_labels, tokenizer, max_length)\n",
    "test_dataset = TextClassificationDataset(test_texts, test_labels, tokenizer, max_length)\n",
    "\n",
    "train_dataloader = DataLoader(train_dataset, batch_size=batch_size, shuffle=True)\n",
    "val_dataloader = DataLoader(val_dataset, batch_size=batch_size)\n",
    "test_dataloader = DataLoader(test_dataset, batch_size=batch_size)"
   ]
  },
  {
   "cell_type": "code",
   "execution_count": 29,
   "id": "a05f141c",
   "metadata": {
    "execution": {
     "iopub.execute_input": "2024-05-20T06:50:29.534753Z",
     "iopub.status.busy": "2024-05-20T06:50:29.534439Z",
     "iopub.status.idle": "2024-05-20T06:50:32.401675Z",
     "shell.execute_reply": "2024-05-20T06:50:32.400710Z"
    },
    "papermill": {
     "duration": 2.884536,
     "end_time": "2024-05-20T06:50:32.403982",
     "exception": false,
     "start_time": "2024-05-20T06:50:29.519446",
     "status": "completed"
    },
    "tags": []
   },
   "outputs": [
    {
     "data": {
      "application/vnd.jupyter.widget-view+json": {
       "model_id": "d8a481106f314be5b39d34e5d646676e",
       "version_major": 2,
       "version_minor": 0
      },
      "text/plain": [
       "model.safetensors:   0%|          | 0.00/499M [00:00<?, ?B/s]"
      ]
     },
     "metadata": {},
     "output_type": "display_data"
    },
    {
     "name": "stderr",
     "output_type": "stream",
     "text": [
      "Some weights of RobertaModel were not initialized from the model checkpoint at FacebookAI/roberta-base and are newly initialized: ['roberta.pooler.dense.bias', 'roberta.pooler.dense.weight']\n",
      "You should probably TRAIN this model on a down-stream task to be able to use it for predictions and inference.\n"
     ]
    }
   ],
   "source": [
    "device = torch.device(\"cuda\" if torch.cuda.is_available() else \"cpu\")\n",
    "model = RobertaClassifier(bert_model_name, num_classes).to(device)"
   ]
  },
  {
   "cell_type": "code",
   "execution_count": 30,
   "id": "425ee776",
   "metadata": {
    "execution": {
     "iopub.execute_input": "2024-05-20T06:50:32.435006Z",
     "iopub.status.busy": "2024-05-20T06:50:32.434310Z",
     "iopub.status.idle": "2024-05-20T06:50:32.441924Z",
     "shell.execute_reply": "2024-05-20T06:50:32.441076Z"
    },
    "papermill": {
     "duration": 0.02493,
     "end_time": "2024-05-20T06:50:32.443875",
     "exception": false,
     "start_time": "2024-05-20T06:50:32.418945",
     "status": "completed"
    },
    "tags": []
   },
   "outputs": [],
   "source": [
    "epochs = 20\n",
    "best_roc_auc = 0.0\n",
    "min_delta = 0.0001\n",
    "early_stopping_count = 0\n",
    "early_stopping_patience = 3\n",
    "gradient_accumulation_steps = 10\n",
    "\n",
    "# Set the optimizer\n",
    "optimizer = optim.AdamW(model.parameters(), lr=1e-5, weight_decay=0.01)\n",
    "\n",
    "# Set the scheduler\n",
    "scheduler = get_linear_schedule_with_warmup(\n",
    "    optimizer, \n",
    "    num_warmup_steps=50, \n",
    "    num_training_steps=len(train_dataloader) * epochs // gradient_accumulation_steps\n",
    ")\n"
   ]
  },
  {
   "cell_type": "code",
   "execution_count": 31,
   "id": "849abad1",
   "metadata": {
    "execution": {
     "iopub.execute_input": "2024-05-20T06:50:32.474259Z",
     "iopub.status.busy": "2024-05-20T06:50:32.473995Z",
     "iopub.status.idle": "2024-05-20T11:47:41.214033Z",
     "shell.execute_reply": "2024-05-20T11:47:41.213005Z"
    },
    "papermill": {
     "duration": 17828.773681,
     "end_time": "2024-05-20T11:47:41.232000",
     "exception": false,
     "start_time": "2024-05-20T06:50:32.458319",
     "status": "completed"
    },
    "tags": []
   },
   "outputs": [
    {
     "name": "stdout",
     "output_type": "stream",
     "text": [
      "Epoch: 1/20, Training Loss: 0.3482, Validation Loss: 0.3165\n",
      "Accuracy: 0.8945, Recall: 0.8945, Precision: 0.8001, F1: 0.8446269609908136, Micro F1: 0.8945, Macro Roc Auc: 0.7126\n"
     ]
    },
    {
     "name": "stderr",
     "output_type": "stream",
     "text": [
      "/opt/conda/lib/python3.10/site-packages/sklearn/metrics/_classification.py:1344: UndefinedMetricWarning: Precision is ill-defined and being set to 0.0 in labels with no predicted samples. Use `zero_division` parameter to control this behavior.\n",
      "  _warn_prf(average, modifier, msg_start, len(result))\n"
     ]
    },
    {
     "name": "stdout",
     "output_type": "stream",
     "text": [
      "Epoch: 2/20, Training Loss: 0.3057, Validation Loss: 0.3036\n",
      "Accuracy: 0.8945, Recall: 0.8945, Precision: 0.8001, F1: 0.8446269609908136, Micro F1: 0.8945, Macro Roc Auc: 0.7729\n"
     ]
    },
    {
     "name": "stderr",
     "output_type": "stream",
     "text": [
      "/opt/conda/lib/python3.10/site-packages/sklearn/metrics/_classification.py:1344: UndefinedMetricWarning: Precision is ill-defined and being set to 0.0 in labels with no predicted samples. Use `zero_division` parameter to control this behavior.\n",
      "  _warn_prf(average, modifier, msg_start, len(result))\n"
     ]
    },
    {
     "name": "stdout",
     "output_type": "stream",
     "text": [
      "Epoch: 3/20, Training Loss: 0.2814, Validation Loss: 0.2806\n",
      "Accuracy: 0.8943, Recall: 0.8943, Precision: 0.8568, F1: 0.8560756817808703, Micro F1: 0.8943, Macro Roc Auc: 0.7967\n",
      "Epoch: 4/20, Training Loss: 0.2628, Validation Loss: 0.2850\n",
      "Accuracy: 0.8979, Recall: 0.8979, Precision: 0.8710, F1: 0.870119465698785, Micro F1: 0.8979, Macro Roc Auc: 0.8014\n",
      "Epoch: 5/20, Training Loss: 0.2488, Validation Loss: 0.2812\n",
      "Accuracy: 0.8959, Recall: 0.8959, Precision: 0.8668, F1: 0.8687182589849196, Micro F1: 0.8959, Macro Roc Auc: 0.8012\n",
      "EarlyStopping counter: 1 out of 3\n",
      "Epoch: 6/20, Training Loss: 0.2308, Validation Loss: 0.3145\n",
      "Accuracy: 0.8969, Recall: 0.8969, Precision: 0.8676, F1: 0.8641096169519152, Micro F1: 0.8969, Macro Roc Auc: 0.8047\n",
      "Epoch: 7/20, Training Loss: 0.2141, Validation Loss: 0.3100\n",
      "Accuracy: 0.8934, Recall: 0.8934, Precision: 0.8659, F1: 0.8716022986972992, Micro F1: 0.8934, Macro Roc Auc: 0.7977\n",
      "EarlyStopping counter: 1 out of 3\n",
      "Epoch: 8/20, Training Loss: 0.1963, Validation Loss: 0.3341\n",
      "Accuracy: 0.8930, Recall: 0.8930, Precision: 0.8661, F1: 0.8721175065749287, Micro F1: 0.8930, Macro Roc Auc: 0.7935\n",
      "EarlyStopping counter: 2 out of 3\n",
      "Epoch: 9/20, Training Loss: 0.1790, Validation Loss: 0.3377\n",
      "Accuracy: 0.8888, Recall: 0.8888, Precision: 0.8691, F1: 0.8760672467123916, Micro F1: 0.8888, Macro Roc Auc: 0.7844\n",
      "EarlyStopping counter: 3 out of 3\n",
      "Early stopping\n"
     ]
    }
   ],
   "source": [
    "# Training loop\n",
    "for epoch in range(epochs):\n",
    "    model.train()\n",
    "    train_loss = 0\n",
    "    for step, batch in enumerate(train_dataloader):\n",
    "        optimizer.zero_grad() if step % gradient_accumulation_steps == 0 else None\n",
    "        input_ids = batch['input_ids'].to(device)\n",
    "        attention_mask = batch['attention_mask'].to(device)\n",
    "        labels = batch['label'].to(device)\n",
    "        outputs = model(input_ids, attention_mask)\n",
    "        loss = nn.CrossEntropyLoss()(outputs, labels)\n",
    "        (loss / gradient_accumulation_steps).backward()\n",
    "        train_loss += loss.item()\n",
    "        if (step + 1) % gradient_accumulation_steps == 0 or (step + 1) == len(train_dataloader):\n",
    "            optimizer.step()\n",
    "            scheduler.step()\n",
    "            \n",
    "    model.eval()\n",
    "    val_loss = 0\n",
    "    val_preds = []\n",
    "    val_labels = []\n",
    "    with torch.no_grad():\n",
    "        for batch in val_dataloader:\n",
    "            input_ids = batch['input_ids'].to(device)\n",
    "            attention_mask = batch['attention_mask'].to(device)\n",
    "            labels = batch['label'].to(device)\n",
    "            outputs = model(input_ids, attention_mask)\n",
    "            loss = nn.CrossEntropyLoss()(outputs, labels)\n",
    "            val_loss += loss.item()\n",
    "            val_preds.append(F.softmax(outputs, dim=1).cpu().numpy())\n",
    "            val_labels.append(labels.cpu().numpy())\n",
    "            \n",
    "    val_preds = np.concatenate(val_preds)\n",
    "    val_labels = np.concatenate(val_labels)\n",
    "    val_loss /= len(val_dataloader)\n",
    "    train_loss /= len(train_dataloader)\n",
    "    print(f'Epoch: {epoch+1}/{epochs}, Training Loss: {train_loss:.4f}, Validation Loss: {val_loss:.4f}')\n",
    "    \n",
    "    # Calculate metrics\n",
    "    val_preds_class = np.argmax(val_preds, axis=1)\n",
    "    accuracy = accuracy_score(val_labels, val_preds_class)\n",
    "    recall = recall_score(val_labels, val_preds_class, average='weighted')\n",
    "    precision = precision_score(val_labels, val_preds_class, average='weighted')\n",
    "    f1 = f1_score(val_labels, val_preds_class, average='weighted')\n",
    "    micro_f1 = f1_score(val_labels, val_preds_class, average='micro')\n",
    "    macro_roc_auc = roc_auc_score(val_labels, val_preds[:, 1], multi_class='ovo', average='macro')  # Changed val_preds to val_preds[:, 1]\n",
    "    \n",
    "    print(f'Accuracy: {accuracy:.4f}, Recall: {recall:.4f}, Precision: {precision:.4f}, F1: {f1}, Micro F1: {micro_f1:.4f}, Macro Roc Auc: {macro_roc_auc:.4f}')\n",
    "            \n",
    "    # Implement early stopping\n",
    "    if epoch > 0 and macro_roc_auc - best_roc_auc < min_delta:\n",
    "        early_stopping_count += 1\n",
    "        print(f'EarlyStopping counter: {early_stopping_count} out of {early_stopping_patience}')\n",
    "        if early_stopping_count >= early_stopping_patience:\n",
    "            print('Early stopping')\n",
    "            break\n",
    "    else:\n",
    "        best_roc_auc = macro_roc_auc\n",
    "        early_stopping_count = 0  # Reset early stopping counter"
   ]
  },
  {
   "cell_type": "code",
   "execution_count": 32,
   "id": "8a328b72",
   "metadata": {
    "execution": {
     "iopub.execute_input": "2024-05-20T11:47:41.263936Z",
     "iopub.status.busy": "2024-05-20T11:47:41.263619Z",
     "iopub.status.idle": "2024-05-20T11:51:06.969066Z",
     "shell.execute_reply": "2024-05-20T11:51:06.968205Z"
    },
    "papermill": {
     "duration": 205.723961,
     "end_time": "2024-05-20T11:51:06.971661",
     "exception": false,
     "start_time": "2024-05-20T11:47:41.247700",
     "status": "completed"
    },
    "tags": []
   },
   "outputs": [],
   "source": [
    "model.eval()\n",
    "\n",
    "test_preds = []\n",
    "test_labels = []\n",
    "\n",
    "# Iterate over test data\n",
    "with torch.no_grad():\n",
    "    for batch in test_dataloader:\n",
    "        input_ids = batch['input_ids'].to(device)\n",
    "        attention_mask = batch['attention_mask'].to(device)\n",
    "        labels = batch['label'].to(device)\n",
    "        outputs = model(input_ids, attention_mask)\n",
    "        test_preds.append(F.softmax(outputs, dim=1).cpu().numpy())\n",
    "        test_labels.append(labels.cpu().numpy())\n"
   ]
  },
  {
   "cell_type": "code",
   "execution_count": 33,
   "id": "d7d017ca",
   "metadata": {
    "execution": {
     "iopub.execute_input": "2024-05-20T11:51:07.005349Z",
     "iopub.status.busy": "2024-05-20T11:51:07.004517Z",
     "iopub.status.idle": "2024-05-20T11:51:07.044124Z",
     "shell.execute_reply": "2024-05-20T11:51:07.043047Z"
    },
    "papermill": {
     "duration": 0.058304,
     "end_time": "2024-05-20T11:51:07.046263",
     "exception": false,
     "start_time": "2024-05-20T11:51:06.987959",
     "status": "completed"
    },
    "tags": []
   },
   "outputs": [
    {
     "name": "stdout",
     "output_type": "stream",
     "text": [
      "              precision    recall  f1-score   support\n",
      "\n",
      "           0     0.9202    0.9573    0.9384      8797\n",
      "           1     0.4396    0.2878    0.3479      1025\n",
      "\n",
      "    accuracy                         0.8874      9822\n",
      "   macro avg     0.6799    0.6225    0.6431      9822\n",
      "weighted avg     0.8701    0.8874    0.8768      9822\n",
      "\n"
     ]
    }
   ],
   "source": [
    "test_preds = np.concatenate(test_preds)\n",
    "test_labels = np.concatenate(test_labels)\n",
    "\n",
    "test_preds_class = np.argmax(test_preds, axis=1)\n",
    "\n",
    "report = classification_report(test_labels, test_preds_class, digits=4)\n",
    "\n",
    "print(report)"
   ]
  },
  {
   "cell_type": "code",
   "execution_count": null,
   "id": "07087892",
   "metadata": {
    "papermill": {
     "duration": 0.015182,
     "end_time": "2024-05-20T11:51:07.077029",
     "exception": false,
     "start_time": "2024-05-20T11:51:07.061847",
     "status": "completed"
    },
    "tags": []
   },
   "outputs": [],
   "source": []
  }
 ],
 "metadata": {
  "kaggle": {
   "accelerator": "gpu",
   "dataSources": [
    {
     "datasetId": 4981324,
     "sourceId": 8377326,
     "sourceType": "datasetVersion"
    },
    {
     "datasetId": 4981811,
     "sourceId": 8378025,
     "sourceType": "datasetVersion"
    }
   ],
   "dockerImageVersionId": 30699,
   "isGpuEnabled": true,
   "isInternetEnabled": true,
   "language": "python",
   "sourceType": "notebook"
  },
  "kernelspec": {
   "display_name": "Python 3",
   "language": "python",
   "name": "python3"
  },
  "language_info": {
   "codemirror_mode": {
    "name": "ipython",
    "version": 3
   },
   "file_extension": ".py",
   "mimetype": "text/x-python",
   "name": "python",
   "nbconvert_exporter": "python",
   "pygments_lexer": "ipython3",
   "version": "3.10.13"
  },
  "papermill": {
   "default_parameters": {},
   "duration": 19185.369795,
   "end_time": "2024-05-20T11:51:09.753206",
   "environment_variables": {},
   "exception": null,
   "input_path": "__notebook__.ipynb",
   "output_path": "__notebook__.ipynb",
   "parameters": {},
   "start_time": "2024-05-20T06:31:24.383411",
   "version": "2.5.0"
  },
  "widgets": {
   "application/vnd.jupyter.widget-state+json": {
    "state": {
     "01b2a1b015c34a178bcbabe7964af356": {
      "model_module": "@jupyter-widgets/controls",
      "model_module_version": "1.5.0",
      "model_name": "HBoxModel",
      "state": {
       "_dom_classes": [],
       "_model_module": "@jupyter-widgets/controls",
       "_model_module_version": "1.5.0",
       "_model_name": "HBoxModel",
       "_view_count": null,
       "_view_module": "@jupyter-widgets/controls",
       "_view_module_version": "1.5.0",
       "_view_name": "HBoxView",
       "box_style": "",
       "children": [
        "IPY_MODEL_d4465814ab0e48d599cb18c6cf0fde2a",
        "IPY_MODEL_e3466e558ba64777a54748600e2b1bce",
        "IPY_MODEL_1d552001de2f4b3aacadab33b91c2cf1"
       ],
       "layout": "IPY_MODEL_0eed8430ac6b420498b5274c3ffe8ec5"
      }
     },
     "03527419e08b4605a6620a313518e1cb": {
      "model_module": "@jupyter-widgets/base",
      "model_module_version": "1.2.0",
      "model_name": "LayoutModel",
      "state": {
       "_model_module": "@jupyter-widgets/base",
       "_model_module_version": "1.2.0",
       "_model_name": "LayoutModel",
       "_view_count": null,
       "_view_module": "@jupyter-widgets/base",
       "_view_module_version": "1.2.0",
       "_view_name": "LayoutView",
       "align_content": null,
       "align_items": null,
       "align_self": null,
       "border": null,
       "bottom": null,
       "display": null,
       "flex": null,
       "flex_flow": null,
       "grid_area": null,
       "grid_auto_columns": null,
       "grid_auto_flow": null,
       "grid_auto_rows": null,
       "grid_column": null,
       "grid_gap": null,
       "grid_row": null,
       "grid_template_areas": null,
       "grid_template_columns": null,
       "grid_template_rows": null,
       "height": null,
       "justify_content": null,
       "justify_items": null,
       "left": null,
       "margin": null,
       "max_height": null,
       "max_width": null,
       "min_height": null,
       "min_width": null,
       "object_fit": null,
       "object_position": null,
       "order": null,
       "overflow": null,
       "overflow_x": null,
       "overflow_y": null,
       "padding": null,
       "right": null,
       "top": null,
       "visibility": null,
       "width": null
      }
     },
     "03b28c8383b14899bdc6b827b53b5228": {
      "model_module": "@jupyter-widgets/base",
      "model_module_version": "1.2.0",
      "model_name": "LayoutModel",
      "state": {
       "_model_module": "@jupyter-widgets/base",
       "_model_module_version": "1.2.0",
       "_model_name": "LayoutModel",
       "_view_count": null,
       "_view_module": "@jupyter-widgets/base",
       "_view_module_version": "1.2.0",
       "_view_name": "LayoutView",
       "align_content": null,
       "align_items": null,
       "align_self": null,
       "border": null,
       "bottom": null,
       "display": null,
       "flex": null,
       "flex_flow": null,
       "grid_area": null,
       "grid_auto_columns": null,
       "grid_auto_flow": null,
       "grid_auto_rows": null,
       "grid_column": null,
       "grid_gap": null,
       "grid_row": null,
       "grid_template_areas": null,
       "grid_template_columns": null,
       "grid_template_rows": null,
       "height": null,
       "justify_content": null,
       "justify_items": null,
       "left": null,
       "margin": null,
       "max_height": null,
       "max_width": null,
       "min_height": null,
       "min_width": null,
       "object_fit": null,
       "object_position": null,
       "order": null,
       "overflow": null,
       "overflow_x": null,
       "overflow_y": null,
       "padding": null,
       "right": null,
       "top": null,
       "visibility": null,
       "width": null
      }
     },
     "048116f295eb417293ecef2b288b4271": {
      "model_module": "@jupyter-widgets/base",
      "model_module_version": "1.2.0",
      "model_name": "LayoutModel",
      "state": {
       "_model_module": "@jupyter-widgets/base",
       "_model_module_version": "1.2.0",
       "_model_name": "LayoutModel",
       "_view_count": null,
       "_view_module": "@jupyter-widgets/base",
       "_view_module_version": "1.2.0",
       "_view_name": "LayoutView",
       "align_content": null,
       "align_items": null,
       "align_self": null,
       "border": null,
       "bottom": null,
       "display": null,
       "flex": null,
       "flex_flow": null,
       "grid_area": null,
       "grid_auto_columns": null,
       "grid_auto_flow": null,
       "grid_auto_rows": null,
       "grid_column": null,
       "grid_gap": null,
       "grid_row": null,
       "grid_template_areas": null,
       "grid_template_columns": null,
       "grid_template_rows": null,
       "height": null,
       "justify_content": null,
       "justify_items": null,
       "left": null,
       "margin": null,
       "max_height": null,
       "max_width": null,
       "min_height": null,
       "min_width": null,
       "object_fit": null,
       "object_position": null,
       "order": null,
       "overflow": null,
       "overflow_x": null,
       "overflow_y": null,
       "padding": null,
       "right": null,
       "top": null,
       "visibility": null,
       "width": null
      }
     },
     "0eed8430ac6b420498b5274c3ffe8ec5": {
      "model_module": "@jupyter-widgets/base",
      "model_module_version": "1.2.0",
      "model_name": "LayoutModel",
      "state": {
       "_model_module": "@jupyter-widgets/base",
       "_model_module_version": "1.2.0",
       "_model_name": "LayoutModel",
       "_view_count": null,
       "_view_module": "@jupyter-widgets/base",
       "_view_module_version": "1.2.0",
       "_view_name": "LayoutView",
       "align_content": null,
       "align_items": null,
       "align_self": null,
       "border": null,
       "bottom": null,
       "display": null,
       "flex": null,
       "flex_flow": null,
       "grid_area": null,
       "grid_auto_columns": null,
       "grid_auto_flow": null,
       "grid_auto_rows": null,
       "grid_column": null,
       "grid_gap": null,
       "grid_row": null,
       "grid_template_areas": null,
       "grid_template_columns": null,
       "grid_template_rows": null,
       "height": null,
       "justify_content": null,
       "justify_items": null,
       "left": null,
       "margin": null,
       "max_height": null,
       "max_width": null,
       "min_height": null,
       "min_width": null,
       "object_fit": null,
       "object_position": null,
       "order": null,
       "overflow": null,
       "overflow_x": null,
       "overflow_y": null,
       "padding": null,
       "right": null,
       "top": null,
       "visibility": null,
       "width": null
      }
     },
     "0fb81d7e7e7b451dbdb13bf0ab7f4b17": {
      "model_module": "@jupyter-widgets/controls",
      "model_module_version": "1.5.0",
      "model_name": "HTMLModel",
      "state": {
       "_dom_classes": [],
       "_model_module": "@jupyter-widgets/controls",
       "_model_module_version": "1.5.0",
       "_model_name": "HTMLModel",
       "_view_count": null,
       "_view_module": "@jupyter-widgets/controls",
       "_view_module_version": "1.5.0",
       "_view_name": "HTMLView",
       "description": "",
       "description_tooltip": null,
       "layout": "IPY_MODEL_9e4f2065328642e49657169cb732d369",
       "placeholder": "​",
       "style": "IPY_MODEL_ef7f66891df948c198b8c91872a9a21d",
       "value": "config.json: 100%"
      }
     },
     "11657125f7814252a8335f5ec03ff0f3": {
      "model_module": "@jupyter-widgets/base",
      "model_module_version": "1.2.0",
      "model_name": "LayoutModel",
      "state": {
       "_model_module": "@jupyter-widgets/base",
       "_model_module_version": "1.2.0",
       "_model_name": "LayoutModel",
       "_view_count": null,
       "_view_module": "@jupyter-widgets/base",
       "_view_module_version": "1.2.0",
       "_view_name": "LayoutView",
       "align_content": null,
       "align_items": null,
       "align_self": null,
       "border": null,
       "bottom": null,
       "display": null,
       "flex": null,
       "flex_flow": null,
       "grid_area": null,
       "grid_auto_columns": null,
       "grid_auto_flow": null,
       "grid_auto_rows": null,
       "grid_column": null,
       "grid_gap": null,
       "grid_row": null,
       "grid_template_areas": null,
       "grid_template_columns": null,
       "grid_template_rows": null,
       "height": null,
       "justify_content": null,
       "justify_items": null,
       "left": null,
       "margin": null,
       "max_height": null,
       "max_width": null,
       "min_height": null,
       "min_width": null,
       "object_fit": null,
       "object_position": null,
       "order": null,
       "overflow": null,
       "overflow_x": null,
       "overflow_y": null,
       "padding": null,
       "right": null,
       "top": null,
       "visibility": null,
       "width": null
      }
     },
     "12653070a62041d48d021e659a5a7e5b": {
      "model_module": "@jupyter-widgets/controls",
      "model_module_version": "1.5.0",
      "model_name": "HTMLModel",
      "state": {
       "_dom_classes": [],
       "_model_module": "@jupyter-widgets/controls",
       "_model_module_version": "1.5.0",
       "_model_name": "HTMLModel",
       "_view_count": null,
       "_view_module": "@jupyter-widgets/controls",
       "_view_module_version": "1.5.0",
       "_view_name": "HTMLView",
       "description": "",
       "description_tooltip": null,
       "layout": "IPY_MODEL_03b28c8383b14899bdc6b827b53b5228",
       "placeholder": "​",
       "style": "IPY_MODEL_39195a981c3f4974a004ac1c6e13c737",
       "value": " 481/481 [00:00&lt;00:00, 43.4kB/s]"
      }
     },
     "16bff6fd4add43d9bfbde1695105b3c5": {
      "model_module": "@jupyter-widgets/base",
      "model_module_version": "1.2.0",
      "model_name": "LayoutModel",
      "state": {
       "_model_module": "@jupyter-widgets/base",
       "_model_module_version": "1.2.0",
       "_model_name": "LayoutModel",
       "_view_count": null,
       "_view_module": "@jupyter-widgets/base",
       "_view_module_version": "1.2.0",
       "_view_name": "LayoutView",
       "align_content": null,
       "align_items": null,
       "align_self": null,
       "border": null,
       "bottom": null,
       "display": null,
       "flex": null,
       "flex_flow": null,
       "grid_area": null,
       "grid_auto_columns": null,
       "grid_auto_flow": null,
       "grid_auto_rows": null,
       "grid_column": null,
       "grid_gap": null,
       "grid_row": null,
       "grid_template_areas": null,
       "grid_template_columns": null,
       "grid_template_rows": null,
       "height": null,
       "justify_content": null,
       "justify_items": null,
       "left": null,
       "margin": null,
       "max_height": null,
       "max_width": null,
       "min_height": null,
       "min_width": null,
       "object_fit": null,
       "object_position": null,
       "order": null,
       "overflow": null,
       "overflow_x": null,
       "overflow_y": null,
       "padding": null,
       "right": null,
       "top": null,
       "visibility": null,
       "width": null
      }
     },
     "16c0f469f5c84609b5647880e9025770": {
      "model_module": "@jupyter-widgets/controls",
      "model_module_version": "1.5.0",
      "model_name": "DescriptionStyleModel",
      "state": {
       "_model_module": "@jupyter-widgets/controls",
       "_model_module_version": "1.5.0",
       "_model_name": "DescriptionStyleModel",
       "_view_count": null,
       "_view_module": "@jupyter-widgets/base",
       "_view_module_version": "1.2.0",
       "_view_name": "StyleView",
       "description_width": ""
      }
     },
     "1d552001de2f4b3aacadab33b91c2cf1": {
      "model_module": "@jupyter-widgets/controls",
      "model_module_version": "1.5.0",
      "model_name": "HTMLModel",
      "state": {
       "_dom_classes": [],
       "_model_module": "@jupyter-widgets/controls",
       "_model_module_version": "1.5.0",
       "_model_name": "HTMLModel",
       "_view_count": null,
       "_view_module": "@jupyter-widgets/controls",
       "_view_module_version": "1.5.0",
       "_view_name": "HTMLView",
       "description": "",
       "description_tooltip": null,
       "layout": "IPY_MODEL_527283f8ee8248d3ade1de0930d2a881",
       "placeholder": "​",
       "style": "IPY_MODEL_49eab90862b749289d828dd6c74371d8",
       "value": " 1.36M/1.36M [00:00&lt;00:00, 15.9MB/s]"
      }
     },
     "1dc9736a3cdb4dc09f310bfef5d98d3c": {
      "model_module": "@jupyter-widgets/base",
      "model_module_version": "1.2.0",
      "model_name": "LayoutModel",
      "state": {
       "_model_module": "@jupyter-widgets/base",
       "_model_module_version": "1.2.0",
       "_model_name": "LayoutModel",
       "_view_count": null,
       "_view_module": "@jupyter-widgets/base",
       "_view_module_version": "1.2.0",
       "_view_name": "LayoutView",
       "align_content": null,
       "align_items": null,
       "align_self": null,
       "border": null,
       "bottom": null,
       "display": null,
       "flex": null,
       "flex_flow": null,
       "grid_area": null,
       "grid_auto_columns": null,
       "grid_auto_flow": null,
       "grid_auto_rows": null,
       "grid_column": null,
       "grid_gap": null,
       "grid_row": null,
       "grid_template_areas": null,
       "grid_template_columns": null,
       "grid_template_rows": null,
       "height": null,
       "justify_content": null,
       "justify_items": null,
       "left": null,
       "margin": null,
       "max_height": null,
       "max_width": null,
       "min_height": null,
       "min_width": null,
       "object_fit": null,
       "object_position": null,
       "order": null,
       "overflow": null,
       "overflow_x": null,
       "overflow_y": null,
       "padding": null,
       "right": null,
       "top": null,
       "visibility": null,
       "width": null
      }
     },
     "1ecb1e0297ac49f1813dec2dc21ef280": {
      "model_module": "@jupyter-widgets/controls",
      "model_module_version": "1.5.0",
      "model_name": "FloatProgressModel",
      "state": {
       "_dom_classes": [],
       "_model_module": "@jupyter-widgets/controls",
       "_model_module_version": "1.5.0",
       "_model_name": "FloatProgressModel",
       "_view_count": null,
       "_view_module": "@jupyter-widgets/controls",
       "_view_module_version": "1.5.0",
       "_view_name": "ProgressView",
       "bar_style": "success",
       "description": "",
       "description_tooltip": null,
       "layout": "IPY_MODEL_1dc9736a3cdb4dc09f310bfef5d98d3c",
       "max": 456318.0,
       "min": 0.0,
       "orientation": "horizontal",
       "style": "IPY_MODEL_bf3adc0714834eeaa87a79f053efe003",
       "value": 456318.0
      }
     },
     "225680656ce5480fb7bf08156efb7c41": {
      "model_module": "@jupyter-widgets/controls",
      "model_module_version": "1.5.0",
      "model_name": "HTMLModel",
      "state": {
       "_dom_classes": [],
       "_model_module": "@jupyter-widgets/controls",
       "_model_module_version": "1.5.0",
       "_model_name": "HTMLModel",
       "_view_count": null,
       "_view_module": "@jupyter-widgets/controls",
       "_view_module_version": "1.5.0",
       "_view_name": "HTMLView",
       "description": "",
       "description_tooltip": null,
       "layout": "IPY_MODEL_72c17a360c124e3fac65794df4aea408",
       "placeholder": "​",
       "style": "IPY_MODEL_4ed92e02726b4c02a2f37bdc3c7aa4d7",
       "value": " 25.0/25.0 [00:00&lt;00:00, 1.32kB/s]"
      }
     },
     "2748ed68694e47fc9c5f405bc2bd13bc": {
      "model_module": "@jupyter-widgets/base",
      "model_module_version": "1.2.0",
      "model_name": "LayoutModel",
      "state": {
       "_model_module": "@jupyter-widgets/base",
       "_model_module_version": "1.2.0",
       "_model_name": "LayoutModel",
       "_view_count": null,
       "_view_module": "@jupyter-widgets/base",
       "_view_module_version": "1.2.0",
       "_view_name": "LayoutView",
       "align_content": null,
       "align_items": null,
       "align_self": null,
       "border": null,
       "bottom": null,
       "display": null,
       "flex": null,
       "flex_flow": null,
       "grid_area": null,
       "grid_auto_columns": null,
       "grid_auto_flow": null,
       "grid_auto_rows": null,
       "grid_column": null,
       "grid_gap": null,
       "grid_row": null,
       "grid_template_areas": null,
       "grid_template_columns": null,
       "grid_template_rows": null,
       "height": null,
       "justify_content": null,
       "justify_items": null,
       "left": null,
       "margin": null,
       "max_height": null,
       "max_width": null,
       "min_height": null,
       "min_width": null,
       "object_fit": null,
       "object_position": null,
       "order": null,
       "overflow": null,
       "overflow_x": null,
       "overflow_y": null,
       "padding": null,
       "right": null,
       "top": null,
       "visibility": null,
       "width": null
      }
     },
     "27781b635ed34e1fb022be0f82cd56b1": {
      "model_module": "@jupyter-widgets/base",
      "model_module_version": "1.2.0",
      "model_name": "LayoutModel",
      "state": {
       "_model_module": "@jupyter-widgets/base",
       "_model_module_version": "1.2.0",
       "_model_name": "LayoutModel",
       "_view_count": null,
       "_view_module": "@jupyter-widgets/base",
       "_view_module_version": "1.2.0",
       "_view_name": "LayoutView",
       "align_content": null,
       "align_items": null,
       "align_self": null,
       "border": null,
       "bottom": null,
       "display": null,
       "flex": null,
       "flex_flow": null,
       "grid_area": null,
       "grid_auto_columns": null,
       "grid_auto_flow": null,
       "grid_auto_rows": null,
       "grid_column": null,
       "grid_gap": null,
       "grid_row": null,
       "grid_template_areas": null,
       "grid_template_columns": null,
       "grid_template_rows": null,
       "height": null,
       "justify_content": null,
       "justify_items": null,
       "left": null,
       "margin": null,
       "max_height": null,
       "max_width": null,
       "min_height": null,
       "min_width": null,
       "object_fit": null,
       "object_position": null,
       "order": null,
       "overflow": null,
       "overflow_x": null,
       "overflow_y": null,
       "padding": null,
       "right": null,
       "top": null,
       "visibility": null,
       "width": null
      }
     },
     "2e0e3d7da54c4d2eb08f3f38bf1a7834": {
      "model_module": "@jupyter-widgets/controls",
      "model_module_version": "1.5.0",
      "model_name": "HTMLModel",
      "state": {
       "_dom_classes": [],
       "_model_module": "@jupyter-widgets/controls",
       "_model_module_version": "1.5.0",
       "_model_name": "HTMLModel",
       "_view_count": null,
       "_view_module": "@jupyter-widgets/controls",
       "_view_module_version": "1.5.0",
       "_view_name": "HTMLView",
       "description": "",
       "description_tooltip": null,
       "layout": "IPY_MODEL_c88d95bb275f41d58f1cd20a7dba51bd",
       "placeholder": "​",
       "style": "IPY_MODEL_e905ccc5f7944a10a5f1e8166b021f06",
       "value": "model.safetensors: 100%"
      }
     },
     "2f02e5b598bb455598c9f77cb3f9c338": {
      "model_module": "@jupyter-widgets/controls",
      "model_module_version": "1.5.0",
      "model_name": "HTMLModel",
      "state": {
       "_dom_classes": [],
       "_model_module": "@jupyter-widgets/controls",
       "_model_module_version": "1.5.0",
       "_model_name": "HTMLModel",
       "_view_count": null,
       "_view_module": "@jupyter-widgets/controls",
       "_view_module_version": "1.5.0",
       "_view_name": "HTMLView",
       "description": "",
       "description_tooltip": null,
       "layout": "IPY_MODEL_941e9b4604de4e4d9c80d1eb2d6c8303",
       "placeholder": "​",
       "style": "IPY_MODEL_9884d6f276dd46e9a48ca3d2878dd16a",
       "value": " 899k/899k [00:00&lt;00:00, 3.44MB/s]"
      }
     },
     "360f85cfd6524ce1a6be750d8eb6c6b5": {
      "model_module": "@jupyter-widgets/controls",
      "model_module_version": "1.5.0",
      "model_name": "FloatProgressModel",
      "state": {
       "_dom_classes": [],
       "_model_module": "@jupyter-widgets/controls",
       "_model_module_version": "1.5.0",
       "_model_name": "FloatProgressModel",
       "_view_count": null,
       "_view_module": "@jupyter-widgets/controls",
       "_view_module_version": "1.5.0",
       "_view_name": "ProgressView",
       "bar_style": "success",
       "description": "",
       "description_tooltip": null,
       "layout": "IPY_MODEL_5fb392b30d324fdcad37dbfa13cf48ce",
       "max": 498818054.0,
       "min": 0.0,
       "orientation": "horizontal",
       "style": "IPY_MODEL_c2d7066b564d44ff9b61f5ee4745d493",
       "value": 498818054.0
      }
     },
     "373b257cfac54748a28c35dd153a6ac1": {
      "model_module": "@jupyter-widgets/controls",
      "model_module_version": "1.5.0",
      "model_name": "FloatProgressModel",
      "state": {
       "_dom_classes": [],
       "_model_module": "@jupyter-widgets/controls",
       "_model_module_version": "1.5.0",
       "_model_name": "FloatProgressModel",
       "_view_count": null,
       "_view_module": "@jupyter-widgets/controls",
       "_view_module_version": "1.5.0",
       "_view_name": "ProgressView",
       "bar_style": "success",
       "description": "",
       "description_tooltip": null,
       "layout": "IPY_MODEL_03527419e08b4605a6620a313518e1cb",
       "max": 898823.0,
       "min": 0.0,
       "orientation": "horizontal",
       "style": "IPY_MODEL_8ac0e8e51578472eae6263461726c0f0",
       "value": 898823.0
      }
     },
     "388a0191342f48f29b155d37e71d8144": {
      "model_module": "@jupyter-widgets/base",
      "model_module_version": "1.2.0",
      "model_name": "LayoutModel",
      "state": {
       "_model_module": "@jupyter-widgets/base",
       "_model_module_version": "1.2.0",
       "_model_name": "LayoutModel",
       "_view_count": null,
       "_view_module": "@jupyter-widgets/base",
       "_view_module_version": "1.2.0",
       "_view_name": "LayoutView",
       "align_content": null,
       "align_items": null,
       "align_self": null,
       "border": null,
       "bottom": null,
       "display": null,
       "flex": null,
       "flex_flow": null,
       "grid_area": null,
       "grid_auto_columns": null,
       "grid_auto_flow": null,
       "grid_auto_rows": null,
       "grid_column": null,
       "grid_gap": null,
       "grid_row": null,
       "grid_template_areas": null,
       "grid_template_columns": null,
       "grid_template_rows": null,
       "height": null,
       "justify_content": null,
       "justify_items": null,
       "left": null,
       "margin": null,
       "max_height": null,
       "max_width": null,
       "min_height": null,
       "min_width": null,
       "object_fit": null,
       "object_position": null,
       "order": null,
       "overflow": null,
       "overflow_x": null,
       "overflow_y": null,
       "padding": null,
       "right": null,
       "top": null,
       "visibility": null,
       "width": null
      }
     },
     "39195a981c3f4974a004ac1c6e13c737": {
      "model_module": "@jupyter-widgets/controls",
      "model_module_version": "1.5.0",
      "model_name": "DescriptionStyleModel",
      "state": {
       "_model_module": "@jupyter-widgets/controls",
       "_model_module_version": "1.5.0",
       "_model_name": "DescriptionStyleModel",
       "_view_count": null,
       "_view_module": "@jupyter-widgets/base",
       "_view_module_version": "1.2.0",
       "_view_name": "StyleView",
       "description_width": ""
      }
     },
     "3e0550e5a8b7466f82c19dabc41d04a7": {
      "model_module": "@jupyter-widgets/controls",
      "model_module_version": "1.5.0",
      "model_name": "DescriptionStyleModel",
      "state": {
       "_model_module": "@jupyter-widgets/controls",
       "_model_module_version": "1.5.0",
       "_model_name": "DescriptionStyleModel",
       "_view_count": null,
       "_view_module": "@jupyter-widgets/base",
       "_view_module_version": "1.2.0",
       "_view_name": "StyleView",
       "description_width": ""
      }
     },
     "43197b85ae1047cb9b237377655d2c67": {
      "model_module": "@jupyter-widgets/controls",
      "model_module_version": "1.5.0",
      "model_name": "DescriptionStyleModel",
      "state": {
       "_model_module": "@jupyter-widgets/controls",
       "_model_module_version": "1.5.0",
       "_model_name": "DescriptionStyleModel",
       "_view_count": null,
       "_view_module": "@jupyter-widgets/base",
       "_view_module_version": "1.2.0",
       "_view_name": "StyleView",
       "description_width": ""
      }
     },
     "497e82f7912d43b68e118089086fb498": {
      "model_module": "@jupyter-widgets/controls",
      "model_module_version": "1.5.0",
      "model_name": "ProgressStyleModel",
      "state": {
       "_model_module": "@jupyter-widgets/controls",
       "_model_module_version": "1.5.0",
       "_model_name": "ProgressStyleModel",
       "_view_count": null,
       "_view_module": "@jupyter-widgets/base",
       "_view_module_version": "1.2.0",
       "_view_name": "StyleView",
       "bar_color": null,
       "description_width": ""
      }
     },
     "49eab90862b749289d828dd6c74371d8": {
      "model_module": "@jupyter-widgets/controls",
      "model_module_version": "1.5.0",
      "model_name": "DescriptionStyleModel",
      "state": {
       "_model_module": "@jupyter-widgets/controls",
       "_model_module_version": "1.5.0",
       "_model_name": "DescriptionStyleModel",
       "_view_count": null,
       "_view_module": "@jupyter-widgets/base",
       "_view_module_version": "1.2.0",
       "_view_name": "StyleView",
       "description_width": ""
      }
     },
     "4d1ff3fcfe804c3f87a3639aa263e1b1": {
      "model_module": "@jupyter-widgets/base",
      "model_module_version": "1.2.0",
      "model_name": "LayoutModel",
      "state": {
       "_model_module": "@jupyter-widgets/base",
       "_model_module_version": "1.2.0",
       "_model_name": "LayoutModel",
       "_view_count": null,
       "_view_module": "@jupyter-widgets/base",
       "_view_module_version": "1.2.0",
       "_view_name": "LayoutView",
       "align_content": null,
       "align_items": null,
       "align_self": null,
       "border": null,
       "bottom": null,
       "display": null,
       "flex": null,
       "flex_flow": null,
       "grid_area": null,
       "grid_auto_columns": null,
       "grid_auto_flow": null,
       "grid_auto_rows": null,
       "grid_column": null,
       "grid_gap": null,
       "grid_row": null,
       "grid_template_areas": null,
       "grid_template_columns": null,
       "grid_template_rows": null,
       "height": null,
       "justify_content": null,
       "justify_items": null,
       "left": null,
       "margin": null,
       "max_height": null,
       "max_width": null,
       "min_height": null,
       "min_width": null,
       "object_fit": null,
       "object_position": null,
       "order": null,
       "overflow": null,
       "overflow_x": null,
       "overflow_y": null,
       "padding": null,
       "right": null,
       "top": null,
       "visibility": null,
       "width": null
      }
     },
     "4db54553d12a4acdbf19df4b7b37e7ed": {
      "model_module": "@jupyter-widgets/controls",
      "model_module_version": "1.5.0",
      "model_name": "HTMLModel",
      "state": {
       "_dom_classes": [],
       "_model_module": "@jupyter-widgets/controls",
       "_model_module_version": "1.5.0",
       "_model_name": "HTMLModel",
       "_view_count": null,
       "_view_module": "@jupyter-widgets/controls",
       "_view_module_version": "1.5.0",
       "_view_name": "HTMLView",
       "description": "",
       "description_tooltip": null,
       "layout": "IPY_MODEL_4d1ff3fcfe804c3f87a3639aa263e1b1",
       "placeholder": "​",
       "style": "IPY_MODEL_43197b85ae1047cb9b237377655d2c67",
       "value": "vocab.json: 100%"
      }
     },
     "4eb23041f15a42218c864fc940fbe7fb": {
      "model_module": "@jupyter-widgets/controls",
      "model_module_version": "1.5.0",
      "model_name": "HBoxModel",
      "state": {
       "_dom_classes": [],
       "_model_module": "@jupyter-widgets/controls",
       "_model_module_version": "1.5.0",
       "_model_name": "HBoxModel",
       "_view_count": null,
       "_view_module": "@jupyter-widgets/controls",
       "_view_module_version": "1.5.0",
       "_view_name": "HBoxView",
       "box_style": "",
       "children": [
        "IPY_MODEL_0fb81d7e7e7b451dbdb13bf0ab7f4b17",
        "IPY_MODEL_6cb67d9690bb43669698d7711a423df7",
        "IPY_MODEL_12653070a62041d48d021e659a5a7e5b"
       ],
       "layout": "IPY_MODEL_655bcddcf0884504a8f22a37ec46e773"
      }
     },
     "4ed92e02726b4c02a2f37bdc3c7aa4d7": {
      "model_module": "@jupyter-widgets/controls",
      "model_module_version": "1.5.0",
      "model_name": "DescriptionStyleModel",
      "state": {
       "_model_module": "@jupyter-widgets/controls",
       "_model_module_version": "1.5.0",
       "_model_name": "DescriptionStyleModel",
       "_view_count": null,
       "_view_module": "@jupyter-widgets/base",
       "_view_module_version": "1.2.0",
       "_view_name": "StyleView",
       "description_width": ""
      }
     },
     "527283f8ee8248d3ade1de0930d2a881": {
      "model_module": "@jupyter-widgets/base",
      "model_module_version": "1.2.0",
      "model_name": "LayoutModel",
      "state": {
       "_model_module": "@jupyter-widgets/base",
       "_model_module_version": "1.2.0",
       "_model_name": "LayoutModel",
       "_view_count": null,
       "_view_module": "@jupyter-widgets/base",
       "_view_module_version": "1.2.0",
       "_view_name": "LayoutView",
       "align_content": null,
       "align_items": null,
       "align_self": null,
       "border": null,
       "bottom": null,
       "display": null,
       "flex": null,
       "flex_flow": null,
       "grid_area": null,
       "grid_auto_columns": null,
       "grid_auto_flow": null,
       "grid_auto_rows": null,
       "grid_column": null,
       "grid_gap": null,
       "grid_row": null,
       "grid_template_areas": null,
       "grid_template_columns": null,
       "grid_template_rows": null,
       "height": null,
       "justify_content": null,
       "justify_items": null,
       "left": null,
       "margin": null,
       "max_height": null,
       "max_width": null,
       "min_height": null,
       "min_width": null,
       "object_fit": null,
       "object_position": null,
       "order": null,
       "overflow": null,
       "overflow_x": null,
       "overflow_y": null,
       "padding": null,
       "right": null,
       "top": null,
       "visibility": null,
       "width": null
      }
     },
     "52801d4eb6784dc69c0712673b3a8e89": {
      "model_module": "@jupyter-widgets/base",
      "model_module_version": "1.2.0",
      "model_name": "LayoutModel",
      "state": {
       "_model_module": "@jupyter-widgets/base",
       "_model_module_version": "1.2.0",
       "_model_name": "LayoutModel",
       "_view_count": null,
       "_view_module": "@jupyter-widgets/base",
       "_view_module_version": "1.2.0",
       "_view_name": "LayoutView",
       "align_content": null,
       "align_items": null,
       "align_self": null,
       "border": null,
       "bottom": null,
       "display": null,
       "flex": null,
       "flex_flow": null,
       "grid_area": null,
       "grid_auto_columns": null,
       "grid_auto_flow": null,
       "grid_auto_rows": null,
       "grid_column": null,
       "grid_gap": null,
       "grid_row": null,
       "grid_template_areas": null,
       "grid_template_columns": null,
       "grid_template_rows": null,
       "height": null,
       "justify_content": null,
       "justify_items": null,
       "left": null,
       "margin": null,
       "max_height": null,
       "max_width": null,
       "min_height": null,
       "min_width": null,
       "object_fit": null,
       "object_position": null,
       "order": null,
       "overflow": null,
       "overflow_x": null,
       "overflow_y": null,
       "padding": null,
       "right": null,
       "top": null,
       "visibility": null,
       "width": null
      }
     },
     "53ae7130279a44cabbf7567c9a0a39ec": {
      "model_module": "@jupyter-widgets/base",
      "model_module_version": "1.2.0",
      "model_name": "LayoutModel",
      "state": {
       "_model_module": "@jupyter-widgets/base",
       "_model_module_version": "1.2.0",
       "_model_name": "LayoutModel",
       "_view_count": null,
       "_view_module": "@jupyter-widgets/base",
       "_view_module_version": "1.2.0",
       "_view_name": "LayoutView",
       "align_content": null,
       "align_items": null,
       "align_self": null,
       "border": null,
       "bottom": null,
       "display": null,
       "flex": null,
       "flex_flow": null,
       "grid_area": null,
       "grid_auto_columns": null,
       "grid_auto_flow": null,
       "grid_auto_rows": null,
       "grid_column": null,
       "grid_gap": null,
       "grid_row": null,
       "grid_template_areas": null,
       "grid_template_columns": null,
       "grid_template_rows": null,
       "height": null,
       "justify_content": null,
       "justify_items": null,
       "left": null,
       "margin": null,
       "max_height": null,
       "max_width": null,
       "min_height": null,
       "min_width": null,
       "object_fit": null,
       "object_position": null,
       "order": null,
       "overflow": null,
       "overflow_x": null,
       "overflow_y": null,
       "padding": null,
       "right": null,
       "top": null,
       "visibility": null,
       "width": null
      }
     },
     "558374ac1fce4c47af9d04ad9c15b7fb": {
      "model_module": "@jupyter-widgets/controls",
      "model_module_version": "1.5.0",
      "model_name": "ProgressStyleModel",
      "state": {
       "_model_module": "@jupyter-widgets/controls",
       "_model_module_version": "1.5.0",
       "_model_name": "ProgressStyleModel",
       "_view_count": null,
       "_view_module": "@jupyter-widgets/base",
       "_view_module_version": "1.2.0",
       "_view_name": "StyleView",
       "bar_color": null,
       "description_width": ""
      }
     },
     "5fb392b30d324fdcad37dbfa13cf48ce": {
      "model_module": "@jupyter-widgets/base",
      "model_module_version": "1.2.0",
      "model_name": "LayoutModel",
      "state": {
       "_model_module": "@jupyter-widgets/base",
       "_model_module_version": "1.2.0",
       "_model_name": "LayoutModel",
       "_view_count": null,
       "_view_module": "@jupyter-widgets/base",
       "_view_module_version": "1.2.0",
       "_view_name": "LayoutView",
       "align_content": null,
       "align_items": null,
       "align_self": null,
       "border": null,
       "bottom": null,
       "display": null,
       "flex": null,
       "flex_flow": null,
       "grid_area": null,
       "grid_auto_columns": null,
       "grid_auto_flow": null,
       "grid_auto_rows": null,
       "grid_column": null,
       "grid_gap": null,
       "grid_row": null,
       "grid_template_areas": null,
       "grid_template_columns": null,
       "grid_template_rows": null,
       "height": null,
       "justify_content": null,
       "justify_items": null,
       "left": null,
       "margin": null,
       "max_height": null,
       "max_width": null,
       "min_height": null,
       "min_width": null,
       "object_fit": null,
       "object_position": null,
       "order": null,
       "overflow": null,
       "overflow_x": null,
       "overflow_y": null,
       "padding": null,
       "right": null,
       "top": null,
       "visibility": null,
       "width": null
      }
     },
     "5fc9d6cc42074c919d1752b476bb9fbb": {
      "model_module": "@jupyter-widgets/controls",
      "model_module_version": "1.5.0",
      "model_name": "ProgressStyleModel",
      "state": {
       "_model_module": "@jupyter-widgets/controls",
       "_model_module_version": "1.5.0",
       "_model_name": "ProgressStyleModel",
       "_view_count": null,
       "_view_module": "@jupyter-widgets/base",
       "_view_module_version": "1.2.0",
       "_view_name": "StyleView",
       "bar_color": null,
       "description_width": ""
      }
     },
     "655bcddcf0884504a8f22a37ec46e773": {
      "model_module": "@jupyter-widgets/base",
      "model_module_version": "1.2.0",
      "model_name": "LayoutModel",
      "state": {
       "_model_module": "@jupyter-widgets/base",
       "_model_module_version": "1.2.0",
       "_model_name": "LayoutModel",
       "_view_count": null,
       "_view_module": "@jupyter-widgets/base",
       "_view_module_version": "1.2.0",
       "_view_name": "LayoutView",
       "align_content": null,
       "align_items": null,
       "align_self": null,
       "border": null,
       "bottom": null,
       "display": null,
       "flex": null,
       "flex_flow": null,
       "grid_area": null,
       "grid_auto_columns": null,
       "grid_auto_flow": null,
       "grid_auto_rows": null,
       "grid_column": null,
       "grid_gap": null,
       "grid_row": null,
       "grid_template_areas": null,
       "grid_template_columns": null,
       "grid_template_rows": null,
       "height": null,
       "justify_content": null,
       "justify_items": null,
       "left": null,
       "margin": null,
       "max_height": null,
       "max_width": null,
       "min_height": null,
       "min_width": null,
       "object_fit": null,
       "object_position": null,
       "order": null,
       "overflow": null,
       "overflow_x": null,
       "overflow_y": null,
       "padding": null,
       "right": null,
       "top": null,
       "visibility": null,
       "width": null
      }
     },
     "670bae6952cb49afae66a1a2d1504292": {
      "model_module": "@jupyter-widgets/controls",
      "model_module_version": "1.5.0",
      "model_name": "DescriptionStyleModel",
      "state": {
       "_model_module": "@jupyter-widgets/controls",
       "_model_module_version": "1.5.0",
       "_model_name": "DescriptionStyleModel",
       "_view_count": null,
       "_view_module": "@jupyter-widgets/base",
       "_view_module_version": "1.2.0",
       "_view_name": "StyleView",
       "description_width": ""
      }
     },
     "6b38dc2c93634fff8f99157f2d5dd856": {
      "model_module": "@jupyter-widgets/base",
      "model_module_version": "1.2.0",
      "model_name": "LayoutModel",
      "state": {
       "_model_module": "@jupyter-widgets/base",
       "_model_module_version": "1.2.0",
       "_model_name": "LayoutModel",
       "_view_count": null,
       "_view_module": "@jupyter-widgets/base",
       "_view_module_version": "1.2.0",
       "_view_name": "LayoutView",
       "align_content": null,
       "align_items": null,
       "align_self": null,
       "border": null,
       "bottom": null,
       "display": null,
       "flex": null,
       "flex_flow": null,
       "grid_area": null,
       "grid_auto_columns": null,
       "grid_auto_flow": null,
       "grid_auto_rows": null,
       "grid_column": null,
       "grid_gap": null,
       "grid_row": null,
       "grid_template_areas": null,
       "grid_template_columns": null,
       "grid_template_rows": null,
       "height": null,
       "justify_content": null,
       "justify_items": null,
       "left": null,
       "margin": null,
       "max_height": null,
       "max_width": null,
       "min_height": null,
       "min_width": null,
       "object_fit": null,
       "object_position": null,
       "order": null,
       "overflow": null,
       "overflow_x": null,
       "overflow_y": null,
       "padding": null,
       "right": null,
       "top": null,
       "visibility": null,
       "width": null
      }
     },
     "6cb67d9690bb43669698d7711a423df7": {
      "model_module": "@jupyter-widgets/controls",
      "model_module_version": "1.5.0",
      "model_name": "FloatProgressModel",
      "state": {
       "_dom_classes": [],
       "_model_module": "@jupyter-widgets/controls",
       "_model_module_version": "1.5.0",
       "_model_name": "FloatProgressModel",
       "_view_count": null,
       "_view_module": "@jupyter-widgets/controls",
       "_view_module_version": "1.5.0",
       "_view_name": "ProgressView",
       "bar_style": "success",
       "description": "",
       "description_tooltip": null,
       "layout": "IPY_MODEL_048116f295eb417293ecef2b288b4271",
       "max": 481.0,
       "min": 0.0,
       "orientation": "horizontal",
       "style": "IPY_MODEL_497e82f7912d43b68e118089086fb498",
       "value": 481.0
      }
     },
     "72c17a360c124e3fac65794df4aea408": {
      "model_module": "@jupyter-widgets/base",
      "model_module_version": "1.2.0",
      "model_name": "LayoutModel",
      "state": {
       "_model_module": "@jupyter-widgets/base",
       "_model_module_version": "1.2.0",
       "_model_name": "LayoutModel",
       "_view_count": null,
       "_view_module": "@jupyter-widgets/base",
       "_view_module_version": "1.2.0",
       "_view_name": "LayoutView",
       "align_content": null,
       "align_items": null,
       "align_self": null,
       "border": null,
       "bottom": null,
       "display": null,
       "flex": null,
       "flex_flow": null,
       "grid_area": null,
       "grid_auto_columns": null,
       "grid_auto_flow": null,
       "grid_auto_rows": null,
       "grid_column": null,
       "grid_gap": null,
       "grid_row": null,
       "grid_template_areas": null,
       "grid_template_columns": null,
       "grid_template_rows": null,
       "height": null,
       "justify_content": null,
       "justify_items": null,
       "left": null,
       "margin": null,
       "max_height": null,
       "max_width": null,
       "min_height": null,
       "min_width": null,
       "object_fit": null,
       "object_position": null,
       "order": null,
       "overflow": null,
       "overflow_x": null,
       "overflow_y": null,
       "padding": null,
       "right": null,
       "top": null,
       "visibility": null,
       "width": null
      }
     },
     "809f34c48e674a1e96a13cc4f7076164": {
      "model_module": "@jupyter-widgets/base",
      "model_module_version": "1.2.0",
      "model_name": "LayoutModel",
      "state": {
       "_model_module": "@jupyter-widgets/base",
       "_model_module_version": "1.2.0",
       "_model_name": "LayoutModel",
       "_view_count": null,
       "_view_module": "@jupyter-widgets/base",
       "_view_module_version": "1.2.0",
       "_view_name": "LayoutView",
       "align_content": null,
       "align_items": null,
       "align_self": null,
       "border": null,
       "bottom": null,
       "display": null,
       "flex": null,
       "flex_flow": null,
       "grid_area": null,
       "grid_auto_columns": null,
       "grid_auto_flow": null,
       "grid_auto_rows": null,
       "grid_column": null,
       "grid_gap": null,
       "grid_row": null,
       "grid_template_areas": null,
       "grid_template_columns": null,
       "grid_template_rows": null,
       "height": null,
       "justify_content": null,
       "justify_items": null,
       "left": null,
       "margin": null,
       "max_height": null,
       "max_width": null,
       "min_height": null,
       "min_width": null,
       "object_fit": null,
       "object_position": null,
       "order": null,
       "overflow": null,
       "overflow_x": null,
       "overflow_y": null,
       "padding": null,
       "right": null,
       "top": null,
       "visibility": null,
       "width": null
      }
     },
     "86b4122ad54244f49b665cd4d268ab8f": {
      "model_module": "@jupyter-widgets/base",
      "model_module_version": "1.2.0",
      "model_name": "LayoutModel",
      "state": {
       "_model_module": "@jupyter-widgets/base",
       "_model_module_version": "1.2.0",
       "_model_name": "LayoutModel",
       "_view_count": null,
       "_view_module": "@jupyter-widgets/base",
       "_view_module_version": "1.2.0",
       "_view_name": "LayoutView",
       "align_content": null,
       "align_items": null,
       "align_self": null,
       "border": null,
       "bottom": null,
       "display": null,
       "flex": null,
       "flex_flow": null,
       "grid_area": null,
       "grid_auto_columns": null,
       "grid_auto_flow": null,
       "grid_auto_rows": null,
       "grid_column": null,
       "grid_gap": null,
       "grid_row": null,
       "grid_template_areas": null,
       "grid_template_columns": null,
       "grid_template_rows": null,
       "height": null,
       "justify_content": null,
       "justify_items": null,
       "left": null,
       "margin": null,
       "max_height": null,
       "max_width": null,
       "min_height": null,
       "min_width": null,
       "object_fit": null,
       "object_position": null,
       "order": null,
       "overflow": null,
       "overflow_x": null,
       "overflow_y": null,
       "padding": null,
       "right": null,
       "top": null,
       "visibility": null,
       "width": null
      }
     },
     "8ac0e8e51578472eae6263461726c0f0": {
      "model_module": "@jupyter-widgets/controls",
      "model_module_version": "1.5.0",
      "model_name": "ProgressStyleModel",
      "state": {
       "_model_module": "@jupyter-widgets/controls",
       "_model_module_version": "1.5.0",
       "_model_name": "ProgressStyleModel",
       "_view_count": null,
       "_view_module": "@jupyter-widgets/base",
       "_view_module_version": "1.2.0",
       "_view_name": "StyleView",
       "bar_color": null,
       "description_width": ""
      }
     },
     "941e9b4604de4e4d9c80d1eb2d6c8303": {
      "model_module": "@jupyter-widgets/base",
      "model_module_version": "1.2.0",
      "model_name": "LayoutModel",
      "state": {
       "_model_module": "@jupyter-widgets/base",
       "_model_module_version": "1.2.0",
       "_model_name": "LayoutModel",
       "_view_count": null,
       "_view_module": "@jupyter-widgets/base",
       "_view_module_version": "1.2.0",
       "_view_name": "LayoutView",
       "align_content": null,
       "align_items": null,
       "align_self": null,
       "border": null,
       "bottom": null,
       "display": null,
       "flex": null,
       "flex_flow": null,
       "grid_area": null,
       "grid_auto_columns": null,
       "grid_auto_flow": null,
       "grid_auto_rows": null,
       "grid_column": null,
       "grid_gap": null,
       "grid_row": null,
       "grid_template_areas": null,
       "grid_template_columns": null,
       "grid_template_rows": null,
       "height": null,
       "justify_content": null,
       "justify_items": null,
       "left": null,
       "margin": null,
       "max_height": null,
       "max_width": null,
       "min_height": null,
       "min_width": null,
       "object_fit": null,
       "object_position": null,
       "order": null,
       "overflow": null,
       "overflow_x": null,
       "overflow_y": null,
       "padding": null,
       "right": null,
       "top": null,
       "visibility": null,
       "width": null
      }
     },
     "942d2b223da8433b9958c39acc0cf6a9": {
      "model_module": "@jupyter-widgets/controls",
      "model_module_version": "1.5.0",
      "model_name": "FloatProgressModel",
      "state": {
       "_dom_classes": [],
       "_model_module": "@jupyter-widgets/controls",
       "_model_module_version": "1.5.0",
       "_model_name": "FloatProgressModel",
       "_view_count": null,
       "_view_module": "@jupyter-widgets/controls",
       "_view_module_version": "1.5.0",
       "_view_name": "ProgressView",
       "bar_style": "success",
       "description": "",
       "description_tooltip": null,
       "layout": "IPY_MODEL_52801d4eb6784dc69c0712673b3a8e89",
       "max": 25.0,
       "min": 0.0,
       "orientation": "horizontal",
       "style": "IPY_MODEL_558374ac1fce4c47af9d04ad9c15b7fb",
       "value": 25.0
      }
     },
     "969f26b1c8de4ab99a366a8a7d31450f": {
      "model_module": "@jupyter-widgets/controls",
      "model_module_version": "1.5.0",
      "model_name": "HBoxModel",
      "state": {
       "_dom_classes": [],
       "_model_module": "@jupyter-widgets/controls",
       "_model_module_version": "1.5.0",
       "_model_name": "HBoxModel",
       "_view_count": null,
       "_view_module": "@jupyter-widgets/controls",
       "_view_module_version": "1.5.0",
       "_view_name": "HBoxView",
       "box_style": "",
       "children": [
        "IPY_MODEL_4db54553d12a4acdbf19df4b7b37e7ed",
        "IPY_MODEL_373b257cfac54748a28c35dd153a6ac1",
        "IPY_MODEL_2f02e5b598bb455598c9f77cb3f9c338"
       ],
       "layout": "IPY_MODEL_2748ed68694e47fc9c5f405bc2bd13bc"
      }
     },
     "9884d6f276dd46e9a48ca3d2878dd16a": {
      "model_module": "@jupyter-widgets/controls",
      "model_module_version": "1.5.0",
      "model_name": "DescriptionStyleModel",
      "state": {
       "_model_module": "@jupyter-widgets/controls",
       "_model_module_version": "1.5.0",
       "_model_name": "DescriptionStyleModel",
       "_view_count": null,
       "_view_module": "@jupyter-widgets/base",
       "_view_module_version": "1.2.0",
       "_view_name": "StyleView",
       "description_width": ""
      }
     },
     "9930022cf19a466b812d1a000d93b98c": {
      "model_module": "@jupyter-widgets/controls",
      "model_module_version": "1.5.0",
      "model_name": "HBoxModel",
      "state": {
       "_dom_classes": [],
       "_model_module": "@jupyter-widgets/controls",
       "_model_module_version": "1.5.0",
       "_model_name": "HBoxModel",
       "_view_count": null,
       "_view_module": "@jupyter-widgets/controls",
       "_view_module_version": "1.5.0",
       "_view_name": "HBoxView",
       "box_style": "",
       "children": [
        "IPY_MODEL_b040091273674669b4301f141e0deadc",
        "IPY_MODEL_1ecb1e0297ac49f1813dec2dc21ef280",
        "IPY_MODEL_d56942d6bb9d4fa480628d63717ea994"
       ],
       "layout": "IPY_MODEL_e467aec43216448e9ec25efdf14579aa"
      }
     },
     "9e4f2065328642e49657169cb732d369": {
      "model_module": "@jupyter-widgets/base",
      "model_module_version": "1.2.0",
      "model_name": "LayoutModel",
      "state": {
       "_model_module": "@jupyter-widgets/base",
       "_model_module_version": "1.2.0",
       "_model_name": "LayoutModel",
       "_view_count": null,
       "_view_module": "@jupyter-widgets/base",
       "_view_module_version": "1.2.0",
       "_view_name": "LayoutView",
       "align_content": null,
       "align_items": null,
       "align_self": null,
       "border": null,
       "bottom": null,
       "display": null,
       "flex": null,
       "flex_flow": null,
       "grid_area": null,
       "grid_auto_columns": null,
       "grid_auto_flow": null,
       "grid_auto_rows": null,
       "grid_column": null,
       "grid_gap": null,
       "grid_row": null,
       "grid_template_areas": null,
       "grid_template_columns": null,
       "grid_template_rows": null,
       "height": null,
       "justify_content": null,
       "justify_items": null,
       "left": null,
       "margin": null,
       "max_height": null,
       "max_width": null,
       "min_height": null,
       "min_width": null,
       "object_fit": null,
       "object_position": null,
       "order": null,
       "overflow": null,
       "overflow_x": null,
       "overflow_y": null,
       "padding": null,
       "right": null,
       "top": null,
       "visibility": null,
       "width": null
      }
     },
     "aded7946186640cdbb1b6c37236ae7fe": {
      "model_module": "@jupyter-widgets/controls",
      "model_module_version": "1.5.0",
      "model_name": "HTMLModel",
      "state": {
       "_dom_classes": [],
       "_model_module": "@jupyter-widgets/controls",
       "_model_module_version": "1.5.0",
       "_model_name": "HTMLModel",
       "_view_count": null,
       "_view_module": "@jupyter-widgets/controls",
       "_view_module_version": "1.5.0",
       "_view_name": "HTMLView",
       "description": "",
       "description_tooltip": null,
       "layout": "IPY_MODEL_53ae7130279a44cabbf7567c9a0a39ec",
       "placeholder": "​",
       "style": "IPY_MODEL_3e0550e5a8b7466f82c19dabc41d04a7",
       "value": " 499M/499M [00:01&lt;00:00, 332MB/s]"
      }
     },
     "b040091273674669b4301f141e0deadc": {
      "model_module": "@jupyter-widgets/controls",
      "model_module_version": "1.5.0",
      "model_name": "HTMLModel",
      "state": {
       "_dom_classes": [],
       "_model_module": "@jupyter-widgets/controls",
       "_model_module_version": "1.5.0",
       "_model_name": "HTMLModel",
       "_view_count": null,
       "_view_module": "@jupyter-widgets/controls",
       "_view_module_version": "1.5.0",
       "_view_name": "HTMLView",
       "description": "",
       "description_tooltip": null,
       "layout": "IPY_MODEL_27781b635ed34e1fb022be0f82cd56b1",
       "placeholder": "​",
       "style": "IPY_MODEL_670bae6952cb49afae66a1a2d1504292",
       "value": "merges.txt: 100%"
      }
     },
     "bf3adc0714834eeaa87a79f053efe003": {
      "model_module": "@jupyter-widgets/controls",
      "model_module_version": "1.5.0",
      "model_name": "ProgressStyleModel",
      "state": {
       "_model_module": "@jupyter-widgets/controls",
       "_model_module_version": "1.5.0",
       "_model_name": "ProgressStyleModel",
       "_view_count": null,
       "_view_module": "@jupyter-widgets/base",
       "_view_module_version": "1.2.0",
       "_view_name": "StyleView",
       "bar_color": null,
       "description_width": ""
      }
     },
     "c2d7066b564d44ff9b61f5ee4745d493": {
      "model_module": "@jupyter-widgets/controls",
      "model_module_version": "1.5.0",
      "model_name": "ProgressStyleModel",
      "state": {
       "_model_module": "@jupyter-widgets/controls",
       "_model_module_version": "1.5.0",
       "_model_name": "ProgressStyleModel",
       "_view_count": null,
       "_view_module": "@jupyter-widgets/base",
       "_view_module_version": "1.2.0",
       "_view_name": "StyleView",
       "bar_color": null,
       "description_width": ""
      }
     },
     "c88d95bb275f41d58f1cd20a7dba51bd": {
      "model_module": "@jupyter-widgets/base",
      "model_module_version": "1.2.0",
      "model_name": "LayoutModel",
      "state": {
       "_model_module": "@jupyter-widgets/base",
       "_model_module_version": "1.2.0",
       "_model_name": "LayoutModel",
       "_view_count": null,
       "_view_module": "@jupyter-widgets/base",
       "_view_module_version": "1.2.0",
       "_view_name": "LayoutView",
       "align_content": null,
       "align_items": null,
       "align_self": null,
       "border": null,
       "bottom": null,
       "display": null,
       "flex": null,
       "flex_flow": null,
       "grid_area": null,
       "grid_auto_columns": null,
       "grid_auto_flow": null,
       "grid_auto_rows": null,
       "grid_column": null,
       "grid_gap": null,
       "grid_row": null,
       "grid_template_areas": null,
       "grid_template_columns": null,
       "grid_template_rows": null,
       "height": null,
       "justify_content": null,
       "justify_items": null,
       "left": null,
       "margin": null,
       "max_height": null,
       "max_width": null,
       "min_height": null,
       "min_width": null,
       "object_fit": null,
       "object_position": null,
       "order": null,
       "overflow": null,
       "overflow_x": null,
       "overflow_y": null,
       "padding": null,
       "right": null,
       "top": null,
       "visibility": null,
       "width": null
      }
     },
     "d4465814ab0e48d599cb18c6cf0fde2a": {
      "model_module": "@jupyter-widgets/controls",
      "model_module_version": "1.5.0",
      "model_name": "HTMLModel",
      "state": {
       "_dom_classes": [],
       "_model_module": "@jupyter-widgets/controls",
       "_model_module_version": "1.5.0",
       "_model_name": "HTMLModel",
       "_view_count": null,
       "_view_module": "@jupyter-widgets/controls",
       "_view_module_version": "1.5.0",
       "_view_name": "HTMLView",
       "description": "",
       "description_tooltip": null,
       "layout": "IPY_MODEL_86b4122ad54244f49b665cd4d268ab8f",
       "placeholder": "​",
       "style": "IPY_MODEL_f6c7c9c984c3435d962a04d950303b6d",
       "value": "tokenizer.json: 100%"
      }
     },
     "d56942d6bb9d4fa480628d63717ea994": {
      "model_module": "@jupyter-widgets/controls",
      "model_module_version": "1.5.0",
      "model_name": "HTMLModel",
      "state": {
       "_dom_classes": [],
       "_model_module": "@jupyter-widgets/controls",
       "_model_module_version": "1.5.0",
       "_model_name": "HTMLModel",
       "_view_count": null,
       "_view_module": "@jupyter-widgets/controls",
       "_view_module_version": "1.5.0",
       "_view_name": "HTMLView",
       "description": "",
       "description_tooltip": null,
       "layout": "IPY_MODEL_11657125f7814252a8335f5ec03ff0f3",
       "placeholder": "​",
       "style": "IPY_MODEL_e350025b2aae464096a97bbdf882d8d6",
       "value": " 456k/456k [00:00&lt;00:00, 31.5MB/s]"
      }
     },
     "d8a481106f314be5b39d34e5d646676e": {
      "model_module": "@jupyter-widgets/controls",
      "model_module_version": "1.5.0",
      "model_name": "HBoxModel",
      "state": {
       "_dom_classes": [],
       "_model_module": "@jupyter-widgets/controls",
       "_model_module_version": "1.5.0",
       "_model_name": "HBoxModel",
       "_view_count": null,
       "_view_module": "@jupyter-widgets/controls",
       "_view_module_version": "1.5.0",
       "_view_name": "HBoxView",
       "box_style": "",
       "children": [
        "IPY_MODEL_2e0e3d7da54c4d2eb08f3f38bf1a7834",
        "IPY_MODEL_360f85cfd6524ce1a6be750d8eb6c6b5",
        "IPY_MODEL_aded7946186640cdbb1b6c37236ae7fe"
       ],
       "layout": "IPY_MODEL_16bff6fd4add43d9bfbde1695105b3c5"
      }
     },
     "dc756b32293d4ecaace3e939975e492b": {
      "model_module": "@jupyter-widgets/controls",
      "model_module_version": "1.5.0",
      "model_name": "HTMLModel",
      "state": {
       "_dom_classes": [],
       "_model_module": "@jupyter-widgets/controls",
       "_model_module_version": "1.5.0",
       "_model_name": "HTMLModel",
       "_view_count": null,
       "_view_module": "@jupyter-widgets/controls",
       "_view_module_version": "1.5.0",
       "_view_name": "HTMLView",
       "description": "",
       "description_tooltip": null,
       "layout": "IPY_MODEL_388a0191342f48f29b155d37e71d8144",
       "placeholder": "​",
       "style": "IPY_MODEL_16c0f469f5c84609b5647880e9025770",
       "value": "tokenizer_config.json: 100%"
      }
     },
     "e3466e558ba64777a54748600e2b1bce": {
      "model_module": "@jupyter-widgets/controls",
      "model_module_version": "1.5.0",
      "model_name": "FloatProgressModel",
      "state": {
       "_dom_classes": [],
       "_model_module": "@jupyter-widgets/controls",
       "_model_module_version": "1.5.0",
       "_model_name": "FloatProgressModel",
       "_view_count": null,
       "_view_module": "@jupyter-widgets/controls",
       "_view_module_version": "1.5.0",
       "_view_name": "ProgressView",
       "bar_style": "success",
       "description": "",
       "description_tooltip": null,
       "layout": "IPY_MODEL_6b38dc2c93634fff8f99157f2d5dd856",
       "max": 1355863.0,
       "min": 0.0,
       "orientation": "horizontal",
       "style": "IPY_MODEL_5fc9d6cc42074c919d1752b476bb9fbb",
       "value": 1355863.0
      }
     },
     "e350025b2aae464096a97bbdf882d8d6": {
      "model_module": "@jupyter-widgets/controls",
      "model_module_version": "1.5.0",
      "model_name": "DescriptionStyleModel",
      "state": {
       "_model_module": "@jupyter-widgets/controls",
       "_model_module_version": "1.5.0",
       "_model_name": "DescriptionStyleModel",
       "_view_count": null,
       "_view_module": "@jupyter-widgets/base",
       "_view_module_version": "1.2.0",
       "_view_name": "StyleView",
       "description_width": ""
      }
     },
     "e467aec43216448e9ec25efdf14579aa": {
      "model_module": "@jupyter-widgets/base",
      "model_module_version": "1.2.0",
      "model_name": "LayoutModel",
      "state": {
       "_model_module": "@jupyter-widgets/base",
       "_model_module_version": "1.2.0",
       "_model_name": "LayoutModel",
       "_view_count": null,
       "_view_module": "@jupyter-widgets/base",
       "_view_module_version": "1.2.0",
       "_view_name": "LayoutView",
       "align_content": null,
       "align_items": null,
       "align_self": null,
       "border": null,
       "bottom": null,
       "display": null,
       "flex": null,
       "flex_flow": null,
       "grid_area": null,
       "grid_auto_columns": null,
       "grid_auto_flow": null,
       "grid_auto_rows": null,
       "grid_column": null,
       "grid_gap": null,
       "grid_row": null,
       "grid_template_areas": null,
       "grid_template_columns": null,
       "grid_template_rows": null,
       "height": null,
       "justify_content": null,
       "justify_items": null,
       "left": null,
       "margin": null,
       "max_height": null,
       "max_width": null,
       "min_height": null,
       "min_width": null,
       "object_fit": null,
       "object_position": null,
       "order": null,
       "overflow": null,
       "overflow_x": null,
       "overflow_y": null,
       "padding": null,
       "right": null,
       "top": null,
       "visibility": null,
       "width": null
      }
     },
     "e905ccc5f7944a10a5f1e8166b021f06": {
      "model_module": "@jupyter-widgets/controls",
      "model_module_version": "1.5.0",
      "model_name": "DescriptionStyleModel",
      "state": {
       "_model_module": "@jupyter-widgets/controls",
       "_model_module_version": "1.5.0",
       "_model_name": "DescriptionStyleModel",
       "_view_count": null,
       "_view_module": "@jupyter-widgets/base",
       "_view_module_version": "1.2.0",
       "_view_name": "StyleView",
       "description_width": ""
      }
     },
     "eb0b04dd11e343188651616b6cff666c": {
      "model_module": "@jupyter-widgets/controls",
      "model_module_version": "1.5.0",
      "model_name": "HBoxModel",
      "state": {
       "_dom_classes": [],
       "_model_module": "@jupyter-widgets/controls",
       "_model_module_version": "1.5.0",
       "_model_name": "HBoxModel",
       "_view_count": null,
       "_view_module": "@jupyter-widgets/controls",
       "_view_module_version": "1.5.0",
       "_view_name": "HBoxView",
       "box_style": "",
       "children": [
        "IPY_MODEL_dc756b32293d4ecaace3e939975e492b",
        "IPY_MODEL_942d2b223da8433b9958c39acc0cf6a9",
        "IPY_MODEL_225680656ce5480fb7bf08156efb7c41"
       ],
       "layout": "IPY_MODEL_809f34c48e674a1e96a13cc4f7076164"
      }
     },
     "ef7f66891df948c198b8c91872a9a21d": {
      "model_module": "@jupyter-widgets/controls",
      "model_module_version": "1.5.0",
      "model_name": "DescriptionStyleModel",
      "state": {
       "_model_module": "@jupyter-widgets/controls",
       "_model_module_version": "1.5.0",
       "_model_name": "DescriptionStyleModel",
       "_view_count": null,
       "_view_module": "@jupyter-widgets/base",
       "_view_module_version": "1.2.0",
       "_view_name": "StyleView",
       "description_width": ""
      }
     },
     "f6c7c9c984c3435d962a04d950303b6d": {
      "model_module": "@jupyter-widgets/controls",
      "model_module_version": "1.5.0",
      "model_name": "DescriptionStyleModel",
      "state": {
       "_model_module": "@jupyter-widgets/controls",
       "_model_module_version": "1.5.0",
       "_model_name": "DescriptionStyleModel",
       "_view_count": null,
       "_view_module": "@jupyter-widgets/base",
       "_view_module_version": "1.2.0",
       "_view_name": "StyleView",
       "description_width": ""
      }
     }
    },
    "version_major": 2,
    "version_minor": 0
   }
  }
 },
 "nbformat": 4,
 "nbformat_minor": 5
}

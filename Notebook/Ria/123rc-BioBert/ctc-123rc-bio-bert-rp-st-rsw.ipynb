{
 "cells": [
  {
   "cell_type": "code",
   "execution_count": 1,
   "id": "905afc8c",
   "metadata": {
    "_cell_guid": "b1076dfc-b9ad-4769-8c92-a6c4dae69d19",
    "_uuid": "8f2839f25d086af736a60e9eeb907d3b93b6e0e5",
    "execution": {
     "iopub.execute_input": "2024-05-20T17:23:12.934419Z",
     "iopub.status.busy": "2024-05-20T17:23:12.933644Z",
     "iopub.status.idle": "2024-05-20T17:23:38.380048Z",
     "shell.execute_reply": "2024-05-20T17:23:38.379084Z"
    },
    "papermill": {
     "duration": 25.479703,
     "end_time": "2024-05-20T17:23:38.382555",
     "exception": false,
     "start_time": "2024-05-20T17:23:12.902852",
     "status": "completed"
    },
    "tags": []
   },
   "outputs": [
    {
     "name": "stdout",
     "output_type": "stream",
     "text": [
      "Collecting clean-text\r\n",
      "  Downloading clean_text-0.6.0-py3-none-any.whl.metadata (6.6 kB)\r\n",
      "Collecting emoji<2.0.0,>=1.0.0 (from clean-text)\r\n",
      "  Downloading emoji-1.7.0.tar.gz (175 kB)\r\n",
      "\u001b[2K     \u001b[90m━━━━━━━━━━━━━━━━━━━━━━━━━━━━━━━━━━━━━━━\u001b[0m \u001b[32m175.4/175.4 kB\u001b[0m \u001b[31m2.7 MB/s\u001b[0m eta \u001b[36m0:00:00\u001b[0m\r\n",
      "\u001b[?25h  Preparing metadata (setup.py) ... \u001b[?25l-\b \bdone\r\n",
      "\u001b[?25hCollecting ftfy<7.0,>=6.0 (from clean-text)\r\n",
      "  Downloading ftfy-6.2.0-py3-none-any.whl.metadata (7.3 kB)\r\n",
      "Requirement already satisfied: wcwidth<0.3.0,>=0.2.12 in /opt/conda/lib/python3.10/site-packages (from ftfy<7.0,>=6.0->clean-text) (0.2.13)\r\n",
      "Downloading clean_text-0.6.0-py3-none-any.whl (11 kB)\r\n",
      "Downloading ftfy-6.2.0-py3-none-any.whl (54 kB)\r\n",
      "\u001b[2K   \u001b[90m━━━━━━━━━━━━━━━━━━━━━━━━━━━━━━━━━━━━━━━━\u001b[0m \u001b[32m54.4/54.4 kB\u001b[0m \u001b[31m4.4 MB/s\u001b[0m eta \u001b[36m0:00:00\u001b[0m\r\n",
      "\u001b[?25hBuilding wheels for collected packages: emoji\r\n",
      "  Building wheel for emoji (setup.py) ... \u001b[?25l-\b \bdone\r\n",
      "\u001b[?25h  Created wheel for emoji: filename=emoji-1.7.0-py3-none-any.whl size=171033 sha256=c915acc4008d351bb4780442751cd8f25959ab2bb8d1049856b95cd512424fd5\r\n",
      "  Stored in directory: /root/.cache/pip/wheels/31/8a/8c/315c9e5d7773f74b33d5ed33f075b49c6eaeb7cedbb86e2cf8\r\n",
      "Successfully built emoji\r\n",
      "Installing collected packages: emoji, ftfy, clean-text\r\n",
      "  Attempting uninstall: emoji\r\n",
      "    Found existing installation: emoji 2.11.0\r\n",
      "    Uninstalling emoji-2.11.0:\r\n",
      "      Successfully uninstalled emoji-2.11.0\r\n",
      "Successfully installed clean-text-0.6.0 emoji-1.7.0 ftfy-6.2.0\r\n"
     ]
    }
   ],
   "source": [
    "import torch\n",
    "from torch import nn\n",
    "from torch.utils.data import DataLoader, Dataset\n",
    "from transformers import BertTokenizer, BertModel, AdamW, get_linear_schedule_with_warmup\n",
    "from sklearn.model_selection import train_test_split\n",
    "from transformers import AutoTokenizer, AutoModel, AdamW, get_linear_schedule_with_warmup\n",
    "from sklearn.metrics import accuracy_score, classification_report\n",
    "from sklearn.metrics import accuracy_score, recall_score, precision_score, f1_score, roc_auc_score\n",
    "import pandas as pd\n",
    "from collections import deque\n",
    "import matplotlib.pyplot as plt\n",
    "import numpy as np\n",
    "from datasets import load_dataset\n",
    "import torch.optim as optim\n",
    "import torch.nn.functional as F\n",
    "import string\n",
    "!pip install clean-text\n",
    "from cleantext import clean"
   ]
  },
  {
   "cell_type": "code",
   "execution_count": 2,
   "id": "9ca29e5e",
   "metadata": {
    "execution": {
     "iopub.execute_input": "2024-05-20T17:23:38.445183Z",
     "iopub.status.busy": "2024-05-20T17:23:38.444356Z",
     "iopub.status.idle": "2024-05-20T17:23:45.881342Z",
     "shell.execute_reply": "2024-05-20T17:23:45.880382Z"
    },
    "papermill": {
     "duration": 7.470619,
     "end_time": "2024-05-20T17:23:45.883454",
     "exception": false,
     "start_time": "2024-05-20T17:23:38.412835",
     "status": "completed"
    },
    "tags": []
   },
   "outputs": [
    {
     "data": {
      "application/vnd.jupyter.widget-view+json": {
       "model_id": "81a92c7f1f0f447e8d991677b4df7689",
       "version_major": 2,
       "version_minor": 0
      },
      "text/plain": [
       "Downloading readme:   0%|          | 0.00/112 [00:00<?, ?B/s]"
      ]
     },
     "metadata": {},
     "output_type": "display_data"
    },
    {
     "name": "stderr",
     "output_type": "stream",
     "text": [
      "Downloading data: 100%|██████████| 14.3M/14.3M [00:00<00:00, 23.4MB/s]\n",
      "Downloading data: 100%|██████████| 3.59M/3.59M [00:00<00:00, 8.39MB/s]\n"
     ]
    },
    {
     "data": {
      "application/vnd.jupyter.widget-view+json": {
       "model_id": "d72d70a2a614489783c9391dcf35ac17",
       "version_major": 2,
       "version_minor": 0
      },
      "text/plain": [
       "Generating train split: 0 examples [00:00, ? examples/s]"
      ]
     },
     "metadata": {},
     "output_type": "display_data"
    },
    {
     "data": {
      "application/vnd.jupyter.widget-view+json": {
       "model_id": "04fc555523124cafb2bbffb658978837",
       "version_major": 2,
       "version_minor": 0
      },
      "text/plain": [
       "Generating test split: 0 examples [00:00, ? examples/s]"
      ]
     },
     "metadata": {},
     "output_type": "display_data"
    }
   ],
   "source": [
    "# Load the dataset from Hugging Face\n",
    "dataset = load_dataset(\"123rc/medical_text\")"
   ]
  },
  {
   "cell_type": "code",
   "execution_count": 3,
   "id": "0b4c0607",
   "metadata": {
    "execution": {
     "iopub.execute_input": "2024-05-20T17:23:45.945807Z",
     "iopub.status.busy": "2024-05-20T17:23:45.945453Z",
     "iopub.status.idle": "2024-05-20T17:23:45.949598Z",
     "shell.execute_reply": "2024-05-20T17:23:45.948797Z"
    },
    "papermill": {
     "duration": 0.03764,
     "end_time": "2024-05-20T17:23:45.951658",
     "exception": false,
     "start_time": "2024-05-20T17:23:45.914018",
     "status": "completed"
    },
    "tags": []
   },
   "outputs": [],
   "source": [
    "train_data = dataset[\"train\"]\n",
    "test_data = dataset[\"test\"]"
   ]
  },
  {
   "cell_type": "code",
   "execution_count": 4,
   "id": "6ee35a4a",
   "metadata": {
    "execution": {
     "iopub.execute_input": "2024-05-20T17:23:46.014544Z",
     "iopub.status.busy": "2024-05-20T17:23:46.013926Z",
     "iopub.status.idle": "2024-05-20T17:23:46.558246Z",
     "shell.execute_reply": "2024-05-20T17:23:46.557457Z"
    },
    "papermill": {
     "duration": 0.577929,
     "end_time": "2024-05-20T17:23:46.560443",
     "exception": false,
     "start_time": "2024-05-20T17:23:45.982514",
     "status": "completed"
    },
    "tags": []
   },
   "outputs": [],
   "source": [
    "# Convert train and test splits to DataFrames\n",
    "train_df = pd.DataFrame(train_data)\n",
    "test_df = pd.DataFrame(test_data)"
   ]
  },
  {
   "cell_type": "code",
   "execution_count": 5,
   "id": "49e42e0f",
   "metadata": {
    "execution": {
     "iopub.execute_input": "2024-05-20T17:23:46.624012Z",
     "iopub.status.busy": "2024-05-20T17:23:46.623320Z",
     "iopub.status.idle": "2024-05-20T17:23:46.628370Z",
     "shell.execute_reply": "2024-05-20T17:23:46.627478Z"
    },
    "papermill": {
     "duration": 0.038771,
     "end_time": "2024-05-20T17:23:46.630179",
     "exception": false,
     "start_time": "2024-05-20T17:23:46.591408",
     "status": "completed"
    },
    "tags": []
   },
   "outputs": [],
   "source": [
    "# Rename two columns \n",
    "train_df.rename(columns={'condition_label': 'label', 'medical_abstract': 'text'}, inplace=True)"
   ]
  },
  {
   "cell_type": "code",
   "execution_count": 6,
   "id": "b480be40",
   "metadata": {
    "execution": {
     "iopub.execute_input": "2024-05-20T17:23:46.693182Z",
     "iopub.status.busy": "2024-05-20T17:23:46.692527Z",
     "iopub.status.idle": "2024-05-20T17:23:46.697665Z",
     "shell.execute_reply": "2024-05-20T17:23:46.696771Z"
    },
    "papermill": {
     "duration": 0.038532,
     "end_time": "2024-05-20T17:23:46.699529",
     "exception": false,
     "start_time": "2024-05-20T17:23:46.660997",
     "status": "completed"
    },
    "tags": []
   },
   "outputs": [],
   "source": [
    "# Rename two columns \n",
    "test_df.rename(columns={'condition_label': 'label', 'medical_abstract': 'text'}, inplace=True)"
   ]
  },
  {
   "cell_type": "code",
   "execution_count": 7,
   "id": "582f0af9",
   "metadata": {
    "execution": {
     "iopub.execute_input": "2024-05-20T17:23:46.762257Z",
     "iopub.status.busy": "2024-05-20T17:23:46.761655Z",
     "iopub.status.idle": "2024-05-20T17:23:46.767372Z",
     "shell.execute_reply": "2024-05-20T17:23:46.766548Z"
    },
    "papermill": {
     "duration": 0.039182,
     "end_time": "2024-05-20T17:23:46.769256",
     "exception": false,
     "start_time": "2024-05-20T17:23:46.730074",
     "status": "completed"
    },
    "tags": []
   },
   "outputs": [],
   "source": [
    "train_df['label'] = train_df['label'] - 1\n",
    "test_df['label'] = test_df['label'] - 1"
   ]
  },
  {
   "cell_type": "code",
   "execution_count": 8,
   "id": "ab0bd895",
   "metadata": {
    "execution": {
     "iopub.execute_input": "2024-05-20T17:23:46.833591Z",
     "iopub.status.busy": "2024-05-20T17:23:46.832982Z",
     "iopub.status.idle": "2024-05-20T17:23:46.848561Z",
     "shell.execute_reply": "2024-05-20T17:23:46.847690Z"
    },
    "papermill": {
     "duration": 0.050632,
     "end_time": "2024-05-20T17:23:46.850509",
     "exception": false,
     "start_time": "2024-05-20T17:23:46.799877",
     "status": "completed"
    },
    "tags": []
   },
   "outputs": [
    {
     "data": {
      "text/plain": [
       "label\n",
       "4    3844\n",
       "0    2530\n",
       "3    2441\n",
       "2    1540\n",
       "1    1195\n",
       "Name: count, dtype: int64"
      ]
     },
     "execution_count": 8,
     "metadata": {},
     "output_type": "execute_result"
    }
   ],
   "source": [
    "train_df['label'].value_counts()"
   ]
  },
  {
   "cell_type": "code",
   "execution_count": 9,
   "id": "d60a6594",
   "metadata": {
    "execution": {
     "iopub.execute_input": "2024-05-20T17:23:46.913862Z",
     "iopub.status.busy": "2024-05-20T17:23:46.913207Z",
     "iopub.status.idle": "2024-05-20T17:23:46.920259Z",
     "shell.execute_reply": "2024-05-20T17:23:46.919487Z"
    },
    "papermill": {
     "duration": 0.040589,
     "end_time": "2024-05-20T17:23:46.922148",
     "exception": false,
     "start_time": "2024-05-20T17:23:46.881559",
     "status": "completed"
    },
    "tags": []
   },
   "outputs": [
    {
     "data": {
      "text/plain": [
       "5"
      ]
     },
     "execution_count": 9,
     "metadata": {},
     "output_type": "execute_result"
    }
   ],
   "source": [
    "train_df['label'].nunique()"
   ]
  },
  {
   "cell_type": "code",
   "execution_count": 10,
   "id": "2fc777cc",
   "metadata": {
    "execution": {
     "iopub.execute_input": "2024-05-20T17:23:46.984729Z",
     "iopub.status.busy": "2024-05-20T17:23:46.984130Z",
     "iopub.status.idle": "2024-05-20T17:23:46.995675Z",
     "shell.execute_reply": "2024-05-20T17:23:46.994793Z"
    },
    "papermill": {
     "duration": 0.045325,
     "end_time": "2024-05-20T17:23:46.997827",
     "exception": false,
     "start_time": "2024-05-20T17:23:46.952502",
     "status": "completed"
    },
    "tags": []
   },
   "outputs": [
    {
     "data": {
      "text/html": [
       "<div>\n",
       "<style scoped>\n",
       "    .dataframe tbody tr th:only-of-type {\n",
       "        vertical-align: middle;\n",
       "    }\n",
       "\n",
       "    .dataframe tbody tr th {\n",
       "        vertical-align: top;\n",
       "    }\n",
       "\n",
       "    .dataframe thead th {\n",
       "        text-align: right;\n",
       "    }\n",
       "</style>\n",
       "<table border=\"1\" class=\"dataframe\">\n",
       "  <thead>\n",
       "    <tr style=\"text-align: right;\">\n",
       "      <th></th>\n",
       "      <th>label</th>\n",
       "      <th>text</th>\n",
       "    </tr>\n",
       "  </thead>\n",
       "  <tbody>\n",
       "    <tr>\n",
       "      <th>0</th>\n",
       "      <td>2</td>\n",
       "      <td>Obstructive sleep apnea following topical orop...</td>\n",
       "    </tr>\n",
       "    <tr>\n",
       "      <th>1</th>\n",
       "      <td>4</td>\n",
       "      <td>Neutrophil function and pyogenic infections in...</td>\n",
       "    </tr>\n",
       "    <tr>\n",
       "      <th>2</th>\n",
       "      <td>4</td>\n",
       "      <td>A phase II study of combined methotrexate and ...</td>\n",
       "    </tr>\n",
       "    <tr>\n",
       "      <th>3</th>\n",
       "      <td>0</td>\n",
       "      <td>Flow cytometric DNA analysis of parathyroid tu...</td>\n",
       "    </tr>\n",
       "    <tr>\n",
       "      <th>4</th>\n",
       "      <td>3</td>\n",
       "      <td>Paraneoplastic vasculitic neuropathy: a treata...</td>\n",
       "    </tr>\n",
       "  </tbody>\n",
       "</table>\n",
       "</div>"
      ],
      "text/plain": [
       "   label                                               text\n",
       "0      2  Obstructive sleep apnea following topical orop...\n",
       "1      4  Neutrophil function and pyogenic infections in...\n",
       "2      4  A phase II study of combined methotrexate and ...\n",
       "3      0  Flow cytometric DNA analysis of parathyroid tu...\n",
       "4      3  Paraneoplastic vasculitic neuropathy: a treata..."
      ]
     },
     "execution_count": 10,
     "metadata": {},
     "output_type": "execute_result"
    }
   ],
   "source": [
    "test_df.head()"
   ]
  },
  {
   "cell_type": "code",
   "execution_count": 11,
   "id": "4f6b58b0",
   "metadata": {
    "execution": {
     "iopub.execute_input": "2024-05-20T17:23:47.064300Z",
     "iopub.status.busy": "2024-05-20T17:23:47.063565Z",
     "iopub.status.idle": "2024-05-20T17:23:47.069460Z",
     "shell.execute_reply": "2024-05-20T17:23:47.068591Z"
    },
    "papermill": {
     "duration": 0.040625,
     "end_time": "2024-05-20T17:23:47.071494",
     "exception": false,
     "start_time": "2024-05-20T17:23:47.030869",
     "status": "completed"
    },
    "tags": []
   },
   "outputs": [
    {
     "data": {
      "text/plain": [
       "(11550, 2)"
      ]
     },
     "execution_count": 11,
     "metadata": {},
     "output_type": "execute_result"
    }
   ],
   "source": [
    "train_df.shape"
   ]
  },
  {
   "cell_type": "code",
   "execution_count": 12,
   "id": "f4cf82d5",
   "metadata": {
    "execution": {
     "iopub.execute_input": "2024-05-20T17:23:47.137268Z",
     "iopub.status.busy": "2024-05-20T17:23:47.136560Z",
     "iopub.status.idle": "2024-05-20T17:23:47.142347Z",
     "shell.execute_reply": "2024-05-20T17:23:47.141422Z"
    },
    "papermill": {
     "duration": 0.041078,
     "end_time": "2024-05-20T17:23:47.144495",
     "exception": false,
     "start_time": "2024-05-20T17:23:47.103417",
     "status": "completed"
    },
    "tags": []
   },
   "outputs": [
    {
     "data": {
      "text/plain": [
       "(2888, 2)"
      ]
     },
     "execution_count": 12,
     "metadata": {},
     "output_type": "execute_result"
    }
   ],
   "source": [
    "test_df.shape"
   ]
  },
  {
   "cell_type": "code",
   "execution_count": 13,
   "id": "dddb5b01",
   "metadata": {
    "execution": {
     "iopub.execute_input": "2024-05-20T17:23:47.209652Z",
     "iopub.status.busy": "2024-05-20T17:23:47.209002Z",
     "iopub.status.idle": "2024-05-20T17:24:04.824513Z",
     "shell.execute_reply": "2024-05-20T17:24:04.823532Z"
    },
    "papermill": {
     "duration": 17.649973,
     "end_time": "2024-05-20T17:24:04.826682",
     "exception": false,
     "start_time": "2024-05-20T17:23:47.176709",
     "status": "completed"
    },
    "tags": []
   },
   "outputs": [
    {
     "data": {
      "text/html": [
       "<div>\n",
       "<style scoped>\n",
       "    .dataframe tbody tr th:only-of-type {\n",
       "        vertical-align: middle;\n",
       "    }\n",
       "\n",
       "    .dataframe tbody tr th {\n",
       "        vertical-align: top;\n",
       "    }\n",
       "\n",
       "    .dataframe thead th {\n",
       "        text-align: right;\n",
       "    }\n",
       "</style>\n",
       "<table border=\"1\" class=\"dataframe\">\n",
       "  <thead>\n",
       "    <tr style=\"text-align: right;\">\n",
       "      <th></th>\n",
       "      <th>label</th>\n",
       "      <th>text</th>\n",
       "    </tr>\n",
       "  </thead>\n",
       "  <tbody>\n",
       "    <tr>\n",
       "      <th>0</th>\n",
       "      <td>4</td>\n",
       "      <td>Tissue changes around loose prostheses. A cani...</td>\n",
       "    </tr>\n",
       "    <tr>\n",
       "      <th>1</th>\n",
       "      <td>0</td>\n",
       "      <td>Neuropeptide Y and neuron-specific enolase lev...</td>\n",
       "    </tr>\n",
       "    <tr>\n",
       "      <th>2</th>\n",
       "      <td>1</td>\n",
       "      <td>Sexually transmitted diseases of the colon, re...</td>\n",
       "    </tr>\n",
       "    <tr>\n",
       "      <th>3</th>\n",
       "      <td>0</td>\n",
       "      <td>Lipolytic factors associated with murine and h...</td>\n",
       "    </tr>\n",
       "    <tr>\n",
       "      <th>4</th>\n",
       "      <td>2</td>\n",
       "      <td>Does carotid restenosis predict an increased r...</td>\n",
       "    </tr>\n",
       "  </tbody>\n",
       "</table>\n",
       "</div>"
      ],
      "text/plain": [
       "   label                                               text\n",
       "0      4  Tissue changes around loose prostheses. A cani...\n",
       "1      0  Neuropeptide Y and neuron-specific enolase lev...\n",
       "2      1  Sexually transmitted diseases of the colon, re...\n",
       "3      0  Lipolytic factors associated with murine and h...\n",
       "4      2  Does carotid restenosis predict an increased r..."
      ]
     },
     "execution_count": 13,
     "metadata": {},
     "output_type": "execute_result"
    }
   ],
   "source": [
    "# Removing Repeated Punctuations\n",
    "def remove_repeated_punctuation(text):\n",
    "    punctuations = set(string.punctuation)\n",
    "    cleaned_text = []\n",
    "    for char in text:\n",
    "        if char in punctuations:\n",
    "            punctuations.remove(char)\n",
    "            cleaned_text.append(char)\n",
    "        elif char not in punctuations:\n",
    "            punctuations = set(string.punctuation)\n",
    "            cleaned_text.append(char)\n",
    "    return ''.join(cleaned_text)\n",
    "\n",
    "# Apply the remove_repeated_punctuation function to the 'review' column\n",
    "train_df['text'] = train_df['text'].apply(remove_repeated_punctuation)\n",
    "\n",
    "train_df.head()"
   ]
  },
  {
   "cell_type": "code",
   "execution_count": 14,
   "id": "e0b38aad",
   "metadata": {
    "execution": {
     "iopub.execute_input": "2024-05-20T17:24:04.891566Z",
     "iopub.status.busy": "2024-05-20T17:24:04.891033Z",
     "iopub.status.idle": "2024-05-20T17:24:09.318576Z",
     "shell.execute_reply": "2024-05-20T17:24:09.317509Z"
    },
    "papermill": {
     "duration": 4.461896,
     "end_time": "2024-05-20T17:24:09.320803",
     "exception": false,
     "start_time": "2024-05-20T17:24:04.858907",
     "status": "completed"
    },
    "tags": []
   },
   "outputs": [
    {
     "data": {
      "text/html": [
       "<div>\n",
       "<style scoped>\n",
       "    .dataframe tbody tr th:only-of-type {\n",
       "        vertical-align: middle;\n",
       "    }\n",
       "\n",
       "    .dataframe tbody tr th {\n",
       "        vertical-align: top;\n",
       "    }\n",
       "\n",
       "    .dataframe thead th {\n",
       "        text-align: right;\n",
       "    }\n",
       "</style>\n",
       "<table border=\"1\" class=\"dataframe\">\n",
       "  <thead>\n",
       "    <tr style=\"text-align: right;\">\n",
       "      <th></th>\n",
       "      <th>label</th>\n",
       "      <th>text</th>\n",
       "    </tr>\n",
       "  </thead>\n",
       "  <tbody>\n",
       "    <tr>\n",
       "      <th>0</th>\n",
       "      <td>2</td>\n",
       "      <td>Obstructive sleep apnea following topical orop...</td>\n",
       "    </tr>\n",
       "    <tr>\n",
       "      <th>1</th>\n",
       "      <td>4</td>\n",
       "      <td>Neutrophil function and pyogenic infections in...</td>\n",
       "    </tr>\n",
       "    <tr>\n",
       "      <th>2</th>\n",
       "      <td>4</td>\n",
       "      <td>A phase II study of combined methotrexate and ...</td>\n",
       "    </tr>\n",
       "    <tr>\n",
       "      <th>3</th>\n",
       "      <td>0</td>\n",
       "      <td>Flow cytometric DNA analysis of parathyroid tu...</td>\n",
       "    </tr>\n",
       "    <tr>\n",
       "      <th>4</th>\n",
       "      <td>3</td>\n",
       "      <td>Paraneoplastic vasculitic neuropathy: a treata...</td>\n",
       "    </tr>\n",
       "  </tbody>\n",
       "</table>\n",
       "</div>"
      ],
      "text/plain": [
       "   label                                               text\n",
       "0      2  Obstructive sleep apnea following topical orop...\n",
       "1      4  Neutrophil function and pyogenic infections in...\n",
       "2      4  A phase II study of combined methotrexate and ...\n",
       "3      0  Flow cytometric DNA analysis of parathyroid tu...\n",
       "4      3  Paraneoplastic vasculitic neuropathy: a treata..."
      ]
     },
     "execution_count": 14,
     "metadata": {},
     "output_type": "execute_result"
    }
   ],
   "source": [
    "test_df['text'] = test_df['text'].apply(remove_repeated_punctuation)\n",
    "\n",
    "test_df.head()"
   ]
  },
  {
   "cell_type": "code",
   "execution_count": 15,
   "id": "04205773",
   "metadata": {
    "execution": {
     "iopub.execute_input": "2024-05-20T17:24:09.385457Z",
     "iopub.status.busy": "2024-05-20T17:24:09.385140Z",
     "iopub.status.idle": "2024-05-20T17:25:56.909117Z",
     "shell.execute_reply": "2024-05-20T17:25:56.908096Z"
    },
    "papermill": {
     "duration": 107.5588,
     "end_time": "2024-05-20T17:25:56.911552",
     "exception": false,
     "start_time": "2024-05-20T17:24:09.352752",
     "status": "completed"
    },
    "tags": []
   },
   "outputs": [
    {
     "name": "stdout",
     "output_type": "stream",
     "text": [
      "[nltk_data] Downloading package punkt to /usr/share/nltk_data...\n",
      "[nltk_data]   Package punkt is already up-to-date!\n"
     ]
    }
   ],
   "source": [
    "import nltk\n",
    "from nltk.stem import PorterStemmer\n",
    "from nltk.tokenize import word_tokenize\n",
    "import pandas as pd\n",
    "\n",
    "# Download NLTK resources (run only once)\n",
    "nltk.download('punkt')\n",
    "\n",
    "# Initialize the PorterStemmer\n",
    "porter = PorterStemmer()\n",
    "# Function to stem text\n",
    "def stem_text(text):\n",
    "    words = word_tokenize(text)\n",
    "    stemmed_words = [porter.stem(word) for word in words]\n",
    "    stemmed_text = ' '.join(stemmed_words)\n",
    "    return stemmed_text\n",
    "\n",
    "# Apply stemming to the 'text' column\n",
    "train_df['text'] = train_df['text'].apply(stem_text)\n",
    "test_df['text'] = test_df['text'].apply(stem_text)"
   ]
  },
  {
   "cell_type": "code",
   "execution_count": 16,
   "id": "759b6b45",
   "metadata": {
    "execution": {
     "iopub.execute_input": "2024-05-20T17:25:56.976563Z",
     "iopub.status.busy": "2024-05-20T17:25:56.976218Z",
     "iopub.status.idle": "2024-05-20T17:25:56.980477Z",
     "shell.execute_reply": "2024-05-20T17:25:56.979715Z"
    },
    "papermill": {
     "duration": 0.038622,
     "end_time": "2024-05-20T17:25:56.982314",
     "exception": false,
     "start_time": "2024-05-20T17:25:56.943692",
     "status": "completed"
    },
    "tags": []
   },
   "outputs": [],
   "source": [
    "# NLTK library to remove Stopwords.\n",
    "from nltk.corpus import stopwords"
   ]
  },
  {
   "cell_type": "code",
   "execution_count": 17,
   "id": "cb970a4f",
   "metadata": {
    "execution": {
     "iopub.execute_input": "2024-05-20T17:25:57.047604Z",
     "iopub.status.busy": "2024-05-20T17:25:57.046969Z",
     "iopub.status.idle": "2024-05-20T17:25:57.055123Z",
     "shell.execute_reply": "2024-05-20T17:25:57.054260Z"
    },
    "papermill": {
     "duration": 0.042333,
     "end_time": "2024-05-20T17:25:57.057002",
     "exception": false,
     "start_time": "2024-05-20T17:25:57.014669",
     "status": "completed"
    },
    "tags": []
   },
   "outputs": [],
   "source": [
    "stopword = stopwords.words('english')"
   ]
  },
  {
   "cell_type": "code",
   "execution_count": 18,
   "id": "8e01c262",
   "metadata": {
    "execution": {
     "iopub.execute_input": "2024-05-20T17:25:57.166404Z",
     "iopub.status.busy": "2024-05-20T17:25:57.166057Z",
     "iopub.status.idle": "2024-05-20T17:25:57.179288Z",
     "shell.execute_reply": "2024-05-20T17:25:57.178598Z"
    },
    "papermill": {
     "duration": 0.092665,
     "end_time": "2024-05-20T17:25:57.181190",
     "exception": false,
     "start_time": "2024-05-20T17:25:57.088525",
     "status": "completed"
    },
    "tags": []
   },
   "outputs": [],
   "source": [
    "# Store the length of each review before removing less important words\n",
    "train_df['length_before'] = train_df['text'].apply(len)"
   ]
  },
  {
   "cell_type": "code",
   "execution_count": 19,
   "id": "28875200",
   "metadata": {
    "execution": {
     "iopub.execute_input": "2024-05-20T17:25:57.244539Z",
     "iopub.status.busy": "2024-05-20T17:25:57.244253Z",
     "iopub.status.idle": "2024-05-20T17:26:02.247248Z",
     "shell.execute_reply": "2024-05-20T17:26:02.246397Z"
    },
    "papermill": {
     "duration": 5.036875,
     "end_time": "2024-05-20T17:26:02.249450",
     "exception": false,
     "start_time": "2024-05-20T17:25:57.212575",
     "status": "completed"
    },
    "tags": []
   },
   "outputs": [
    {
     "data": {
      "text/html": [
       "<div>\n",
       "<style scoped>\n",
       "    .dataframe tbody tr th:only-of-type {\n",
       "        vertical-align: middle;\n",
       "    }\n",
       "\n",
       "    .dataframe tbody tr th {\n",
       "        vertical-align: top;\n",
       "    }\n",
       "\n",
       "    .dataframe thead th {\n",
       "        text-align: right;\n",
       "    }\n",
       "</style>\n",
       "<table border=\"1\" class=\"dataframe\">\n",
       "  <thead>\n",
       "    <tr style=\"text-align: right;\">\n",
       "      <th></th>\n",
       "      <th>label</th>\n",
       "      <th>text</th>\n",
       "      <th>length_before</th>\n",
       "    </tr>\n",
       "  </thead>\n",
       "  <tbody>\n",
       "    <tr>\n",
       "      <th>0</th>\n",
       "      <td>4</td>\n",
       "      <td>tissu chang around loos prosthes . A canin mod...</td>\n",
       "      <td>907</td>\n",
       "    </tr>\n",
       "    <tr>\n",
       "      <th>1</th>\n",
       "      <td>0</td>\n",
       "      <td>neuropeptid Y  neuron-specif enolas level  ben...</td>\n",
       "      <td>1118</td>\n",
       "    </tr>\n",
       "    <tr>\n",
       "      <th>2</th>\n",
       "      <td>1</td>\n",
       "      <td>sexual transmit diseas   colon , rectum ,  anu...</td>\n",
       "      <td>1595</td>\n",
       "    </tr>\n",
       "    <tr>\n",
       "      <th>3</th>\n",
       "      <td>0</td>\n",
       "      <td>lipolyt factor associ  murin  human cancer cac...</td>\n",
       "      <td>908</td>\n",
       "    </tr>\n",
       "    <tr>\n",
       "      <th>4</th>\n",
       "      <td>2</td>\n",
       "      <td>doe carotid restenosi predict  increas risk  l...</td>\n",
       "      <td>1371</td>\n",
       "    </tr>\n",
       "  </tbody>\n",
       "</table>\n",
       "</div>"
      ],
      "text/plain": [
       "   label                                               text  length_before\n",
       "0      4  tissu chang around loos prosthes . A canin mod...            907\n",
       "1      0  neuropeptid Y  neuron-specif enolas level  ben...           1118\n",
       "2      1  sexual transmit diseas   colon , rectum ,  anu...           1595\n",
       "3      0  lipolyt factor associ  murin  human cancer cac...            908\n",
       "4      2  doe carotid restenosi predict  increas risk  l...           1371"
      ]
     },
     "execution_count": 19,
     "metadata": {},
     "output_type": "execute_result"
    }
   ],
   "source": [
    "# Function\n",
    "def remove_stopwords(text):\n",
    "    new_text = []\n",
    "    \n",
    "    for word in text.split():\n",
    "        if word in stopword:\n",
    "            new_text.append('')\n",
    "        else:\n",
    "            new_text.append(word)\n",
    "    x = new_text[:]\n",
    "    new_text.clear()\n",
    "    return \" \".join(x)\n",
    "\n",
    "# Calling Function \n",
    "train_df['text'] = train_df['text'].apply(remove_stopwords)\n",
    "\n",
    "train_df.head()"
   ]
  },
  {
   "cell_type": "code",
   "execution_count": 20,
   "id": "8bcc0113",
   "metadata": {
    "execution": {
     "iopub.execute_input": "2024-05-20T17:26:02.315761Z",
     "iopub.status.busy": "2024-05-20T17:26:02.315419Z",
     "iopub.status.idle": "2024-05-20T17:26:02.333162Z",
     "shell.execute_reply": "2024-05-20T17:26:02.332175Z"
    },
    "papermill": {
     "duration": 0.053195,
     "end_time": "2024-05-20T17:26:02.335174",
     "exception": false,
     "start_time": "2024-05-20T17:26:02.281979",
     "status": "completed"
    },
    "tags": []
   },
   "outputs": [
    {
     "data": {
      "text/html": [
       "<div>\n",
       "<style scoped>\n",
       "    .dataframe tbody tr th:only-of-type {\n",
       "        vertical-align: middle;\n",
       "    }\n",
       "\n",
       "    .dataframe tbody tr th {\n",
       "        vertical-align: top;\n",
       "    }\n",
       "\n",
       "    .dataframe thead th {\n",
       "        text-align: right;\n",
       "    }\n",
       "</style>\n",
       "<table border=\"1\" class=\"dataframe\">\n",
       "  <thead>\n",
       "    <tr style=\"text-align: right;\">\n",
       "      <th></th>\n",
       "      <th>label</th>\n",
       "      <th>text</th>\n",
       "      <th>length_before</th>\n",
       "      <th>length_after</th>\n",
       "    </tr>\n",
       "  </thead>\n",
       "  <tbody>\n",
       "    <tr>\n",
       "      <th>0</th>\n",
       "      <td>4</td>\n",
       "      <td>tissu chang around loos prosthes . A canin mod...</td>\n",
       "      <td>907</td>\n",
       "      <td>737</td>\n",
       "    </tr>\n",
       "    <tr>\n",
       "      <th>1</th>\n",
       "      <td>0</td>\n",
       "      <td>neuropeptid Y  neuron-specif enolas level  ben...</td>\n",
       "      <td>1118</td>\n",
       "      <td>912</td>\n",
       "    </tr>\n",
       "    <tr>\n",
       "      <th>2</th>\n",
       "      <td>1</td>\n",
       "      <td>sexual transmit diseas   colon , rectum ,  anu...</td>\n",
       "      <td>1595</td>\n",
       "      <td>1339</td>\n",
       "    </tr>\n",
       "    <tr>\n",
       "      <th>3</th>\n",
       "      <td>0</td>\n",
       "      <td>lipolyt factor associ  murin  human cancer cac...</td>\n",
       "      <td>908</td>\n",
       "      <td>782</td>\n",
       "    </tr>\n",
       "    <tr>\n",
       "      <th>4</th>\n",
       "      <td>2</td>\n",
       "      <td>doe carotid restenosi predict  increas risk  l...</td>\n",
       "      <td>1371</td>\n",
       "      <td>1177</td>\n",
       "    </tr>\n",
       "  </tbody>\n",
       "</table>\n",
       "</div>"
      ],
      "text/plain": [
       "   label                                               text  length_before  \\\n",
       "0      4  tissu chang around loos prosthes . A canin mod...            907   \n",
       "1      0  neuropeptid Y  neuron-specif enolas level  ben...           1118   \n",
       "2      1  sexual transmit diseas   colon , rectum ,  anu...           1595   \n",
       "3      0  lipolyt factor associ  murin  human cancer cac...            908   \n",
       "4      2  doe carotid restenosi predict  increas risk  l...           1371   \n",
       "\n",
       "   length_after  \n",
       "0           737  \n",
       "1           912  \n",
       "2          1339  \n",
       "3           782  \n",
       "4          1177  "
      ]
     },
     "execution_count": 20,
     "metadata": {},
     "output_type": "execute_result"
    }
   ],
   "source": [
    "# Store the length of each review before removing less important words\n",
    "train_df['length_after'] = train_df['text'].apply(len)\n",
    "train_df.head()"
   ]
  },
  {
   "cell_type": "code",
   "execution_count": 21,
   "id": "06307a72",
   "metadata": {
    "execution": {
     "iopub.execute_input": "2024-05-20T17:26:02.402659Z",
     "iopub.status.busy": "2024-05-20T17:26:02.402366Z",
     "iopub.status.idle": "2024-05-20T17:26:03.649439Z",
     "shell.execute_reply": "2024-05-20T17:26:03.648537Z"
    },
    "papermill": {
     "duration": 1.282387,
     "end_time": "2024-05-20T17:26:03.651540",
     "exception": false,
     "start_time": "2024-05-20T17:26:02.369153",
     "status": "completed"
    },
    "tags": []
   },
   "outputs": [
    {
     "data": {
      "text/html": [
       "<div>\n",
       "<style scoped>\n",
       "    .dataframe tbody tr th:only-of-type {\n",
       "        vertical-align: middle;\n",
       "    }\n",
       "\n",
       "    .dataframe tbody tr th {\n",
       "        vertical-align: top;\n",
       "    }\n",
       "\n",
       "    .dataframe thead th {\n",
       "        text-align: right;\n",
       "    }\n",
       "</style>\n",
       "<table border=\"1\" class=\"dataframe\">\n",
       "  <thead>\n",
       "    <tr style=\"text-align: right;\">\n",
       "      <th></th>\n",
       "      <th>label</th>\n",
       "      <th>text</th>\n",
       "    </tr>\n",
       "  </thead>\n",
       "  <tbody>\n",
       "    <tr>\n",
       "      <th>0</th>\n",
       "      <td>2</td>\n",
       "      <td>obstruct sleep apnea follow topic oropharyng a...</td>\n",
       "    </tr>\n",
       "    <tr>\n",
       "      <th>1</th>\n",
       "      <td>4</td>\n",
       "      <td>neutrophil function  pyogen infect  bone marro...</td>\n",
       "    </tr>\n",
       "    <tr>\n",
       "      <th>2</th>\n",
       "      <td>4</td>\n",
       "      <td>A phase II studi  combin methotrex  teniposid ...</td>\n",
       "    </tr>\n",
       "    <tr>\n",
       "      <th>3</th>\n",
       "      <td>0</td>\n",
       "      <td>flow cytometr dna analysi  parathyroid tumor ....</td>\n",
       "    </tr>\n",
       "    <tr>\n",
       "      <th>4</th>\n",
       "      <td>3</td>\n",
       "      <td>paraneoplast vasculit neuropathi :  treatabl n...</td>\n",
       "    </tr>\n",
       "  </tbody>\n",
       "</table>\n",
       "</div>"
      ],
      "text/plain": [
       "   label                                               text\n",
       "0      2  obstruct sleep apnea follow topic oropharyng a...\n",
       "1      4  neutrophil function  pyogen infect  bone marro...\n",
       "2      4  A phase II studi  combin methotrex  teniposid ...\n",
       "3      0  flow cytometr dna analysi  parathyroid tumor ....\n",
       "4      3  paraneoplast vasculit neuropathi :  treatabl n..."
      ]
     },
     "execution_count": 21,
     "metadata": {},
     "output_type": "execute_result"
    }
   ],
   "source": [
    "# Calling Function \n",
    "test_df['text'] = test_df['text'].apply(remove_stopwords)\n",
    "\n",
    "test_df.head()"
   ]
  },
  {
   "cell_type": "code",
   "execution_count": 22,
   "id": "011d987c",
   "metadata": {
    "execution": {
     "iopub.execute_input": "2024-05-20T17:26:03.716779Z",
     "iopub.status.busy": "2024-05-20T17:26:03.716492Z",
     "iopub.status.idle": "2024-05-20T17:26:03.722201Z",
     "shell.execute_reply": "2024-05-20T17:26:03.721512Z"
    },
    "papermill": {
     "duration": 0.04017,
     "end_time": "2024-05-20T17:26:03.723961",
     "exception": false,
     "start_time": "2024-05-20T17:26:03.683791",
     "status": "completed"
    },
    "tags": []
   },
   "outputs": [],
   "source": [
    "texts = train_df['text'].tolist()\n",
    "labels = train_df['label'].tolist()"
   ]
  },
  {
   "cell_type": "code",
   "execution_count": 23,
   "id": "14a82305",
   "metadata": {
    "execution": {
     "iopub.execute_input": "2024-05-20T17:26:03.788437Z",
     "iopub.status.busy": "2024-05-20T17:26:03.788189Z",
     "iopub.status.idle": "2024-05-20T17:26:03.799563Z",
     "shell.execute_reply": "2024-05-20T17:26:03.798767Z"
    },
    "papermill": {
     "duration": 0.045508,
     "end_time": "2024-05-20T17:26:03.801427",
     "exception": false,
     "start_time": "2024-05-20T17:26:03.755919",
     "status": "completed"
    },
    "tags": []
   },
   "outputs": [],
   "source": [
    "train_texts, val_texts, train_labels, val_labelss = train_test_split(texts, labels, test_size=0.2, random_state=42)"
   ]
  },
  {
   "cell_type": "code",
   "execution_count": 24,
   "id": "dedcb804",
   "metadata": {
    "execution": {
     "iopub.execute_input": "2024-05-20T17:26:03.866012Z",
     "iopub.status.busy": "2024-05-20T17:26:03.865603Z",
     "iopub.status.idle": "2024-05-20T17:26:03.870038Z",
     "shell.execute_reply": "2024-05-20T17:26:03.869220Z"
    },
    "papermill": {
     "duration": 0.038597,
     "end_time": "2024-05-20T17:26:03.871848",
     "exception": false,
     "start_time": "2024-05-20T17:26:03.833251",
     "status": "completed"
    },
    "tags": []
   },
   "outputs": [],
   "source": [
    "test_texts = test_df['text'].tolist()\n",
    "test_labels = test_df['label'].tolist()"
   ]
  },
  {
   "cell_type": "code",
   "execution_count": 25,
   "id": "c881f9a4",
   "metadata": {
    "execution": {
     "iopub.execute_input": "2024-05-20T17:26:03.937142Z",
     "iopub.status.busy": "2024-05-20T17:26:03.936851Z",
     "iopub.status.idle": "2024-05-20T17:26:03.944655Z",
     "shell.execute_reply": "2024-05-20T17:26:03.943893Z"
    },
    "papermill": {
     "duration": 0.042809,
     "end_time": "2024-05-20T17:26:03.946464",
     "exception": false,
     "start_time": "2024-05-20T17:26:03.903655",
     "status": "completed"
    },
    "tags": []
   },
   "outputs": [],
   "source": [
    "class TextClassificationDataset(Dataset):\n",
    "    def __init__(self, texts, labels, tokenizer, max_length):\n",
    "        self.texts = [str(text) for text in texts]\n",
    "        self.labels = labels\n",
    "        self.tokenizer = tokenizer\n",
    "        self.max_length = max_length\n",
    "    def __len__(self):\n",
    "        return len(self.texts)\n",
    "    def __getitem__(self, idx):\n",
    "        text = self.texts[idx]\n",
    "        label = self.labels[idx]\n",
    "        encoding = self.tokenizer(text, return_tensors='pt', max_length=self.max_length, padding='max_length', truncation=True)\n",
    "        return {'input_ids': encoding['input_ids'].flatten(), 'attention_mask': encoding['attention_mask'].flatten(), 'label': torch.tensor(label)}"
   ]
  },
  {
   "cell_type": "code",
   "execution_count": 26,
   "id": "5b837bff",
   "metadata": {
    "execution": {
     "iopub.execute_input": "2024-05-20T17:26:04.011174Z",
     "iopub.status.busy": "2024-05-20T17:26:04.010922Z",
     "iopub.status.idle": "2024-05-20T17:26:04.018076Z",
     "shell.execute_reply": "2024-05-20T17:26:04.017207Z"
    },
    "papermill": {
     "duration": 0.041547,
     "end_time": "2024-05-20T17:26:04.019881",
     "exception": false,
     "start_time": "2024-05-20T17:26:03.978334",
     "status": "completed"
    },
    "tags": []
   },
   "outputs": [],
   "source": [
    "class BioBERTClassifier(nn.Module):\n",
    "    def __init__(self, bert_model_name, num_classes):\n",
    "        super(BioBERTClassifier, self).__init__()\n",
    "        self.bert = AutoModel.from_pretrained(bert_model_name)\n",
    "        self.dropout = nn.Dropout(0.2)\n",
    "        self.fc = nn.Linear(self.bert.config.hidden_size, num_classes)\n",
    "\n",
    "    def forward(self, input_ids, attention_mask):\n",
    "        outputs = self.bert(input_ids=input_ids, attention_mask=attention_mask)\n",
    "        pooled_output = outputs.pooler_output\n",
    "        x = self.dropout(pooled_output)\n",
    "        logits = self.fc(x)\n",
    "        return logits"
   ]
  },
  {
   "cell_type": "code",
   "execution_count": 27,
   "id": "d3dd9080",
   "metadata": {
    "execution": {
     "iopub.execute_input": "2024-05-20T17:26:04.084974Z",
     "iopub.status.busy": "2024-05-20T17:26:04.084429Z",
     "iopub.status.idle": "2024-05-20T17:26:04.088661Z",
     "shell.execute_reply": "2024-05-20T17:26:04.087852Z"
    },
    "papermill": {
     "duration": 0.038796,
     "end_time": "2024-05-20T17:26:04.090565",
     "exception": false,
     "start_time": "2024-05-20T17:26:04.051769",
     "status": "completed"
    },
    "tags": []
   },
   "outputs": [],
   "source": [
    "# Set up parameters\n",
    "bert_model_name = 'dmis-lab/biobert-base-cased-v1.2'\n",
    "num_classes = 5\n",
    "max_length = 512\n",
    "batch_size = 8"
   ]
  },
  {
   "cell_type": "code",
   "execution_count": 28,
   "id": "ad1fd53e",
   "metadata": {
    "execution": {
     "iopub.execute_input": "2024-05-20T17:26:04.155233Z",
     "iopub.status.busy": "2024-05-20T17:26:04.154970Z",
     "iopub.status.idle": "2024-05-20T17:26:06.425698Z",
     "shell.execute_reply": "2024-05-20T17:26:06.424932Z"
    },
    "papermill": {
     "duration": 2.305423,
     "end_time": "2024-05-20T17:26:06.427990",
     "exception": false,
     "start_time": "2024-05-20T17:26:04.122567",
     "status": "completed"
    },
    "tags": []
   },
   "outputs": [
    {
     "data": {
      "application/vnd.jupyter.widget-view+json": {
       "model_id": "be9e0ed256c6423d8e7a3ab779437223",
       "version_major": 2,
       "version_minor": 0
      },
      "text/plain": [
       "config.json:   0%|          | 0.00/1.11k [00:00<?, ?B/s]"
      ]
     },
     "metadata": {},
     "output_type": "display_data"
    },
    {
     "data": {
      "application/vnd.jupyter.widget-view+json": {
       "model_id": "2a50ac68bd10413dac5e1ad417e4b401",
       "version_major": 2,
       "version_minor": 0
      },
      "text/plain": [
       "vocab.txt:   0%|          | 0.00/213k [00:00<?, ?B/s]"
      ]
     },
     "metadata": {},
     "output_type": "display_data"
    }
   ],
   "source": [
    "tokenizer = AutoTokenizer.from_pretrained(bert_model_name)\n",
    "\n",
    "train_dataset = TextClassificationDataset(train_texts, train_labels, tokenizer, max_length)\n",
    "val_dataset = TextClassificationDataset(val_texts, val_labelss, tokenizer, max_length)\n",
    "test_dataset = TextClassificationDataset(test_texts, test_labels, tokenizer, max_length)\n",
    "\n",
    "train_dataloader = DataLoader(train_dataset, batch_size=batch_size, shuffle=True)\n",
    "val_dataloader = DataLoader(val_dataset, batch_size=batch_size)\n",
    "test_dataloader = DataLoader(test_dataset, batch_size=batch_size)"
   ]
  },
  {
   "cell_type": "code",
   "execution_count": 29,
   "id": "69cf6997",
   "metadata": {
    "execution": {
     "iopub.execute_input": "2024-05-20T17:26:06.494953Z",
     "iopub.status.busy": "2024-05-20T17:26:06.494629Z",
     "iopub.status.idle": "2024-05-20T17:26:20.728376Z",
     "shell.execute_reply": "2024-05-20T17:26:20.727522Z"
    },
    "papermill": {
     "duration": 14.269578,
     "end_time": "2024-05-20T17:26:20.730751",
     "exception": false,
     "start_time": "2024-05-20T17:26:06.461173",
     "status": "completed"
    },
    "tags": []
   },
   "outputs": [
    {
     "data": {
      "application/vnd.jupyter.widget-view+json": {
       "model_id": "139f6162d6d44e4a85f27877be0cfc37",
       "version_major": 2,
       "version_minor": 0
      },
      "text/plain": [
       "pytorch_model.bin:   0%|          | 0.00/436M [00:00<?, ?B/s]"
      ]
     },
     "metadata": {},
     "output_type": "display_data"
    },
    {
     "name": "stderr",
     "output_type": "stream",
     "text": [
      "/opt/conda/lib/python3.10/site-packages/torch/_utils.py:831: UserWarning: TypedStorage is deprecated. It will be removed in the future and UntypedStorage will be the only storage class. This should only matter to you if you are using storages directly.  To access UntypedStorage directly, use tensor.untyped_storage() instead of tensor.storage()\n",
      "  return self.fget.__get__(instance, owner)()\n"
     ]
    }
   ],
   "source": [
    "device = torch.device(\"cuda\" if torch.cuda.is_available() else \"cpu\")\n",
    "model = BioBERTClassifier(bert_model_name, num_classes).to(device)"
   ]
  },
  {
   "cell_type": "code",
   "execution_count": 30,
   "id": "5e438d45",
   "metadata": {
    "execution": {
     "iopub.execute_input": "2024-05-20T17:26:20.799070Z",
     "iopub.status.busy": "2024-05-20T17:26:20.798387Z",
     "iopub.status.idle": "2024-05-20T17:26:20.805709Z",
     "shell.execute_reply": "2024-05-20T17:26:20.804808Z"
    },
    "papermill": {
     "duration": 0.04319,
     "end_time": "2024-05-20T17:26:20.807572",
     "exception": false,
     "start_time": "2024-05-20T17:26:20.764382",
     "status": "completed"
    },
    "tags": []
   },
   "outputs": [],
   "source": [
    "epochs = 20\n",
    "best_roc_auc = 0.0\n",
    "min_delta = 0.0001\n",
    "early_stopping_count = 0\n",
    "early_stopping_patience = 3\n",
    "gradient_accumulation_steps = 10\n",
    "\n",
    "# Set the optimizer\n",
    "optimizer = optim.AdamW(model.parameters(), lr=1e-5, weight_decay=0.01)\n",
    "\n",
    "# Set the scheduler\n",
    "scheduler = get_linear_schedule_with_warmup(\n",
    "    optimizer, \n",
    "    num_warmup_steps=50, \n",
    "    num_training_steps=len(train_dataloader) * epochs // gradient_accumulation_steps\n",
    ")\n"
   ]
  },
  {
   "cell_type": "code",
   "execution_count": 31,
   "id": "8e7cb3f1",
   "metadata": {
    "execution": {
     "iopub.execute_input": "2024-05-20T17:26:20.873972Z",
     "iopub.status.busy": "2024-05-20T17:26:20.873704Z",
     "iopub.status.idle": "2024-05-20T18:27:24.787700Z",
     "shell.execute_reply": "2024-05-20T18:27:24.786624Z"
    },
    "papermill": {
     "duration": 3663.98396,
     "end_time": "2024-05-20T18:27:24.824052",
     "exception": false,
     "start_time": "2024-05-20T17:26:20.840092",
     "status": "completed"
    },
    "tags": []
   },
   "outputs": [
    {
     "name": "stdout",
     "output_type": "stream",
     "text": [
      "Epoch: 1/20, Training Loss: 1.4151, Validation Loss: 0.9841\n",
      "Accuracy: 0.6165, Recall: 0.6165, Precision: 0.6193, F1: 0.58795825071659, Micro F1: 0.6165, Macro Roc Auc: 0.8525\n",
      "Epoch: 2/20, Training Loss: 0.9044, Validation Loss: 0.8359\n",
      "Accuracy: 0.6407, Recall: 0.6407, Precision: 0.6331, F1: 0.6308070587642698, Micro F1: 0.6407, Macro Roc Auc: 0.8944\n",
      "Epoch: 3/20, Training Loss: 0.7972, Validation Loss: 0.8239\n",
      "Accuracy: 0.6476, Recall: 0.6476, Precision: 0.6467, F1: 0.6284162695044845, Micro F1: 0.6476, Macro Roc Auc: 0.8992\n",
      "Epoch: 4/20, Training Loss: 0.7472, Validation Loss: 0.8264\n",
      "Accuracy: 0.6385, Recall: 0.6385, Precision: 0.6507, F1: 0.6159872963767647, Micro F1: 0.6385, Macro Roc Auc: 0.9017\n",
      "Epoch: 5/20, Training Loss: 0.6909, Validation Loss: 0.8260\n",
      "Accuracy: 0.6294, Recall: 0.6294, Precision: 0.6250, F1: 0.6233378907810015, Micro F1: 0.6294, Macro Roc Auc: 0.9003\n",
      "EarlyStopping counter: 1 out of 3\n",
      "Epoch: 6/20, Training Loss: 0.6515, Validation Loss: 0.8637\n",
      "Accuracy: 0.6234, Recall: 0.6234, Precision: 0.6193, F1: 0.6163991805652609, Micro F1: 0.6234, Macro Roc Auc: 0.8960\n",
      "EarlyStopping counter: 2 out of 3\n",
      "Epoch: 7/20, Training Loss: 0.6095, Validation Loss: 0.8889\n",
      "Accuracy: 0.6100, Recall: 0.6100, Precision: 0.6063, F1: 0.6022840697494081, Micro F1: 0.6100, Macro Roc Auc: 0.8931\n",
      "EarlyStopping counter: 3 out of 3\n",
      "Early stopping\n"
     ]
    }
   ],
   "source": [
    "# Training\n",
    "for epoch in range(epochs):\n",
    "    model.train()\n",
    "    train_loss = 0\n",
    "    for step, batch in enumerate(train_dataloader):\n",
    "        optimizer.zero_grad() if step % gradient_accumulation_steps == 0 else None\n",
    "        input_ids = batch['input_ids'].to(device)\n",
    "        attention_mask = batch['attention_mask'].to(device)\n",
    "        labels = batch['label'].to(device)\n",
    "        outputs = model(input_ids, attention_mask)\n",
    "        loss = nn.CrossEntropyLoss()(outputs, labels)\n",
    "        (loss / gradient_accumulation_steps).backward()\n",
    "        train_loss += loss.item()\n",
    "        if (step + 1) % gradient_accumulation_steps == 0 or (step + 1) == len(train_dataloader):\n",
    "            optimizer.step()\n",
    "            scheduler.step()\n",
    "            \n",
    "    model.eval()\n",
    "    val_loss = 0\n",
    "    val_preds = []\n",
    "    val_labels = []\n",
    "    with torch.no_grad():\n",
    "        for batch in val_dataloader:\n",
    "            input_ids = batch['input_ids'].to(device)\n",
    "            attention_mask = batch['attention_mask'].to(device)\n",
    "            labels = batch['label'].to(device)\n",
    "            outputs = model(input_ids, attention_mask)\n",
    "            loss = nn.CrossEntropyLoss()(outputs, labels)\n",
    "            val_loss += loss.item()\n",
    "            val_preds.append(F.softmax(outputs, dim=1).cpu().numpy())\n",
    "            val_labels.append(labels.cpu().numpy())\n",
    "            \n",
    "    val_preds = np.concatenate(val_preds)\n",
    "    val_labels = np.concatenate(val_labels)\n",
    "    val_loss /= len(val_dataloader)\n",
    "    train_loss /= len(train_dataloader)\n",
    "    print(f'Epoch: {epoch+1}/{epochs}, Training Loss: {train_loss:.4f}, Validation Loss: {val_loss:.4f}')\n",
    "\n",
    "    # Calculate metrics\n",
    "    val_preds_class = np.argmax(val_preds, axis=1)\n",
    "    accuracy = accuracy_score(val_labels, val_preds_class)\n",
    "    recall = recall_score(val_labels, val_preds_class, average='weighted')\n",
    "    precision = precision_score(val_labels, val_preds_class, average='weighted')\n",
    "    f1 = f1_score(val_labels, val_preds_class, average='weighted')\n",
    "    micro_f1 = f1_score(val_labels, val_preds_class, average='micro')\n",
    "    macro_roc_auc = roc_auc_score(val_labels, val_preds, multi_class='ovo', average='macro')\n",
    "\n",
    "    print(f'Accuracy: {accuracy:.4f}, Recall: {recall:.4f}, Precision: {precision:.4f}, F1: {f1}, Micro F1: {micro_f1:.4f}, Macro Roc Auc: {macro_roc_auc:.4f}')\n",
    "            \n",
    "   # Implement early stopping\n",
    "    if epoch > 0 and macro_roc_auc - best_roc_auc < min_delta:\n",
    "        early_stopping_count += 1\n",
    "        print(f'EarlyStopping counter: {early_stopping_count} out of {early_stopping_patience}')\n",
    "        if early_stopping_count >= early_stopping_patience:\n",
    "            print('Early stopping')\n",
    "            break\n",
    "    else:\n",
    "        best_roc_auc = macro_roc_auc\n",
    "        early_stopping_count = 0\n"
   ]
  },
  {
   "cell_type": "code",
   "execution_count": 32,
   "id": "e549fde3",
   "metadata": {
    "execution": {
     "iopub.execute_input": "2024-05-20T18:27:24.894022Z",
     "iopub.status.busy": "2024-05-20T18:27:24.893660Z",
     "iopub.status.idle": "2024-05-20T18:28:16.895066Z",
     "shell.execute_reply": "2024-05-20T18:28:16.894220Z"
    },
    "papermill": {
     "duration": 52.038955,
     "end_time": "2024-05-20T18:28:16.897576",
     "exception": false,
     "start_time": "2024-05-20T18:27:24.858621",
     "status": "completed"
    },
    "tags": []
   },
   "outputs": [],
   "source": [
    "model.eval()\n",
    "\n",
    "test_preds = []\n",
    "test_labels = []\n",
    "\n",
    "# Iterate over test data\n",
    "with torch.no_grad():\n",
    "    for batch in test_dataloader:\n",
    "        input_ids = batch['input_ids'].to(device)\n",
    "        attention_mask = batch['attention_mask'].to(device)\n",
    "        labels = batch['label'].to(device)\n",
    "        outputs = model(input_ids, attention_mask)\n",
    "        test_preds.append(F.softmax(outputs, dim=1).cpu().numpy())\n",
    "        test_labels.append(labels.cpu().numpy())\n"
   ]
  },
  {
   "cell_type": "code",
   "execution_count": 33,
   "id": "c6581896",
   "metadata": {
    "execution": {
     "iopub.execute_input": "2024-05-20T18:28:16.967380Z",
     "iopub.status.busy": "2024-05-20T18:28:16.966628Z",
     "iopub.status.idle": "2024-05-20T18:28:16.983667Z",
     "shell.execute_reply": "2024-05-20T18:28:16.982650Z"
    },
    "papermill": {
     "duration": 0.054496,
     "end_time": "2024-05-20T18:28:16.985832",
     "exception": false,
     "start_time": "2024-05-20T18:28:16.931336",
     "status": "completed"
    },
    "tags": []
   },
   "outputs": [
    {
     "name": "stdout",
     "output_type": "stream",
     "text": [
      "              precision    recall  f1-score   support\n",
      "\n",
      "           0     0.6957    0.7836    0.7370       633\n",
      "           1     0.5125    0.6154    0.5593       299\n",
      "           2     0.5875    0.6364    0.6110       385\n",
      "           3     0.6517    0.7148    0.6818       610\n",
      "           4     0.5466    0.4152    0.4719       961\n",
      "\n",
      "    accuracy                         0.6094      2888\n",
      "   macro avg     0.5988    0.6331    0.6122      2888\n",
      "weighted avg     0.6034    0.6094    0.6019      2888\n",
      "\n"
     ]
    }
   ],
   "source": [
    "test_preds = np.concatenate(test_preds)\n",
    "test_labels = np.concatenate(test_labels)\n",
    "\n",
    "test_preds_class = np.argmax(test_preds, axis=1)\n",
    "\n",
    "report = classification_report(test_labels, test_preds_class, digits = 4)\n",
    "\n",
    "print(report)"
   ]
  },
  {
   "cell_type": "code",
   "execution_count": null,
   "id": "f9d6630f",
   "metadata": {
    "papermill": {
     "duration": 0.034347,
     "end_time": "2024-05-20T18:28:17.055551",
     "exception": false,
     "start_time": "2024-05-20T18:28:17.021204",
     "status": "completed"
    },
    "tags": []
   },
   "outputs": [],
   "source": []
  }
 ],
 "metadata": {
  "kaggle": {
   "accelerator": "gpu",
   "dataSources": [],
   "isGpuEnabled": true,
   "isInternetEnabled": true,
   "language": "python",
   "sourceType": "notebook"
  },
  "kernelspec": {
   "display_name": "Python 3",
   "language": "python",
   "name": "python3"
  },
  "language_info": {
   "codemirror_mode": {
    "name": "ipython",
    "version": 3
   },
   "file_extension": ".py",
   "mimetype": "text/x-python",
   "name": "python",
   "nbconvert_exporter": "python",
   "pygments_lexer": "ipython3",
   "version": "3.10.13"
  },
  "papermill": {
   "default_parameters": {},
   "duration": 3908.779262,
   "end_time": "2024-05-20T18:28:19.022782",
   "environment_variables": {},
   "exception": null,
   "input_path": "__notebook__.ipynb",
   "output_path": "__notebook__.ipynb",
   "parameters": {},
   "start_time": "2024-05-20T17:23:10.243520",
   "version": "2.5.0"
  },
  "widgets": {
   "application/vnd.jupyter.widget-state+json": {
    "state": {
     "00e8e3c481d24c649a2f1535d26b0137": {
      "model_module": "@jupyter-widgets/base",
      "model_module_version": "1.2.0",
      "model_name": "LayoutModel",
      "state": {
       "_model_module": "@jupyter-widgets/base",
       "_model_module_version": "1.2.0",
       "_model_name": "LayoutModel",
       "_view_count": null,
       "_view_module": "@jupyter-widgets/base",
       "_view_module_version": "1.2.0",
       "_view_name": "LayoutView",
       "align_content": null,
       "align_items": null,
       "align_self": null,
       "border": null,
       "bottom": null,
       "display": null,
       "flex": null,
       "flex_flow": null,
       "grid_area": null,
       "grid_auto_columns": null,
       "grid_auto_flow": null,
       "grid_auto_rows": null,
       "grid_column": null,
       "grid_gap": null,
       "grid_row": null,
       "grid_template_areas": null,
       "grid_template_columns": null,
       "grid_template_rows": null,
       "height": null,
       "justify_content": null,
       "justify_items": null,
       "left": null,
       "margin": null,
       "max_height": null,
       "max_width": null,
       "min_height": null,
       "min_width": null,
       "object_fit": null,
       "object_position": null,
       "order": null,
       "overflow": null,
       "overflow_x": null,
       "overflow_y": null,
       "padding": null,
       "right": null,
       "top": null,
       "visibility": null,
       "width": null
      }
     },
     "03adf47cdbcd487face3333535dfa2ca": {
      "model_module": "@jupyter-widgets/controls",
      "model_module_version": "1.5.0",
      "model_name": "ProgressStyleModel",
      "state": {
       "_model_module": "@jupyter-widgets/controls",
       "_model_module_version": "1.5.0",
       "_model_name": "ProgressStyleModel",
       "_view_count": null,
       "_view_module": "@jupyter-widgets/base",
       "_view_module_version": "1.2.0",
       "_view_name": "StyleView",
       "bar_color": null,
       "description_width": ""
      }
     },
     "04904f1af6a043c8afdd7904597d56a2": {
      "model_module": "@jupyter-widgets/base",
      "model_module_version": "1.2.0",
      "model_name": "LayoutModel",
      "state": {
       "_model_module": "@jupyter-widgets/base",
       "_model_module_version": "1.2.0",
       "_model_name": "LayoutModel",
       "_view_count": null,
       "_view_module": "@jupyter-widgets/base",
       "_view_module_version": "1.2.0",
       "_view_name": "LayoutView",
       "align_content": null,
       "align_items": null,
       "align_self": null,
       "border": null,
       "bottom": null,
       "display": null,
       "flex": null,
       "flex_flow": null,
       "grid_area": null,
       "grid_auto_columns": null,
       "grid_auto_flow": null,
       "grid_auto_rows": null,
       "grid_column": null,
       "grid_gap": null,
       "grid_row": null,
       "grid_template_areas": null,
       "grid_template_columns": null,
       "grid_template_rows": null,
       "height": null,
       "justify_content": null,
       "justify_items": null,
       "left": null,
       "margin": null,
       "max_height": null,
       "max_width": null,
       "min_height": null,
       "min_width": null,
       "object_fit": null,
       "object_position": null,
       "order": null,
       "overflow": null,
       "overflow_x": null,
       "overflow_y": null,
       "padding": null,
       "right": null,
       "top": null,
       "visibility": null,
       "width": null
      }
     },
     "04fc555523124cafb2bbffb658978837": {
      "model_module": "@jupyter-widgets/controls",
      "model_module_version": "1.5.0",
      "model_name": "HBoxModel",
      "state": {
       "_dom_classes": [],
       "_model_module": "@jupyter-widgets/controls",
       "_model_module_version": "1.5.0",
       "_model_name": "HBoxModel",
       "_view_count": null,
       "_view_module": "@jupyter-widgets/controls",
       "_view_module_version": "1.5.0",
       "_view_name": "HBoxView",
       "box_style": "",
       "children": [
        "IPY_MODEL_c805c31bd4da477bbddb918c149f62da",
        "IPY_MODEL_0fc8750e541f4978bec987f065ccb12f",
        "IPY_MODEL_510feff645004f1a879e010d6fd8935f"
       ],
       "layout": "IPY_MODEL_66a46760c9bc47c48cd22db0bc1fd207"
      }
     },
     "0b3e61c5e9ec4ae886c1a31bc37f190f": {
      "model_module": "@jupyter-widgets/controls",
      "model_module_version": "1.5.0",
      "model_name": "HTMLModel",
      "state": {
       "_dom_classes": [],
       "_model_module": "@jupyter-widgets/controls",
       "_model_module_version": "1.5.0",
       "_model_name": "HTMLModel",
       "_view_count": null,
       "_view_module": "@jupyter-widgets/controls",
       "_view_module_version": "1.5.0",
       "_view_name": "HTMLView",
       "description": "",
       "description_tooltip": null,
       "layout": "IPY_MODEL_512034bb47de4419ab8267c7406b16de",
       "placeholder": "​",
       "style": "IPY_MODEL_71d0620a1bbc44e4be4a1e05bed2f085",
       "value": "Computing checksums: 100%"
      }
     },
     "0c6257cbe0ab46efaa41e809bb5c47c1": {
      "model_module": "@jupyter-widgets/base",
      "model_module_version": "1.2.0",
      "model_name": "LayoutModel",
      "state": {
       "_model_module": "@jupyter-widgets/base",
       "_model_module_version": "1.2.0",
       "_model_name": "LayoutModel",
       "_view_count": null,
       "_view_module": "@jupyter-widgets/base",
       "_view_module_version": "1.2.0",
       "_view_name": "LayoutView",
       "align_content": null,
       "align_items": null,
       "align_self": null,
       "border": null,
       "bottom": null,
       "display": null,
       "flex": null,
       "flex_flow": null,
       "grid_area": null,
       "grid_auto_columns": null,
       "grid_auto_flow": null,
       "grid_auto_rows": null,
       "grid_column": null,
       "grid_gap": null,
       "grid_row": null,
       "grid_template_areas": null,
       "grid_template_columns": null,
       "grid_template_rows": null,
       "height": null,
       "justify_content": null,
       "justify_items": null,
       "left": null,
       "margin": null,
       "max_height": null,
       "max_width": null,
       "min_height": null,
       "min_width": null,
       "object_fit": null,
       "object_position": null,
       "order": null,
       "overflow": null,
       "overflow_x": null,
       "overflow_y": null,
       "padding": null,
       "right": null,
       "top": null,
       "visibility": null,
       "width": null
      }
     },
     "0fc8750e541f4978bec987f065ccb12f": {
      "model_module": "@jupyter-widgets/controls",
      "model_module_version": "1.5.0",
      "model_name": "FloatProgressModel",
      "state": {
       "_dom_classes": [],
       "_model_module": "@jupyter-widgets/controls",
       "_model_module_version": "1.5.0",
       "_model_name": "FloatProgressModel",
       "_view_count": null,
       "_view_module": "@jupyter-widgets/controls",
       "_view_module_version": "1.5.0",
       "_view_name": "ProgressView",
       "bar_style": "success",
       "description": "",
       "description_tooltip": null,
       "layout": "IPY_MODEL_dac832441eb34b268734af2b24199eeb",
       "max": 1.0,
       "min": 0.0,
       "orientation": "horizontal",
       "style": "IPY_MODEL_39947b24ba9e4193ae57f28ab699096b",
       "value": 1.0
      }
     },
     "111fdae4bb7f4cc985b7a8a32edb8e8c": {
      "model_module": "@jupyter-widgets/controls",
      "model_module_version": "1.5.0",
      "model_name": "DescriptionStyleModel",
      "state": {
       "_model_module": "@jupyter-widgets/controls",
       "_model_module_version": "1.5.0",
       "_model_name": "DescriptionStyleModel",
       "_view_count": null,
       "_view_module": "@jupyter-widgets/base",
       "_view_module_version": "1.2.0",
       "_view_name": "StyleView",
       "description_width": ""
      }
     },
     "139f6162d6d44e4a85f27877be0cfc37": {
      "model_module": "@jupyter-widgets/controls",
      "model_module_version": "1.5.0",
      "model_name": "HBoxModel",
      "state": {
       "_dom_classes": [],
       "_model_module": "@jupyter-widgets/controls",
       "_model_module_version": "1.5.0",
       "_model_name": "HBoxModel",
       "_view_count": null,
       "_view_module": "@jupyter-widgets/controls",
       "_view_module_version": "1.5.0",
       "_view_name": "HBoxView",
       "box_style": "",
       "children": [
        "IPY_MODEL_a2f9b739348844a295d5fda290f7adb7",
        "IPY_MODEL_77c646c69ab9464e8ce492b9562eda4c",
        "IPY_MODEL_412972f2714e4f5488114ae72152d290"
       ],
       "layout": "IPY_MODEL_b2140fc4c67a4caf9c5f4575a265d27e"
      }
     },
     "1f0982d8538e4453ad538b11d0714cff": {
      "model_module": "@jupyter-widgets/controls",
      "model_module_version": "1.5.0",
      "model_name": "HTMLModel",
      "state": {
       "_dom_classes": [],
       "_model_module": "@jupyter-widgets/controls",
       "_model_module_version": "1.5.0",
       "_model_name": "HTMLModel",
       "_view_count": null,
       "_view_module": "@jupyter-widgets/controls",
       "_view_module_version": "1.5.0",
       "_view_name": "HTMLView",
       "description": "",
       "description_tooltip": null,
       "layout": "IPY_MODEL_5481a7e1f6204badaed56a14a78ca051",
       "placeholder": "​",
       "style": "IPY_MODEL_806d87b7345c41448a8df01658d43445",
       "value": "Downloading readme: 100%"
      }
     },
     "253a6a5866994584a1c431436b92b3bc": {
      "model_module": "@jupyter-widgets/controls",
      "model_module_version": "1.5.0",
      "model_name": "ProgressStyleModel",
      "state": {
       "_model_module": "@jupyter-widgets/controls",
       "_model_module_version": "1.5.0",
       "_model_name": "ProgressStyleModel",
       "_view_count": null,
       "_view_module": "@jupyter-widgets/base",
       "_view_module_version": "1.2.0",
       "_view_name": "StyleView",
       "bar_color": null,
       "description_width": ""
      }
     },
     "2a50ac68bd10413dac5e1ad417e4b401": {
      "model_module": "@jupyter-widgets/controls",
      "model_module_version": "1.5.0",
      "model_name": "HBoxModel",
      "state": {
       "_dom_classes": [],
       "_model_module": "@jupyter-widgets/controls",
       "_model_module_version": "1.5.0",
       "_model_name": "HBoxModel",
       "_view_count": null,
       "_view_module": "@jupyter-widgets/controls",
       "_view_module_version": "1.5.0",
       "_view_name": "HBoxView",
       "box_style": "",
       "children": [
        "IPY_MODEL_f63f922b4f154c578fc9f0dae4adf0e4",
        "IPY_MODEL_974be8a69b89463ab59366b31a53d7b9",
        "IPY_MODEL_81d5301371e44b3f954f65d33aa286ea"
       ],
       "layout": "IPY_MODEL_fe9b8c6d382c4fc39cdd8d6e4e6dff41"
      }
     },
     "2a5bad678dc74553b9e838274cb036bd": {
      "model_module": "@jupyter-widgets/controls",
      "model_module_version": "1.5.0",
      "model_name": "HTMLModel",
      "state": {
       "_dom_classes": [],
       "_model_module": "@jupyter-widgets/controls",
       "_model_module_version": "1.5.0",
       "_model_name": "HTMLModel",
       "_view_count": null,
       "_view_module": "@jupyter-widgets/controls",
       "_view_module_version": "1.5.0",
       "_view_name": "HTMLView",
       "description": "",
       "description_tooltip": null,
       "layout": "IPY_MODEL_04904f1af6a043c8afdd7904597d56a2",
       "placeholder": "​",
       "style": "IPY_MODEL_b65851df015d4f8598ee03478b404ba9",
       "value": "Generating train split: "
      }
     },
     "39947b24ba9e4193ae57f28ab699096b": {
      "model_module": "@jupyter-widgets/controls",
      "model_module_version": "1.5.0",
      "model_name": "ProgressStyleModel",
      "state": {
       "_model_module": "@jupyter-widgets/controls",
       "_model_module_version": "1.5.0",
       "_model_name": "ProgressStyleModel",
       "_view_count": null,
       "_view_module": "@jupyter-widgets/base",
       "_view_module_version": "1.2.0",
       "_view_name": "StyleView",
       "bar_color": null,
       "description_width": ""
      }
     },
     "3bc1c365073c45daacc3c6f16eec97be": {
      "model_module": "@jupyter-widgets/base",
      "model_module_version": "1.2.0",
      "model_name": "LayoutModel",
      "state": {
       "_model_module": "@jupyter-widgets/base",
       "_model_module_version": "1.2.0",
       "_model_name": "LayoutModel",
       "_view_count": null,
       "_view_module": "@jupyter-widgets/base",
       "_view_module_version": "1.2.0",
       "_view_name": "LayoutView",
       "align_content": null,
       "align_items": null,
       "align_self": null,
       "border": null,
       "bottom": null,
       "display": null,
       "flex": null,
       "flex_flow": null,
       "grid_area": null,
       "grid_auto_columns": null,
       "grid_auto_flow": null,
       "grid_auto_rows": null,
       "grid_column": null,
       "grid_gap": null,
       "grid_row": null,
       "grid_template_areas": null,
       "grid_template_columns": null,
       "grid_template_rows": null,
       "height": null,
       "justify_content": null,
       "justify_items": null,
       "left": null,
       "margin": null,
       "max_height": null,
       "max_width": null,
       "min_height": null,
       "min_width": null,
       "object_fit": null,
       "object_position": null,
       "order": null,
       "overflow": null,
       "overflow_x": null,
       "overflow_y": null,
       "padding": null,
       "right": null,
       "top": null,
       "visibility": null,
       "width": null
      }
     },
     "3eaebe7610c54adba8d42672d7a2f2fa": {
      "model_module": "@jupyter-widgets/controls",
      "model_module_version": "1.5.0",
      "model_name": "DescriptionStyleModel",
      "state": {
       "_model_module": "@jupyter-widgets/controls",
       "_model_module_version": "1.5.0",
       "_model_name": "DescriptionStyleModel",
       "_view_count": null,
       "_view_module": "@jupyter-widgets/base",
       "_view_module_version": "1.2.0",
       "_view_name": "StyleView",
       "description_width": ""
      }
     },
     "412972f2714e4f5488114ae72152d290": {
      "model_module": "@jupyter-widgets/controls",
      "model_module_version": "1.5.0",
      "model_name": "HTMLModel",
      "state": {
       "_dom_classes": [],
       "_model_module": "@jupyter-widgets/controls",
       "_model_module_version": "1.5.0",
       "_model_name": "HTMLModel",
       "_view_count": null,
       "_view_module": "@jupyter-widgets/controls",
       "_view_module_version": "1.5.0",
       "_view_name": "HTMLView",
       "description": "",
       "description_tooltip": null,
       "layout": "IPY_MODEL_f6309e0c59264da78e25138f079e34b7",
       "placeholder": "​",
       "style": "IPY_MODEL_e9f55ef21a8947408e8bc2063c1e1b26",
       "value": " 436M/436M [00:11&lt;00:00, 39.9MB/s]"
      }
     },
     "44838780fa7b48e18a4675912133a27f": {
      "model_module": "@jupyter-widgets/controls",
      "model_module_version": "1.5.0",
      "model_name": "HTMLModel",
      "state": {
       "_dom_classes": [],
       "_model_module": "@jupyter-widgets/controls",
       "_model_module_version": "1.5.0",
       "_model_name": "HTMLModel",
       "_view_count": null,
       "_view_module": "@jupyter-widgets/controls",
       "_view_module_version": "1.5.0",
       "_view_name": "HTMLView",
       "description": "",
       "description_tooltip": null,
       "layout": "IPY_MODEL_fed77baafa5e4d568f97782fb7da311b",
       "placeholder": "​",
       "style": "IPY_MODEL_7bc5a24c62324aa78ec7bdb49f61b2ca",
       "value": "config.json: 100%"
      }
     },
     "4dd7a0c9a5f5473cb4889e4e30d9af3a": {
      "model_module": "@jupyter-widgets/controls",
      "model_module_version": "1.5.0",
      "model_name": "HTMLModel",
      "state": {
       "_dom_classes": [],
       "_model_module": "@jupyter-widgets/controls",
       "_model_module_version": "1.5.0",
       "_model_name": "HTMLModel",
       "_view_count": null,
       "_view_module": "@jupyter-widgets/controls",
       "_view_module_version": "1.5.0",
       "_view_name": "HTMLView",
       "description": "",
       "description_tooltip": null,
       "layout": "IPY_MODEL_0c6257cbe0ab46efaa41e809bb5c47c1",
       "placeholder": "​",
       "style": "IPY_MODEL_5c8bdd44bbd24f9bbbf39c89d0972c36",
       "value": " 11550/0 [00:00&lt;00:00, 54948.82 examples/s]"
      }
     },
     "50a9209f929f4ade98d51c2713cfff00": {
      "model_module": "@jupyter-widgets/base",
      "model_module_version": "1.2.0",
      "model_name": "LayoutModel",
      "state": {
       "_model_module": "@jupyter-widgets/base",
       "_model_module_version": "1.2.0",
       "_model_name": "LayoutModel",
       "_view_count": null,
       "_view_module": "@jupyter-widgets/base",
       "_view_module_version": "1.2.0",
       "_view_name": "LayoutView",
       "align_content": null,
       "align_items": null,
       "align_self": null,
       "border": null,
       "bottom": null,
       "display": null,
       "flex": null,
       "flex_flow": null,
       "grid_area": null,
       "grid_auto_columns": null,
       "grid_auto_flow": null,
       "grid_auto_rows": null,
       "grid_column": null,
       "grid_gap": null,
       "grid_row": null,
       "grid_template_areas": null,
       "grid_template_columns": null,
       "grid_template_rows": null,
       "height": null,
       "justify_content": null,
       "justify_items": null,
       "left": null,
       "margin": null,
       "max_height": null,
       "max_width": null,
       "min_height": null,
       "min_width": null,
       "object_fit": null,
       "object_position": null,
       "order": null,
       "overflow": null,
       "overflow_x": null,
       "overflow_y": null,
       "padding": null,
       "right": null,
       "top": null,
       "visibility": null,
       "width": null
      }
     },
     "510feff645004f1a879e010d6fd8935f": {
      "model_module": "@jupyter-widgets/controls",
      "model_module_version": "1.5.0",
      "model_name": "HTMLModel",
      "state": {
       "_dom_classes": [],
       "_model_module": "@jupyter-widgets/controls",
       "_model_module_version": "1.5.0",
       "_model_name": "HTMLModel",
       "_view_count": null,
       "_view_module": "@jupyter-widgets/controls",
       "_view_module_version": "1.5.0",
       "_view_name": "HTMLView",
       "description": "",
       "description_tooltip": null,
       "layout": "IPY_MODEL_cfe6bb9cf89c4793860a83a1874b1f10",
       "placeholder": "​",
       "style": "IPY_MODEL_cf23f40bfd0246a9b9732ab2dc66e5d5",
       "value": " 2888/0 [00:00&lt;00:00, 53660.22 examples/s]"
      }
     },
     "512034bb47de4419ab8267c7406b16de": {
      "model_module": "@jupyter-widgets/base",
      "model_module_version": "1.2.0",
      "model_name": "LayoutModel",
      "state": {
       "_model_module": "@jupyter-widgets/base",
       "_model_module_version": "1.2.0",
       "_model_name": "LayoutModel",
       "_view_count": null,
       "_view_module": "@jupyter-widgets/base",
       "_view_module_version": "1.2.0",
       "_view_name": "LayoutView",
       "align_content": null,
       "align_items": null,
       "align_self": null,
       "border": null,
       "bottom": null,
       "display": null,
       "flex": null,
       "flex_flow": null,
       "grid_area": null,
       "grid_auto_columns": null,
       "grid_auto_flow": null,
       "grid_auto_rows": null,
       "grid_column": null,
       "grid_gap": null,
       "grid_row": null,
       "grid_template_areas": null,
       "grid_template_columns": null,
       "grid_template_rows": null,
       "height": null,
       "justify_content": null,
       "justify_items": null,
       "left": null,
       "margin": null,
       "max_height": null,
       "max_width": null,
       "min_height": null,
       "min_width": null,
       "object_fit": null,
       "object_position": null,
       "order": null,
       "overflow": null,
       "overflow_x": null,
       "overflow_y": null,
       "padding": null,
       "right": null,
       "top": null,
       "visibility": null,
       "width": null
      }
     },
     "5481a7e1f6204badaed56a14a78ca051": {
      "model_module": "@jupyter-widgets/base",
      "model_module_version": "1.2.0",
      "model_name": "LayoutModel",
      "state": {
       "_model_module": "@jupyter-widgets/base",
       "_model_module_version": "1.2.0",
       "_model_name": "LayoutModel",
       "_view_count": null,
       "_view_module": "@jupyter-widgets/base",
       "_view_module_version": "1.2.0",
       "_view_name": "LayoutView",
       "align_content": null,
       "align_items": null,
       "align_self": null,
       "border": null,
       "bottom": null,
       "display": null,
       "flex": null,
       "flex_flow": null,
       "grid_area": null,
       "grid_auto_columns": null,
       "grid_auto_flow": null,
       "grid_auto_rows": null,
       "grid_column": null,
       "grid_gap": null,
       "grid_row": null,
       "grid_template_areas": null,
       "grid_template_columns": null,
       "grid_template_rows": null,
       "height": null,
       "justify_content": null,
       "justify_items": null,
       "left": null,
       "margin": null,
       "max_height": null,
       "max_width": null,
       "min_height": null,
       "min_width": null,
       "object_fit": null,
       "object_position": null,
       "order": null,
       "overflow": null,
       "overflow_x": null,
       "overflow_y": null,
       "padding": null,
       "right": null,
       "top": null,
       "visibility": null,
       "width": null
      }
     },
     "57b3187fa68e4a61affe0a11b0688684": {
      "model_module": "@jupyter-widgets/controls",
      "model_module_version": "1.5.0",
      "model_name": "ProgressStyleModel",
      "state": {
       "_model_module": "@jupyter-widgets/controls",
       "_model_module_version": "1.5.0",
       "_model_name": "ProgressStyleModel",
       "_view_count": null,
       "_view_module": "@jupyter-widgets/base",
       "_view_module_version": "1.2.0",
       "_view_name": "StyleView",
       "bar_color": null,
       "description_width": ""
      }
     },
     "5a037cf983c7455dbc84273eec9e1d12": {
      "model_module": "@jupyter-widgets/base",
      "model_module_version": "1.2.0",
      "model_name": "LayoutModel",
      "state": {
       "_model_module": "@jupyter-widgets/base",
       "_model_module_version": "1.2.0",
       "_model_name": "LayoutModel",
       "_view_count": null,
       "_view_module": "@jupyter-widgets/base",
       "_view_module_version": "1.2.0",
       "_view_name": "LayoutView",
       "align_content": null,
       "align_items": null,
       "align_self": null,
       "border": null,
       "bottom": null,
       "display": null,
       "flex": null,
       "flex_flow": null,
       "grid_area": null,
       "grid_auto_columns": null,
       "grid_auto_flow": null,
       "grid_auto_rows": null,
       "grid_column": null,
       "grid_gap": null,
       "grid_row": null,
       "grid_template_areas": null,
       "grid_template_columns": null,
       "grid_template_rows": null,
       "height": null,
       "justify_content": null,
       "justify_items": null,
       "left": null,
       "margin": null,
       "max_height": null,
       "max_width": null,
       "min_height": null,
       "min_width": null,
       "object_fit": null,
       "object_position": null,
       "order": null,
       "overflow": null,
       "overflow_x": null,
       "overflow_y": null,
       "padding": null,
       "right": null,
       "top": null,
       "visibility": null,
       "width": "20px"
      }
     },
     "5a8f650b7c044b73878425eddb4d33d5": {
      "model_module": "@jupyter-widgets/controls",
      "model_module_version": "1.5.0",
      "model_name": "DescriptionStyleModel",
      "state": {
       "_model_module": "@jupyter-widgets/controls",
       "_model_module_version": "1.5.0",
       "_model_name": "DescriptionStyleModel",
       "_view_count": null,
       "_view_module": "@jupyter-widgets/base",
       "_view_module_version": "1.2.0",
       "_view_name": "StyleView",
       "description_width": ""
      }
     },
     "5c412ad8c507496ab286b2629622b2a9": {
      "model_module": "@jupyter-widgets/base",
      "model_module_version": "1.2.0",
      "model_name": "LayoutModel",
      "state": {
       "_model_module": "@jupyter-widgets/base",
       "_model_module_version": "1.2.0",
       "_model_name": "LayoutModel",
       "_view_count": null,
       "_view_module": "@jupyter-widgets/base",
       "_view_module_version": "1.2.0",
       "_view_name": "LayoutView",
       "align_content": null,
       "align_items": null,
       "align_self": null,
       "border": null,
       "bottom": null,
       "display": null,
       "flex": null,
       "flex_flow": null,
       "grid_area": null,
       "grid_auto_columns": null,
       "grid_auto_flow": null,
       "grid_auto_rows": null,
       "grid_column": null,
       "grid_gap": null,
       "grid_row": null,
       "grid_template_areas": null,
       "grid_template_columns": null,
       "grid_template_rows": null,
       "height": null,
       "justify_content": null,
       "justify_items": null,
       "left": null,
       "margin": null,
       "max_height": null,
       "max_width": null,
       "min_height": null,
       "min_width": null,
       "object_fit": null,
       "object_position": null,
       "order": null,
       "overflow": null,
       "overflow_x": null,
       "overflow_y": null,
       "padding": null,
       "right": null,
       "top": null,
       "visibility": null,
       "width": null
      }
     },
     "5c8bdd44bbd24f9bbbf39c89d0972c36": {
      "model_module": "@jupyter-widgets/controls",
      "model_module_version": "1.5.0",
      "model_name": "DescriptionStyleModel",
      "state": {
       "_model_module": "@jupyter-widgets/controls",
       "_model_module_version": "1.5.0",
       "_model_name": "DescriptionStyleModel",
       "_view_count": null,
       "_view_module": "@jupyter-widgets/base",
       "_view_module_version": "1.2.0",
       "_view_name": "StyleView",
       "description_width": ""
      }
     },
     "62a6d3b5b0014dec84ecc36e7cc3d5fa": {
      "model_module": "@jupyter-widgets/controls",
      "model_module_version": "1.5.0",
      "model_name": "HBoxModel",
      "state": {
       "_dom_classes": [],
       "_model_module": "@jupyter-widgets/controls",
       "_model_module_version": "1.5.0",
       "_model_name": "HBoxModel",
       "_view_count": null,
       "_view_module": "@jupyter-widgets/controls",
       "_view_module_version": "1.5.0",
       "_view_name": "HBoxView",
       "box_style": "",
       "children": [
        "IPY_MODEL_0b3e61c5e9ec4ae886c1a31bc37f190f",
        "IPY_MODEL_fa0676e453d44b228861fb692efb2c0b",
        "IPY_MODEL_c7f95df35e424a93b38e045ac2ff0eea"
       ],
       "layout": "IPY_MODEL_6cba31ba714f4423bd0628acf14c9119"
      }
     },
     "64d7e2cbe1b148cd92fb0e0b664b70e8": {
      "model_module": "@jupyter-widgets/controls",
      "model_module_version": "1.5.0",
      "model_name": "DescriptionStyleModel",
      "state": {
       "_model_module": "@jupyter-widgets/controls",
       "_model_module_version": "1.5.0",
       "_model_name": "DescriptionStyleModel",
       "_view_count": null,
       "_view_module": "@jupyter-widgets/base",
       "_view_module_version": "1.2.0",
       "_view_name": "StyleView",
       "description_width": ""
      }
     },
     "66a46760c9bc47c48cd22db0bc1fd207": {
      "model_module": "@jupyter-widgets/base",
      "model_module_version": "1.2.0",
      "model_name": "LayoutModel",
      "state": {
       "_model_module": "@jupyter-widgets/base",
       "_model_module_version": "1.2.0",
       "_model_name": "LayoutModel",
       "_view_count": null,
       "_view_module": "@jupyter-widgets/base",
       "_view_module_version": "1.2.0",
       "_view_name": "LayoutView",
       "align_content": null,
       "align_items": null,
       "align_self": null,
       "border": null,
       "bottom": null,
       "display": null,
       "flex": null,
       "flex_flow": null,
       "grid_area": null,
       "grid_auto_columns": null,
       "grid_auto_flow": null,
       "grid_auto_rows": null,
       "grid_column": null,
       "grid_gap": null,
       "grid_row": null,
       "grid_template_areas": null,
       "grid_template_columns": null,
       "grid_template_rows": null,
       "height": null,
       "justify_content": null,
       "justify_items": null,
       "left": null,
       "margin": null,
       "max_height": null,
       "max_width": null,
       "min_height": null,
       "min_width": null,
       "object_fit": null,
       "object_position": null,
       "order": null,
       "overflow": null,
       "overflow_x": null,
       "overflow_y": null,
       "padding": null,
       "right": null,
       "top": null,
       "visibility": null,
       "width": null
      }
     },
     "6cba31ba714f4423bd0628acf14c9119": {
      "model_module": "@jupyter-widgets/base",
      "model_module_version": "1.2.0",
      "model_name": "LayoutModel",
      "state": {
       "_model_module": "@jupyter-widgets/base",
       "_model_module_version": "1.2.0",
       "_model_name": "LayoutModel",
       "_view_count": null,
       "_view_module": "@jupyter-widgets/base",
       "_view_module_version": "1.2.0",
       "_view_name": "LayoutView",
       "align_content": null,
       "align_items": null,
       "align_self": null,
       "border": null,
       "bottom": null,
       "display": null,
       "flex": null,
       "flex_flow": null,
       "grid_area": null,
       "grid_auto_columns": null,
       "grid_auto_flow": null,
       "grid_auto_rows": null,
       "grid_column": null,
       "grid_gap": null,
       "grid_row": null,
       "grid_template_areas": null,
       "grid_template_columns": null,
       "grid_template_rows": null,
       "height": null,
       "justify_content": null,
       "justify_items": null,
       "left": null,
       "margin": null,
       "max_height": null,
       "max_width": null,
       "min_height": null,
       "min_width": null,
       "object_fit": null,
       "object_position": null,
       "order": null,
       "overflow": null,
       "overflow_x": null,
       "overflow_y": null,
       "padding": null,
       "right": null,
       "top": null,
       "visibility": null,
       "width": null
      }
     },
     "71d0620a1bbc44e4be4a1e05bed2f085": {
      "model_module": "@jupyter-widgets/controls",
      "model_module_version": "1.5.0",
      "model_name": "DescriptionStyleModel",
      "state": {
       "_model_module": "@jupyter-widgets/controls",
       "_model_module_version": "1.5.0",
       "_model_name": "DescriptionStyleModel",
       "_view_count": null,
       "_view_module": "@jupyter-widgets/base",
       "_view_module_version": "1.2.0",
       "_view_name": "StyleView",
       "description_width": ""
      }
     },
     "72de78d082624628a05797ded2396fbb": {
      "model_module": "@jupyter-widgets/controls",
      "model_module_version": "1.5.0",
      "model_name": "HTMLModel",
      "state": {
       "_dom_classes": [],
       "_model_module": "@jupyter-widgets/controls",
       "_model_module_version": "1.5.0",
       "_model_name": "HTMLModel",
       "_view_count": null,
       "_view_module": "@jupyter-widgets/controls",
       "_view_module_version": "1.5.0",
       "_view_name": "HTMLView",
       "description": "",
       "description_tooltip": null,
       "layout": "IPY_MODEL_97cf1dd78a524432ad4ee7745f4f6c12",
       "placeholder": "​",
       "style": "IPY_MODEL_3eaebe7610c54adba8d42672d7a2f2fa",
       "value": " 112/112 [00:00&lt;00:00, 9.36kB/s]"
      }
     },
     "75c6f55added48298a8d8b31b2afe21e": {
      "model_module": "@jupyter-widgets/controls",
      "model_module_version": "1.5.0",
      "model_name": "FloatProgressModel",
      "state": {
       "_dom_classes": [],
       "_model_module": "@jupyter-widgets/controls",
       "_model_module_version": "1.5.0",
       "_model_name": "FloatProgressModel",
       "_view_count": null,
       "_view_module": "@jupyter-widgets/controls",
       "_view_module_version": "1.5.0",
       "_view_name": "ProgressView",
       "bar_style": "success",
       "description": "",
       "description_tooltip": null,
       "layout": "IPY_MODEL_906592d7d2294a20ac5a327c8b3c98be",
       "max": 1110.0,
       "min": 0.0,
       "orientation": "horizontal",
       "style": "IPY_MODEL_d7996bdb1a7e4202bcc147823bb7025a",
       "value": 1110.0
      }
     },
     "77c646c69ab9464e8ce492b9562eda4c": {
      "model_module": "@jupyter-widgets/controls",
      "model_module_version": "1.5.0",
      "model_name": "FloatProgressModel",
      "state": {
       "_dom_classes": [],
       "_model_module": "@jupyter-widgets/controls",
       "_model_module_version": "1.5.0",
       "_model_name": "FloatProgressModel",
       "_view_count": null,
       "_view_module": "@jupyter-widgets/controls",
       "_view_module_version": "1.5.0",
       "_view_name": "ProgressView",
       "bar_style": "success",
       "description": "",
       "description_tooltip": null,
       "layout": "IPY_MODEL_d50fd72643654e538685ed06d9ea3c47",
       "max": 435783451.0,
       "min": 0.0,
       "orientation": "horizontal",
       "style": "IPY_MODEL_57b3187fa68e4a61affe0a11b0688684",
       "value": 435783451.0
      }
     },
     "79d93dc5c91748219c8e0dca5154f7cb": {
      "model_module": "@jupyter-widgets/base",
      "model_module_version": "1.2.0",
      "model_name": "LayoutModel",
      "state": {
       "_model_module": "@jupyter-widgets/base",
       "_model_module_version": "1.2.0",
       "_model_name": "LayoutModel",
       "_view_count": null,
       "_view_module": "@jupyter-widgets/base",
       "_view_module_version": "1.2.0",
       "_view_name": "LayoutView",
       "align_content": null,
       "align_items": null,
       "align_self": null,
       "border": null,
       "bottom": null,
       "display": null,
       "flex": null,
       "flex_flow": null,
       "grid_area": null,
       "grid_auto_columns": null,
       "grid_auto_flow": null,
       "grid_auto_rows": null,
       "grid_column": null,
       "grid_gap": null,
       "grid_row": null,
       "grid_template_areas": null,
       "grid_template_columns": null,
       "grid_template_rows": null,
       "height": null,
       "justify_content": null,
       "justify_items": null,
       "left": null,
       "margin": null,
       "max_height": null,
       "max_width": null,
       "min_height": null,
       "min_width": null,
       "object_fit": null,
       "object_position": null,
       "order": null,
       "overflow": null,
       "overflow_x": null,
       "overflow_y": null,
       "padding": null,
       "right": null,
       "top": null,
       "visibility": null,
       "width": null
      }
     },
     "7bc5a24c62324aa78ec7bdb49f61b2ca": {
      "model_module": "@jupyter-widgets/controls",
      "model_module_version": "1.5.0",
      "model_name": "DescriptionStyleModel",
      "state": {
       "_model_module": "@jupyter-widgets/controls",
       "_model_module_version": "1.5.0",
       "_model_name": "DescriptionStyleModel",
       "_view_count": null,
       "_view_module": "@jupyter-widgets/base",
       "_view_module_version": "1.2.0",
       "_view_name": "StyleView",
       "description_width": ""
      }
     },
     "806d87b7345c41448a8df01658d43445": {
      "model_module": "@jupyter-widgets/controls",
      "model_module_version": "1.5.0",
      "model_name": "DescriptionStyleModel",
      "state": {
       "_model_module": "@jupyter-widgets/controls",
       "_model_module_version": "1.5.0",
       "_model_name": "DescriptionStyleModel",
       "_view_count": null,
       "_view_module": "@jupyter-widgets/base",
       "_view_module_version": "1.2.0",
       "_view_name": "StyleView",
       "description_width": ""
      }
     },
     "81a92c7f1f0f447e8d991677b4df7689": {
      "model_module": "@jupyter-widgets/controls",
      "model_module_version": "1.5.0",
      "model_name": "HBoxModel",
      "state": {
       "_dom_classes": [],
       "_model_module": "@jupyter-widgets/controls",
       "_model_module_version": "1.5.0",
       "_model_name": "HBoxModel",
       "_view_count": null,
       "_view_module": "@jupyter-widgets/controls",
       "_view_module_version": "1.5.0",
       "_view_name": "HBoxView",
       "box_style": "",
       "children": [
        "IPY_MODEL_1f0982d8538e4453ad538b11d0714cff",
        "IPY_MODEL_d3b5e521ac9b44c590dcdfb3067ec483",
        "IPY_MODEL_72de78d082624628a05797ded2396fbb"
       ],
       "layout": "IPY_MODEL_ddaf4c1a985a4e73b15b59b4d210e241"
      }
     },
     "81d5301371e44b3f954f65d33aa286ea": {
      "model_module": "@jupyter-widgets/controls",
      "model_module_version": "1.5.0",
      "model_name": "HTMLModel",
      "state": {
       "_dom_classes": [],
       "_model_module": "@jupyter-widgets/controls",
       "_model_module_version": "1.5.0",
       "_model_name": "HTMLModel",
       "_view_count": null,
       "_view_module": "@jupyter-widgets/controls",
       "_view_module_version": "1.5.0",
       "_view_name": "HTMLView",
       "description": "",
       "description_tooltip": null,
       "layout": "IPY_MODEL_79d93dc5c91748219c8e0dca5154f7cb",
       "placeholder": "​",
       "style": "IPY_MODEL_a632eb2884f749d5a74db72c2bb92e3f",
       "value": " 213k/213k [00:00&lt;00:00, 16.8MB/s]"
      }
     },
     "8e116bd6358d4be3b221672e9f24ea9f": {
      "model_module": "@jupyter-widgets/controls",
      "model_module_version": "1.5.0",
      "model_name": "ProgressStyleModel",
      "state": {
       "_model_module": "@jupyter-widgets/controls",
       "_model_module_version": "1.5.0",
       "_model_name": "ProgressStyleModel",
       "_view_count": null,
       "_view_module": "@jupyter-widgets/base",
       "_view_module_version": "1.2.0",
       "_view_name": "StyleView",
       "bar_color": null,
       "description_width": ""
      }
     },
     "906592d7d2294a20ac5a327c8b3c98be": {
      "model_module": "@jupyter-widgets/base",
      "model_module_version": "1.2.0",
      "model_name": "LayoutModel",
      "state": {
       "_model_module": "@jupyter-widgets/base",
       "_model_module_version": "1.2.0",
       "_model_name": "LayoutModel",
       "_view_count": null,
       "_view_module": "@jupyter-widgets/base",
       "_view_module_version": "1.2.0",
       "_view_name": "LayoutView",
       "align_content": null,
       "align_items": null,
       "align_self": null,
       "border": null,
       "bottom": null,
       "display": null,
       "flex": null,
       "flex_flow": null,
       "grid_area": null,
       "grid_auto_columns": null,
       "grid_auto_flow": null,
       "grid_auto_rows": null,
       "grid_column": null,
       "grid_gap": null,
       "grid_row": null,
       "grid_template_areas": null,
       "grid_template_columns": null,
       "grid_template_rows": null,
       "height": null,
       "justify_content": null,
       "justify_items": null,
       "left": null,
       "margin": null,
       "max_height": null,
       "max_width": null,
       "min_height": null,
       "min_width": null,
       "object_fit": null,
       "object_position": null,
       "order": null,
       "overflow": null,
       "overflow_x": null,
       "overflow_y": null,
       "padding": null,
       "right": null,
       "top": null,
       "visibility": null,
       "width": null
      }
     },
     "9112c38185774535bd2fc16102e2517f": {
      "model_module": "@jupyter-widgets/controls",
      "model_module_version": "1.5.0",
      "model_name": "DescriptionStyleModel",
      "state": {
       "_model_module": "@jupyter-widgets/controls",
       "_model_module_version": "1.5.0",
       "_model_name": "DescriptionStyleModel",
       "_view_count": null,
       "_view_module": "@jupyter-widgets/base",
       "_view_module_version": "1.2.0",
       "_view_name": "StyleView",
       "description_width": ""
      }
     },
     "974be8a69b89463ab59366b31a53d7b9": {
      "model_module": "@jupyter-widgets/controls",
      "model_module_version": "1.5.0",
      "model_name": "FloatProgressModel",
      "state": {
       "_dom_classes": [],
       "_model_module": "@jupyter-widgets/controls",
       "_model_module_version": "1.5.0",
       "_model_name": "FloatProgressModel",
       "_view_count": null,
       "_view_module": "@jupyter-widgets/controls",
       "_view_module_version": "1.5.0",
       "_view_name": "ProgressView",
       "bar_style": "success",
       "description": "",
       "description_tooltip": null,
       "layout": "IPY_MODEL_a732ae17dab04f01ac18806f26a3c04c",
       "max": 213450.0,
       "min": 0.0,
       "orientation": "horizontal",
       "style": "IPY_MODEL_253a6a5866994584a1c431436b92b3bc",
       "value": 213450.0
      }
     },
     "97b985cdd6f44b3a8e383985ce3fba44": {
      "model_module": "@jupyter-widgets/base",
      "model_module_version": "1.2.0",
      "model_name": "LayoutModel",
      "state": {
       "_model_module": "@jupyter-widgets/base",
       "_model_module_version": "1.2.0",
       "_model_name": "LayoutModel",
       "_view_count": null,
       "_view_module": "@jupyter-widgets/base",
       "_view_module_version": "1.2.0",
       "_view_name": "LayoutView",
       "align_content": null,
       "align_items": null,
       "align_self": null,
       "border": null,
       "bottom": null,
       "display": null,
       "flex": null,
       "flex_flow": null,
       "grid_area": null,
       "grid_auto_columns": null,
       "grid_auto_flow": null,
       "grid_auto_rows": null,
       "grid_column": null,
       "grid_gap": null,
       "grid_row": null,
       "grid_template_areas": null,
       "grid_template_columns": null,
       "grid_template_rows": null,
       "height": null,
       "justify_content": null,
       "justify_items": null,
       "left": null,
       "margin": null,
       "max_height": null,
       "max_width": null,
       "min_height": null,
       "min_width": null,
       "object_fit": null,
       "object_position": null,
       "order": null,
       "overflow": null,
       "overflow_x": null,
       "overflow_y": null,
       "padding": null,
       "right": null,
       "top": null,
       "visibility": null,
       "width": null
      }
     },
     "97cf1dd78a524432ad4ee7745f4f6c12": {
      "model_module": "@jupyter-widgets/base",
      "model_module_version": "1.2.0",
      "model_name": "LayoutModel",
      "state": {
       "_model_module": "@jupyter-widgets/base",
       "_model_module_version": "1.2.0",
       "_model_name": "LayoutModel",
       "_view_count": null,
       "_view_module": "@jupyter-widgets/base",
       "_view_module_version": "1.2.0",
       "_view_name": "LayoutView",
       "align_content": null,
       "align_items": null,
       "align_self": null,
       "border": null,
       "bottom": null,
       "display": null,
       "flex": null,
       "flex_flow": null,
       "grid_area": null,
       "grid_auto_columns": null,
       "grid_auto_flow": null,
       "grid_auto_rows": null,
       "grid_column": null,
       "grid_gap": null,
       "grid_row": null,
       "grid_template_areas": null,
       "grid_template_columns": null,
       "grid_template_rows": null,
       "height": null,
       "justify_content": null,
       "justify_items": null,
       "left": null,
       "margin": null,
       "max_height": null,
       "max_width": null,
       "min_height": null,
       "min_width": null,
       "object_fit": null,
       "object_position": null,
       "order": null,
       "overflow": null,
       "overflow_x": null,
       "overflow_y": null,
       "padding": null,
       "right": null,
       "top": null,
       "visibility": null,
       "width": null
      }
     },
     "a2f9b739348844a295d5fda290f7adb7": {
      "model_module": "@jupyter-widgets/controls",
      "model_module_version": "1.5.0",
      "model_name": "HTMLModel",
      "state": {
       "_dom_classes": [],
       "_model_module": "@jupyter-widgets/controls",
       "_model_module_version": "1.5.0",
       "_model_name": "HTMLModel",
       "_view_count": null,
       "_view_module": "@jupyter-widgets/controls",
       "_view_module_version": "1.5.0",
       "_view_name": "HTMLView",
       "description": "",
       "description_tooltip": null,
       "layout": "IPY_MODEL_97b985cdd6f44b3a8e383985ce3fba44",
       "placeholder": "​",
       "style": "IPY_MODEL_111fdae4bb7f4cc985b7a8a32edb8e8c",
       "value": "pytorch_model.bin: 100%"
      }
     },
     "a305fedcc1fd4191ba36a5709aee04f4": {
      "model_module": "@jupyter-widgets/base",
      "model_module_version": "1.2.0",
      "model_name": "LayoutModel",
      "state": {
       "_model_module": "@jupyter-widgets/base",
       "_model_module_version": "1.2.0",
       "_model_name": "LayoutModel",
       "_view_count": null,
       "_view_module": "@jupyter-widgets/base",
       "_view_module_version": "1.2.0",
       "_view_name": "LayoutView",
       "align_content": null,
       "align_items": null,
       "align_self": null,
       "border": null,
       "bottom": null,
       "display": null,
       "flex": null,
       "flex_flow": null,
       "grid_area": null,
       "grid_auto_columns": null,
       "grid_auto_flow": null,
       "grid_auto_rows": null,
       "grid_column": null,
       "grid_gap": null,
       "grid_row": null,
       "grid_template_areas": null,
       "grid_template_columns": null,
       "grid_template_rows": null,
       "height": null,
       "justify_content": null,
       "justify_items": null,
       "left": null,
       "margin": null,
       "max_height": null,
       "max_width": null,
       "min_height": null,
       "min_width": null,
       "object_fit": null,
       "object_position": null,
       "order": null,
       "overflow": null,
       "overflow_x": null,
       "overflow_y": null,
       "padding": null,
       "right": null,
       "top": null,
       "visibility": null,
       "width": null
      }
     },
     "a632eb2884f749d5a74db72c2bb92e3f": {
      "model_module": "@jupyter-widgets/controls",
      "model_module_version": "1.5.0",
      "model_name": "DescriptionStyleModel",
      "state": {
       "_model_module": "@jupyter-widgets/controls",
       "_model_module_version": "1.5.0",
       "_model_name": "DescriptionStyleModel",
       "_view_count": null,
       "_view_module": "@jupyter-widgets/base",
       "_view_module_version": "1.2.0",
       "_view_name": "StyleView",
       "description_width": ""
      }
     },
     "a732ae17dab04f01ac18806f26a3c04c": {
      "model_module": "@jupyter-widgets/base",
      "model_module_version": "1.2.0",
      "model_name": "LayoutModel",
      "state": {
       "_model_module": "@jupyter-widgets/base",
       "_model_module_version": "1.2.0",
       "_model_name": "LayoutModel",
       "_view_count": null,
       "_view_module": "@jupyter-widgets/base",
       "_view_module_version": "1.2.0",
       "_view_name": "LayoutView",
       "align_content": null,
       "align_items": null,
       "align_self": null,
       "border": null,
       "bottom": null,
       "display": null,
       "flex": null,
       "flex_flow": null,
       "grid_area": null,
       "grid_auto_columns": null,
       "grid_auto_flow": null,
       "grid_auto_rows": null,
       "grid_column": null,
       "grid_gap": null,
       "grid_row": null,
       "grid_template_areas": null,
       "grid_template_columns": null,
       "grid_template_rows": null,
       "height": null,
       "justify_content": null,
       "justify_items": null,
       "left": null,
       "margin": null,
       "max_height": null,
       "max_width": null,
       "min_height": null,
       "min_width": null,
       "object_fit": null,
       "object_position": null,
       "order": null,
       "overflow": null,
       "overflow_x": null,
       "overflow_y": null,
       "padding": null,
       "right": null,
       "top": null,
       "visibility": null,
       "width": null
      }
     },
     "aa377aa851d44bd28f932e57cabc9ccc": {
      "model_module": "@jupyter-widgets/base",
      "model_module_version": "1.2.0",
      "model_name": "LayoutModel",
      "state": {
       "_model_module": "@jupyter-widgets/base",
       "_model_module_version": "1.2.0",
       "_model_name": "LayoutModel",
       "_view_count": null,
       "_view_module": "@jupyter-widgets/base",
       "_view_module_version": "1.2.0",
       "_view_name": "LayoutView",
       "align_content": null,
       "align_items": null,
       "align_self": null,
       "border": null,
       "bottom": null,
       "display": null,
       "flex": null,
       "flex_flow": null,
       "grid_area": null,
       "grid_auto_columns": null,
       "grid_auto_flow": null,
       "grid_auto_rows": null,
       "grid_column": null,
       "grid_gap": null,
       "grid_row": null,
       "grid_template_areas": null,
       "grid_template_columns": null,
       "grid_template_rows": null,
       "height": null,
       "justify_content": null,
       "justify_items": null,
       "left": null,
       "margin": null,
       "max_height": null,
       "max_width": null,
       "min_height": null,
       "min_width": null,
       "object_fit": null,
       "object_position": null,
       "order": null,
       "overflow": null,
       "overflow_x": null,
       "overflow_y": null,
       "padding": null,
       "right": null,
       "top": null,
       "visibility": null,
       "width": null
      }
     },
     "b12eeb2ebfa349ca8a11ce1b30929b1a": {
      "model_module": "@jupyter-widgets/controls",
      "model_module_version": "1.5.0",
      "model_name": "FloatProgressModel",
      "state": {
       "_dom_classes": [],
       "_model_module": "@jupyter-widgets/controls",
       "_model_module_version": "1.5.0",
       "_model_name": "FloatProgressModel",
       "_view_count": null,
       "_view_module": "@jupyter-widgets/controls",
       "_view_module_version": "1.5.0",
       "_view_name": "ProgressView",
       "bar_style": "success",
       "description": "",
       "description_tooltip": null,
       "layout": "IPY_MODEL_5a037cf983c7455dbc84273eec9e1d12",
       "max": 1.0,
       "min": 0.0,
       "orientation": "horizontal",
       "style": "IPY_MODEL_03adf47cdbcd487face3333535dfa2ca",
       "value": 1.0
      }
     },
     "b2140fc4c67a4caf9c5f4575a265d27e": {
      "model_module": "@jupyter-widgets/base",
      "model_module_version": "1.2.0",
      "model_name": "LayoutModel",
      "state": {
       "_model_module": "@jupyter-widgets/base",
       "_model_module_version": "1.2.0",
       "_model_name": "LayoutModel",
       "_view_count": null,
       "_view_module": "@jupyter-widgets/base",
       "_view_module_version": "1.2.0",
       "_view_name": "LayoutView",
       "align_content": null,
       "align_items": null,
       "align_self": null,
       "border": null,
       "bottom": null,
       "display": null,
       "flex": null,
       "flex_flow": null,
       "grid_area": null,
       "grid_auto_columns": null,
       "grid_auto_flow": null,
       "grid_auto_rows": null,
       "grid_column": null,
       "grid_gap": null,
       "grid_row": null,
       "grid_template_areas": null,
       "grid_template_columns": null,
       "grid_template_rows": null,
       "height": null,
       "justify_content": null,
       "justify_items": null,
       "left": null,
       "margin": null,
       "max_height": null,
       "max_width": null,
       "min_height": null,
       "min_width": null,
       "object_fit": null,
       "object_position": null,
       "order": null,
       "overflow": null,
       "overflow_x": null,
       "overflow_y": null,
       "padding": null,
       "right": null,
       "top": null,
       "visibility": null,
       "width": null
      }
     },
     "b65851df015d4f8598ee03478b404ba9": {
      "model_module": "@jupyter-widgets/controls",
      "model_module_version": "1.5.0",
      "model_name": "DescriptionStyleModel",
      "state": {
       "_model_module": "@jupyter-widgets/controls",
       "_model_module_version": "1.5.0",
       "_model_name": "DescriptionStyleModel",
       "_view_count": null,
       "_view_module": "@jupyter-widgets/base",
       "_view_module_version": "1.2.0",
       "_view_name": "StyleView",
       "description_width": ""
      }
     },
     "be9e0ed256c6423d8e7a3ab779437223": {
      "model_module": "@jupyter-widgets/controls",
      "model_module_version": "1.5.0",
      "model_name": "HBoxModel",
      "state": {
       "_dom_classes": [],
       "_model_module": "@jupyter-widgets/controls",
       "_model_module_version": "1.5.0",
       "_model_name": "HBoxModel",
       "_view_count": null,
       "_view_module": "@jupyter-widgets/controls",
       "_view_module_version": "1.5.0",
       "_view_name": "HBoxView",
       "box_style": "",
       "children": [
        "IPY_MODEL_44838780fa7b48e18a4675912133a27f",
        "IPY_MODEL_75c6f55added48298a8d8b31b2afe21e",
        "IPY_MODEL_ce28d46bea7a491685652e7714d2b25f"
       ],
       "layout": "IPY_MODEL_00e8e3c481d24c649a2f1535d26b0137"
      }
     },
     "c7f95df35e424a93b38e045ac2ff0eea": {
      "model_module": "@jupyter-widgets/controls",
      "model_module_version": "1.5.0",
      "model_name": "HTMLModel",
      "state": {
       "_dom_classes": [],
       "_model_module": "@jupyter-widgets/controls",
       "_model_module_version": "1.5.0",
       "_model_name": "HTMLModel",
       "_view_count": null,
       "_view_module": "@jupyter-widgets/controls",
       "_view_module_version": "1.5.0",
       "_view_name": "HTMLView",
       "description": "",
       "description_tooltip": null,
       "layout": "IPY_MODEL_fa17a9ccc48840858e2436e2979089dc",
       "placeholder": "​",
       "style": "IPY_MODEL_5a8f650b7c044b73878425eddb4d33d5",
       "value": " 2/2 [00:00&lt;00:00, 222.57it/s]"
      }
     },
     "c805c31bd4da477bbddb918c149f62da": {
      "model_module": "@jupyter-widgets/controls",
      "model_module_version": "1.5.0",
      "model_name": "HTMLModel",
      "state": {
       "_dom_classes": [],
       "_model_module": "@jupyter-widgets/controls",
       "_model_module_version": "1.5.0",
       "_model_name": "HTMLModel",
       "_view_count": null,
       "_view_module": "@jupyter-widgets/controls",
       "_view_module_version": "1.5.0",
       "_view_name": "HTMLView",
       "description": "",
       "description_tooltip": null,
       "layout": "IPY_MODEL_3bc1c365073c45daacc3c6f16eec97be",
       "placeholder": "​",
       "style": "IPY_MODEL_9112c38185774535bd2fc16102e2517f",
       "value": "Generating test split: "
      }
     },
     "ce28d46bea7a491685652e7714d2b25f": {
      "model_module": "@jupyter-widgets/controls",
      "model_module_version": "1.5.0",
      "model_name": "HTMLModel",
      "state": {
       "_dom_classes": [],
       "_model_module": "@jupyter-widgets/controls",
       "_model_module_version": "1.5.0",
       "_model_name": "HTMLModel",
       "_view_count": null,
       "_view_module": "@jupyter-widgets/controls",
       "_view_module_version": "1.5.0",
       "_view_name": "HTMLView",
       "description": "",
       "description_tooltip": null,
       "layout": "IPY_MODEL_50a9209f929f4ade98d51c2713cfff00",
       "placeholder": "​",
       "style": "IPY_MODEL_64d7e2cbe1b148cd92fb0e0b664b70e8",
       "value": " 1.11k/1.11k [00:00&lt;00:00, 97.8kB/s]"
      }
     },
     "cf23f40bfd0246a9b9732ab2dc66e5d5": {
      "model_module": "@jupyter-widgets/controls",
      "model_module_version": "1.5.0",
      "model_name": "DescriptionStyleModel",
      "state": {
       "_model_module": "@jupyter-widgets/controls",
       "_model_module_version": "1.5.0",
       "_model_name": "DescriptionStyleModel",
       "_view_count": null,
       "_view_module": "@jupyter-widgets/base",
       "_view_module_version": "1.2.0",
       "_view_name": "StyleView",
       "description_width": ""
      }
     },
     "cfe6bb9cf89c4793860a83a1874b1f10": {
      "model_module": "@jupyter-widgets/base",
      "model_module_version": "1.2.0",
      "model_name": "LayoutModel",
      "state": {
       "_model_module": "@jupyter-widgets/base",
       "_model_module_version": "1.2.0",
       "_model_name": "LayoutModel",
       "_view_count": null,
       "_view_module": "@jupyter-widgets/base",
       "_view_module_version": "1.2.0",
       "_view_name": "LayoutView",
       "align_content": null,
       "align_items": null,
       "align_self": null,
       "border": null,
       "bottom": null,
       "display": null,
       "flex": null,
       "flex_flow": null,
       "grid_area": null,
       "grid_auto_columns": null,
       "grid_auto_flow": null,
       "grid_auto_rows": null,
       "grid_column": null,
       "grid_gap": null,
       "grid_row": null,
       "grid_template_areas": null,
       "grid_template_columns": null,
       "grid_template_rows": null,
       "height": null,
       "justify_content": null,
       "justify_items": null,
       "left": null,
       "margin": null,
       "max_height": null,
       "max_width": null,
       "min_height": null,
       "min_width": null,
       "object_fit": null,
       "object_position": null,
       "order": null,
       "overflow": null,
       "overflow_x": null,
       "overflow_y": null,
       "padding": null,
       "right": null,
       "top": null,
       "visibility": null,
       "width": null
      }
     },
     "d23a3d2613984747a066f0cef5b0bf6f": {
      "model_module": "@jupyter-widgets/base",
      "model_module_version": "1.2.0",
      "model_name": "LayoutModel",
      "state": {
       "_model_module": "@jupyter-widgets/base",
       "_model_module_version": "1.2.0",
       "_model_name": "LayoutModel",
       "_view_count": null,
       "_view_module": "@jupyter-widgets/base",
       "_view_module_version": "1.2.0",
       "_view_name": "LayoutView",
       "align_content": null,
       "align_items": null,
       "align_self": null,
       "border": null,
       "bottom": null,
       "display": null,
       "flex": null,
       "flex_flow": null,
       "grid_area": null,
       "grid_auto_columns": null,
       "grid_auto_flow": null,
       "grid_auto_rows": null,
       "grid_column": null,
       "grid_gap": null,
       "grid_row": null,
       "grid_template_areas": null,
       "grid_template_columns": null,
       "grid_template_rows": null,
       "height": null,
       "justify_content": null,
       "justify_items": null,
       "left": null,
       "margin": null,
       "max_height": null,
       "max_width": null,
       "min_height": null,
       "min_width": null,
       "object_fit": null,
       "object_position": null,
       "order": null,
       "overflow": null,
       "overflow_x": null,
       "overflow_y": null,
       "padding": null,
       "right": null,
       "top": null,
       "visibility": null,
       "width": null
      }
     },
     "d3b5e521ac9b44c590dcdfb3067ec483": {
      "model_module": "@jupyter-widgets/controls",
      "model_module_version": "1.5.0",
      "model_name": "FloatProgressModel",
      "state": {
       "_dom_classes": [],
       "_model_module": "@jupyter-widgets/controls",
       "_model_module_version": "1.5.0",
       "_model_name": "FloatProgressModel",
       "_view_count": null,
       "_view_module": "@jupyter-widgets/controls",
       "_view_module_version": "1.5.0",
       "_view_name": "ProgressView",
       "bar_style": "success",
       "description": "",
       "description_tooltip": null,
       "layout": "IPY_MODEL_aa377aa851d44bd28f932e57cabc9ccc",
       "max": 112.0,
       "min": 0.0,
       "orientation": "horizontal",
       "style": "IPY_MODEL_8e116bd6358d4be3b221672e9f24ea9f",
       "value": 112.0
      }
     },
     "d4f23b92f856463f92c8b7e6b84182a0": {
      "model_module": "@jupyter-widgets/controls",
      "model_module_version": "1.5.0",
      "model_name": "DescriptionStyleModel",
      "state": {
       "_model_module": "@jupyter-widgets/controls",
       "_model_module_version": "1.5.0",
       "_model_name": "DescriptionStyleModel",
       "_view_count": null,
       "_view_module": "@jupyter-widgets/base",
       "_view_module_version": "1.2.0",
       "_view_name": "StyleView",
       "description_width": ""
      }
     },
     "d50fd72643654e538685ed06d9ea3c47": {
      "model_module": "@jupyter-widgets/base",
      "model_module_version": "1.2.0",
      "model_name": "LayoutModel",
      "state": {
       "_model_module": "@jupyter-widgets/base",
       "_model_module_version": "1.2.0",
       "_model_name": "LayoutModel",
       "_view_count": null,
       "_view_module": "@jupyter-widgets/base",
       "_view_module_version": "1.2.0",
       "_view_name": "LayoutView",
       "align_content": null,
       "align_items": null,
       "align_self": null,
       "border": null,
       "bottom": null,
       "display": null,
       "flex": null,
       "flex_flow": null,
       "grid_area": null,
       "grid_auto_columns": null,
       "grid_auto_flow": null,
       "grid_auto_rows": null,
       "grid_column": null,
       "grid_gap": null,
       "grid_row": null,
       "grid_template_areas": null,
       "grid_template_columns": null,
       "grid_template_rows": null,
       "height": null,
       "justify_content": null,
       "justify_items": null,
       "left": null,
       "margin": null,
       "max_height": null,
       "max_width": null,
       "min_height": null,
       "min_width": null,
       "object_fit": null,
       "object_position": null,
       "order": null,
       "overflow": null,
       "overflow_x": null,
       "overflow_y": null,
       "padding": null,
       "right": null,
       "top": null,
       "visibility": null,
       "width": null
      }
     },
     "d72d70a2a614489783c9391dcf35ac17": {
      "model_module": "@jupyter-widgets/controls",
      "model_module_version": "1.5.0",
      "model_name": "HBoxModel",
      "state": {
       "_dom_classes": [],
       "_model_module": "@jupyter-widgets/controls",
       "_model_module_version": "1.5.0",
       "_model_name": "HBoxModel",
       "_view_count": null,
       "_view_module": "@jupyter-widgets/controls",
       "_view_module_version": "1.5.0",
       "_view_name": "HBoxView",
       "box_style": "",
       "children": [
        "IPY_MODEL_2a5bad678dc74553b9e838274cb036bd",
        "IPY_MODEL_b12eeb2ebfa349ca8a11ce1b30929b1a",
        "IPY_MODEL_4dd7a0c9a5f5473cb4889e4e30d9af3a"
       ],
       "layout": "IPY_MODEL_5c412ad8c507496ab286b2629622b2a9"
      }
     },
     "d7996bdb1a7e4202bcc147823bb7025a": {
      "model_module": "@jupyter-widgets/controls",
      "model_module_version": "1.5.0",
      "model_name": "ProgressStyleModel",
      "state": {
       "_model_module": "@jupyter-widgets/controls",
       "_model_module_version": "1.5.0",
       "_model_name": "ProgressStyleModel",
       "_view_count": null,
       "_view_module": "@jupyter-widgets/base",
       "_view_module_version": "1.2.0",
       "_view_name": "StyleView",
       "bar_color": null,
       "description_width": ""
      }
     },
     "dac832441eb34b268734af2b24199eeb": {
      "model_module": "@jupyter-widgets/base",
      "model_module_version": "1.2.0",
      "model_name": "LayoutModel",
      "state": {
       "_model_module": "@jupyter-widgets/base",
       "_model_module_version": "1.2.0",
       "_model_name": "LayoutModel",
       "_view_count": null,
       "_view_module": "@jupyter-widgets/base",
       "_view_module_version": "1.2.0",
       "_view_name": "LayoutView",
       "align_content": null,
       "align_items": null,
       "align_self": null,
       "border": null,
       "bottom": null,
       "display": null,
       "flex": null,
       "flex_flow": null,
       "grid_area": null,
       "grid_auto_columns": null,
       "grid_auto_flow": null,
       "grid_auto_rows": null,
       "grid_column": null,
       "grid_gap": null,
       "grid_row": null,
       "grid_template_areas": null,
       "grid_template_columns": null,
       "grid_template_rows": null,
       "height": null,
       "justify_content": null,
       "justify_items": null,
       "left": null,
       "margin": null,
       "max_height": null,
       "max_width": null,
       "min_height": null,
       "min_width": null,
       "object_fit": null,
       "object_position": null,
       "order": null,
       "overflow": null,
       "overflow_x": null,
       "overflow_y": null,
       "padding": null,
       "right": null,
       "top": null,
       "visibility": null,
       "width": "20px"
      }
     },
     "ddaf4c1a985a4e73b15b59b4d210e241": {
      "model_module": "@jupyter-widgets/base",
      "model_module_version": "1.2.0",
      "model_name": "LayoutModel",
      "state": {
       "_model_module": "@jupyter-widgets/base",
       "_model_module_version": "1.2.0",
       "_model_name": "LayoutModel",
       "_view_count": null,
       "_view_module": "@jupyter-widgets/base",
       "_view_module_version": "1.2.0",
       "_view_name": "LayoutView",
       "align_content": null,
       "align_items": null,
       "align_self": null,
       "border": null,
       "bottom": null,
       "display": null,
       "flex": null,
       "flex_flow": null,
       "grid_area": null,
       "grid_auto_columns": null,
       "grid_auto_flow": null,
       "grid_auto_rows": null,
       "grid_column": null,
       "grid_gap": null,
       "grid_row": null,
       "grid_template_areas": null,
       "grid_template_columns": null,
       "grid_template_rows": null,
       "height": null,
       "justify_content": null,
       "justify_items": null,
       "left": null,
       "margin": null,
       "max_height": null,
       "max_width": null,
       "min_height": null,
       "min_width": null,
       "object_fit": null,
       "object_position": null,
       "order": null,
       "overflow": null,
       "overflow_x": null,
       "overflow_y": null,
       "padding": null,
       "right": null,
       "top": null,
       "visibility": null,
       "width": null
      }
     },
     "e9f55ef21a8947408e8bc2063c1e1b26": {
      "model_module": "@jupyter-widgets/controls",
      "model_module_version": "1.5.0",
      "model_name": "DescriptionStyleModel",
      "state": {
       "_model_module": "@jupyter-widgets/controls",
       "_model_module_version": "1.5.0",
       "_model_name": "DescriptionStyleModel",
       "_view_count": null,
       "_view_module": "@jupyter-widgets/base",
       "_view_module_version": "1.2.0",
       "_view_name": "StyleView",
       "description_width": ""
      }
     },
     "f6309e0c59264da78e25138f079e34b7": {
      "model_module": "@jupyter-widgets/base",
      "model_module_version": "1.2.0",
      "model_name": "LayoutModel",
      "state": {
       "_model_module": "@jupyter-widgets/base",
       "_model_module_version": "1.2.0",
       "_model_name": "LayoutModel",
       "_view_count": null,
       "_view_module": "@jupyter-widgets/base",
       "_view_module_version": "1.2.0",
       "_view_name": "LayoutView",
       "align_content": null,
       "align_items": null,
       "align_self": null,
       "border": null,
       "bottom": null,
       "display": null,
       "flex": null,
       "flex_flow": null,
       "grid_area": null,
       "grid_auto_columns": null,
       "grid_auto_flow": null,
       "grid_auto_rows": null,
       "grid_column": null,
       "grid_gap": null,
       "grid_row": null,
       "grid_template_areas": null,
       "grid_template_columns": null,
       "grid_template_rows": null,
       "height": null,
       "justify_content": null,
       "justify_items": null,
       "left": null,
       "margin": null,
       "max_height": null,
       "max_width": null,
       "min_height": null,
       "min_width": null,
       "object_fit": null,
       "object_position": null,
       "order": null,
       "overflow": null,
       "overflow_x": null,
       "overflow_y": null,
       "padding": null,
       "right": null,
       "top": null,
       "visibility": null,
       "width": null
      }
     },
     "f63f922b4f154c578fc9f0dae4adf0e4": {
      "model_module": "@jupyter-widgets/controls",
      "model_module_version": "1.5.0",
      "model_name": "HTMLModel",
      "state": {
       "_dom_classes": [],
       "_model_module": "@jupyter-widgets/controls",
       "_model_module_version": "1.5.0",
       "_model_name": "HTMLModel",
       "_view_count": null,
       "_view_module": "@jupyter-widgets/controls",
       "_view_module_version": "1.5.0",
       "_view_name": "HTMLView",
       "description": "",
       "description_tooltip": null,
       "layout": "IPY_MODEL_d23a3d2613984747a066f0cef5b0bf6f",
       "placeholder": "​",
       "style": "IPY_MODEL_d4f23b92f856463f92c8b7e6b84182a0",
       "value": "vocab.txt: 100%"
      }
     },
     "f9469461317c44b5beb8cc94823e448d": {
      "model_module": "@jupyter-widgets/controls",
      "model_module_version": "1.5.0",
      "model_name": "ProgressStyleModel",
      "state": {
       "_model_module": "@jupyter-widgets/controls",
       "_model_module_version": "1.5.0",
       "_model_name": "ProgressStyleModel",
       "_view_count": null,
       "_view_module": "@jupyter-widgets/base",
       "_view_module_version": "1.2.0",
       "_view_name": "StyleView",
       "bar_color": null,
       "description_width": ""
      }
     },
     "fa0676e453d44b228861fb692efb2c0b": {
      "model_module": "@jupyter-widgets/controls",
      "model_module_version": "1.5.0",
      "model_name": "FloatProgressModel",
      "state": {
       "_dom_classes": [],
       "_model_module": "@jupyter-widgets/controls",
       "_model_module_version": "1.5.0",
       "_model_name": "FloatProgressModel",
       "_view_count": null,
       "_view_module": "@jupyter-widgets/controls",
       "_view_module_version": "1.5.0",
       "_view_name": "ProgressView",
       "bar_style": "success",
       "description": "",
       "description_tooltip": null,
       "layout": "IPY_MODEL_a305fedcc1fd4191ba36a5709aee04f4",
       "max": 2.0,
       "min": 0.0,
       "orientation": "horizontal",
       "style": "IPY_MODEL_f9469461317c44b5beb8cc94823e448d",
       "value": 2.0
      }
     },
     "fa17a9ccc48840858e2436e2979089dc": {
      "model_module": "@jupyter-widgets/base",
      "model_module_version": "1.2.0",
      "model_name": "LayoutModel",
      "state": {
       "_model_module": "@jupyter-widgets/base",
       "_model_module_version": "1.2.0",
       "_model_name": "LayoutModel",
       "_view_count": null,
       "_view_module": "@jupyter-widgets/base",
       "_view_module_version": "1.2.0",
       "_view_name": "LayoutView",
       "align_content": null,
       "align_items": null,
       "align_self": null,
       "border": null,
       "bottom": null,
       "display": null,
       "flex": null,
       "flex_flow": null,
       "grid_area": null,
       "grid_auto_columns": null,
       "grid_auto_flow": null,
       "grid_auto_rows": null,
       "grid_column": null,
       "grid_gap": null,
       "grid_row": null,
       "grid_template_areas": null,
       "grid_template_columns": null,
       "grid_template_rows": null,
       "height": null,
       "justify_content": null,
       "justify_items": null,
       "left": null,
       "margin": null,
       "max_height": null,
       "max_width": null,
       "min_height": null,
       "min_width": null,
       "object_fit": null,
       "object_position": null,
       "order": null,
       "overflow": null,
       "overflow_x": null,
       "overflow_y": null,
       "padding": null,
       "right": null,
       "top": null,
       "visibility": null,
       "width": null
      }
     },
     "fe9b8c6d382c4fc39cdd8d6e4e6dff41": {
      "model_module": "@jupyter-widgets/base",
      "model_module_version": "1.2.0",
      "model_name": "LayoutModel",
      "state": {
       "_model_module": "@jupyter-widgets/base",
       "_model_module_version": "1.2.0",
       "_model_name": "LayoutModel",
       "_view_count": null,
       "_view_module": "@jupyter-widgets/base",
       "_view_module_version": "1.2.0",
       "_view_name": "LayoutView",
       "align_content": null,
       "align_items": null,
       "align_self": null,
       "border": null,
       "bottom": null,
       "display": null,
       "flex": null,
       "flex_flow": null,
       "grid_area": null,
       "grid_auto_columns": null,
       "grid_auto_flow": null,
       "grid_auto_rows": null,
       "grid_column": null,
       "grid_gap": null,
       "grid_row": null,
       "grid_template_areas": null,
       "grid_template_columns": null,
       "grid_template_rows": null,
       "height": null,
       "justify_content": null,
       "justify_items": null,
       "left": null,
       "margin": null,
       "max_height": null,
       "max_width": null,
       "min_height": null,
       "min_width": null,
       "object_fit": null,
       "object_position": null,
       "order": null,
       "overflow": null,
       "overflow_x": null,
       "overflow_y": null,
       "padding": null,
       "right": null,
       "top": null,
       "visibility": null,
       "width": null
      }
     },
     "fed77baafa5e4d568f97782fb7da311b": {
      "model_module": "@jupyter-widgets/base",
      "model_module_version": "1.2.0",
      "model_name": "LayoutModel",
      "state": {
       "_model_module": "@jupyter-widgets/base",
       "_model_module_version": "1.2.0",
       "_model_name": "LayoutModel",
       "_view_count": null,
       "_view_module": "@jupyter-widgets/base",
       "_view_module_version": "1.2.0",
       "_view_name": "LayoutView",
       "align_content": null,
       "align_items": null,
       "align_self": null,
       "border": null,
       "bottom": null,
       "display": null,
       "flex": null,
       "flex_flow": null,
       "grid_area": null,
       "grid_auto_columns": null,
       "grid_auto_flow": null,
       "grid_auto_rows": null,
       "grid_column": null,
       "grid_gap": null,
       "grid_row": null,
       "grid_template_areas": null,
       "grid_template_columns": null,
       "grid_template_rows": null,
       "height": null,
       "justify_content": null,
       "justify_items": null,
       "left": null,
       "margin": null,
       "max_height": null,
       "max_width": null,
       "min_height": null,
       "min_width": null,
       "object_fit": null,
       "object_position": null,
       "order": null,
       "overflow": null,
       "overflow_x": null,
       "overflow_y": null,
       "padding": null,
       "right": null,
       "top": null,
       "visibility": null,
       "width": null
      }
     }
    },
    "version_major": 2,
    "version_minor": 0
   }
  }
 },
 "nbformat": 4,
 "nbformat_minor": 5
}
